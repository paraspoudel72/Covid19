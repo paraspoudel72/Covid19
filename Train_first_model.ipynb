{
  "nbformat": 4,
  "nbformat_minor": 0,
  "metadata": {
    "colab": {
      "provenance": []
    },
    "kernelspec": {
      "name": "python3",
      "display_name": "Python 3"
    },
    "language_info": {
      "name": "python"
    },
    "accelerator": "GPU",
    "gpuClass": "standard"
  },
  "cells": [
    {
      "cell_type": "code",
      "execution_count": null,
      "metadata": {
        "colab": {
          "base_uri": "https://localhost:8080/"
        },
        "id": "aLONudmCGGYB",
        "outputId": "746dfb62-3e08-4938-e235-759c520ed111"
      },
      "outputs": [
        {
          "output_type": "stream",
          "name": "stdout",
          "text": [
            "Mounted at /content/drive\n"
          ]
        }
      ],
      "source": [
        "from google.colab import drive\n",
        "drive.mount(\"/content/drive\")"
      ]
    },
    {
      "cell_type": "code",
      "source": [
        "#Importing necessary libraries\n",
        "import pandas as pd\n",
        "import nltk\n",
        "nltk.download('stopwords')\n",
        "import logging\n",
        "from numpy import random\n",
        "from nltk.corpus import stopwords\n",
        "import re\n",
        "from nltk.util import ngrams\n",
        "import random\n",
        "from nltk.corpus import wordnet\n",
        "nltk.download('punkt')\n",
        "nltk.download('wordnet')\n",
        "nltk.download('omw-1.4')\n",
        "from nltk.tokenize import word_tokenize"
      ],
      "metadata": {
        "id": "ic-sqF79GLP4",
        "colab": {
          "base_uri": "https://localhost:8080/"
        },
        "outputId": "311d28f3-f285-46a7-d806-507a29619ae7"
      },
      "execution_count": null,
      "outputs": [
        {
          "output_type": "stream",
          "name": "stderr",
          "text": [
            "[nltk_data] Downloading package stopwords to /root/nltk_data...\n",
            "[nltk_data]   Unzipping corpora/stopwords.zip.\n",
            "[nltk_data] Downloading package punkt to /root/nltk_data...\n",
            "[nltk_data]   Unzipping tokenizers/punkt.zip.\n",
            "[nltk_data] Downloading package wordnet to /root/nltk_data...\n",
            "[nltk_data] Downloading package omw-1.4 to /root/nltk_data...\n"
          ]
        }
      ]
    },
    {
      "cell_type": "code",
      "source": [
        "#Loading data from google drive\n",
        "train_data = pd.read_csv(\"/content/drive/MyDrive/dataset/train.csv\")"
      ],
      "metadata": {
        "id": "-PnJnphNGOG6"
      },
      "execution_count": null,
      "outputs": []
    },
    {
      "cell_type": "code",
      "source": [
        "train_data.head()"
      ],
      "metadata": {
        "id": "2sgFtksUGUwL",
        "colab": {
          "base_uri": "https://localhost:8080/",
          "height": 206
        },
        "outputId": "6658984f-b309-43f0-ddb8-d49d37909f15"
      },
      "execution_count": null,
      "outputs": [
        {
          "output_type": "execute_result",
          "data": {
            "text/plain": [
              "           id                                              title  \\\n",
              "0   2009.0642  Completely Self-Supervised Crowd Counting via ...   \n",
              "1  2010.13821  Wavelet Flow: Fast Training of High Resolution...   \n",
              "2  1904.12782  Transversally Elliptic Complex and Cohomologic...   \n",
              "3  2105.00878  On the Malliavin-Rubel theorem on small entire...   \n",
              "4  1906.04024          On the Odd Cycle Game and Connected Rules   \n",
              "\n",
              "                                            abstract category  \n",
              "0    Dense crowd counting is a challenging task t...       cs  \n",
              "1    Normalizing flows are a class of probabilist...       cs  \n",
              "2    This work is a continuation of our previous ...     math  \n",
              "3    In the early 1960s, P. Malliavin and L. A. R...     math  \n",
              "4    We study the positional game where two playe...     math  "
            ],
            "text/html": [
              "\n",
              "  <div id=\"df-f95f3273-34ab-49c9-9d72-02b1ddf3e572\">\n",
              "    <div class=\"colab-df-container\">\n",
              "      <div>\n",
              "<style scoped>\n",
              "    .dataframe tbody tr th:only-of-type {\n",
              "        vertical-align: middle;\n",
              "    }\n",
              "\n",
              "    .dataframe tbody tr th {\n",
              "        vertical-align: top;\n",
              "    }\n",
              "\n",
              "    .dataframe thead th {\n",
              "        text-align: right;\n",
              "    }\n",
              "</style>\n",
              "<table border=\"1\" class=\"dataframe\">\n",
              "  <thead>\n",
              "    <tr style=\"text-align: right;\">\n",
              "      <th></th>\n",
              "      <th>id</th>\n",
              "      <th>title</th>\n",
              "      <th>abstract</th>\n",
              "      <th>category</th>\n",
              "    </tr>\n",
              "  </thead>\n",
              "  <tbody>\n",
              "    <tr>\n",
              "      <th>0</th>\n",
              "      <td>2009.0642</td>\n",
              "      <td>Completely Self-Supervised Crowd Counting via ...</td>\n",
              "      <td>Dense crowd counting is a challenging task t...</td>\n",
              "      <td>cs</td>\n",
              "    </tr>\n",
              "    <tr>\n",
              "      <th>1</th>\n",
              "      <td>2010.13821</td>\n",
              "      <td>Wavelet Flow: Fast Training of High Resolution...</td>\n",
              "      <td>Normalizing flows are a class of probabilist...</td>\n",
              "      <td>cs</td>\n",
              "    </tr>\n",
              "    <tr>\n",
              "      <th>2</th>\n",
              "      <td>1904.12782</td>\n",
              "      <td>Transversally Elliptic Complex and Cohomologic...</td>\n",
              "      <td>This work is a continuation of our previous ...</td>\n",
              "      <td>math</td>\n",
              "    </tr>\n",
              "    <tr>\n",
              "      <th>3</th>\n",
              "      <td>2105.00878</td>\n",
              "      <td>On the Malliavin-Rubel theorem on small entire...</td>\n",
              "      <td>In the early 1960s, P. Malliavin and L. A. R...</td>\n",
              "      <td>math</td>\n",
              "    </tr>\n",
              "    <tr>\n",
              "      <th>4</th>\n",
              "      <td>1906.04024</td>\n",
              "      <td>On the Odd Cycle Game and Connected Rules</td>\n",
              "      <td>We study the positional game where two playe...</td>\n",
              "      <td>math</td>\n",
              "    </tr>\n",
              "  </tbody>\n",
              "</table>\n",
              "</div>\n",
              "      <button class=\"colab-df-convert\" onclick=\"convertToInteractive('df-f95f3273-34ab-49c9-9d72-02b1ddf3e572')\"\n",
              "              title=\"Convert this dataframe to an interactive table.\"\n",
              "              style=\"display:none;\">\n",
              "        \n",
              "  <svg xmlns=\"http://www.w3.org/2000/svg\" height=\"24px\"viewBox=\"0 0 24 24\"\n",
              "       width=\"24px\">\n",
              "    <path d=\"M0 0h24v24H0V0z\" fill=\"none\"/>\n",
              "    <path d=\"M18.56 5.44l.94 2.06.94-2.06 2.06-.94-2.06-.94-.94-2.06-.94 2.06-2.06.94zm-11 1L8.5 8.5l.94-2.06 2.06-.94-2.06-.94L8.5 2.5l-.94 2.06-2.06.94zm10 10l.94 2.06.94-2.06 2.06-.94-2.06-.94-.94-2.06-.94 2.06-2.06.94z\"/><path d=\"M17.41 7.96l-1.37-1.37c-.4-.4-.92-.59-1.43-.59-.52 0-1.04.2-1.43.59L10.3 9.45l-7.72 7.72c-.78.78-.78 2.05 0 2.83L4 21.41c.39.39.9.59 1.41.59.51 0 1.02-.2 1.41-.59l7.78-7.78 2.81-2.81c.8-.78.8-2.07 0-2.86zM5.41 20L4 18.59l7.72-7.72 1.47 1.35L5.41 20z\"/>\n",
              "  </svg>\n",
              "      </button>\n",
              "      \n",
              "  <style>\n",
              "    .colab-df-container {\n",
              "      display:flex;\n",
              "      flex-wrap:wrap;\n",
              "      gap: 12px;\n",
              "    }\n",
              "\n",
              "    .colab-df-convert {\n",
              "      background-color: #E8F0FE;\n",
              "      border: none;\n",
              "      border-radius: 50%;\n",
              "      cursor: pointer;\n",
              "      display: none;\n",
              "      fill: #1967D2;\n",
              "      height: 32px;\n",
              "      padding: 0 0 0 0;\n",
              "      width: 32px;\n",
              "    }\n",
              "\n",
              "    .colab-df-convert:hover {\n",
              "      background-color: #E2EBFA;\n",
              "      box-shadow: 0px 1px 2px rgba(60, 64, 67, 0.3), 0px 1px 3px 1px rgba(60, 64, 67, 0.15);\n",
              "      fill: #174EA6;\n",
              "    }\n",
              "\n",
              "    [theme=dark] .colab-df-convert {\n",
              "      background-color: #3B4455;\n",
              "      fill: #D2E3FC;\n",
              "    }\n",
              "\n",
              "    [theme=dark] .colab-df-convert:hover {\n",
              "      background-color: #434B5C;\n",
              "      box-shadow: 0px 1px 3px 1px rgba(0, 0, 0, 0.15);\n",
              "      filter: drop-shadow(0px 1px 2px rgba(0, 0, 0, 0.3));\n",
              "      fill: #FFFFFF;\n",
              "    }\n",
              "  </style>\n",
              "\n",
              "      <script>\n",
              "        const buttonEl =\n",
              "          document.querySelector('#df-f95f3273-34ab-49c9-9d72-02b1ddf3e572 button.colab-df-convert');\n",
              "        buttonEl.style.display =\n",
              "          google.colab.kernel.accessAllowed ? 'block' : 'none';\n",
              "\n",
              "        async function convertToInteractive(key) {\n",
              "          const element = document.querySelector('#df-f95f3273-34ab-49c9-9d72-02b1ddf3e572');\n",
              "          const dataTable =\n",
              "            await google.colab.kernel.invokeFunction('convertToInteractive',\n",
              "                                                     [key], {});\n",
              "          if (!dataTable) return;\n",
              "\n",
              "          const docLinkHtml = 'Like what you see? Visit the ' +\n",
              "            '<a target=\"_blank\" href=https://colab.research.google.com/notebooks/data_table.ipynb>data table notebook</a>'\n",
              "            + ' to learn more about interactive tables.';\n",
              "          element.innerHTML = '';\n",
              "          dataTable['output_type'] = 'display_data';\n",
              "          await google.colab.output.renderOutput(dataTable, element);\n",
              "          const docLink = document.createElement('div');\n",
              "          docLink.innerHTML = docLinkHtml;\n",
              "          element.appendChild(docLink);\n",
              "        }\n",
              "      </script>\n",
              "    </div>\n",
              "  </div>\n",
              "  "
            ]
          },
          "metadata": {},
          "execution_count": 4
        }
      ]
    },
    {
      "cell_type": "code",
      "source": [
        "#Let's visualize data distribution\n",
        "train_data['category'].value_counts()"
      ],
      "metadata": {
        "id": "G8IwC-6KGWn3",
        "colab": {
          "base_uri": "https://localhost:8080/"
        },
        "outputId": "4eb22cc5-36a7-4988-cd43-d61f63c21235"
      },
      "execution_count": null,
      "outputs": [
        {
          "output_type": "execute_result",
          "data": {
            "text/plain": [
              "cs          262503\n",
              "math        177679\n",
              "cond-mat     71772\n",
              "physics      66282\n",
              "astro-ph     58737\n",
              "stat         51308\n",
              "eess         34330\n",
              "quant-ph     25171\n",
              "hep-th       19706\n",
              "hep-ph       19207\n",
              "gr-qc        15590\n",
              "math-ph      12238\n",
              "q-bio        10530\n",
              "hep-ex        7435\n",
              "nucl-th       6662\n",
              "nlin          6047\n",
              "q-fin         5942\n",
              "econ          3924\n",
              "nucl-ex       3627\n",
              "hep-lat       2538\n",
              "q-alg            2\n",
              "funct-an         1\n",
              "alg-geom         1\n",
              "Name: category, dtype: int64"
            ]
          },
          "metadata": {},
          "execution_count": 5
        }
      ]
    },
    {
      "cell_type": "code",
      "source": [
        "#Drop duplicate values\n",
        "train_data = train_data.drop_duplicates(subset='title')\n",
        "train_data['category'].value_counts()"
      ],
      "metadata": {
        "colab": {
          "base_uri": "https://localhost:8080/"
        },
        "id": "XomngL7hOGSE",
        "outputId": "073bed59-1815-4713-b56f-429979d272ec"
      },
      "execution_count": null,
      "outputs": [
        {
          "output_type": "execute_result",
          "data": {
            "text/plain": [
              "cs          139225\n",
              "math        105146\n",
              "cond-mat     42786\n",
              "physics      38243\n",
              "astro-ph     38039\n",
              "stat         22745\n",
              "quant-ph     16020\n",
              "eess         15843\n",
              "hep-ph       11400\n",
              "hep-th       10690\n",
              "gr-qc         8662\n",
              "q-bio         5665\n",
              "hep-ex        3950\n",
              "math-ph       3822\n",
              "nucl-th       3517\n",
              "q-fin         3053\n",
              "nlin          2894\n",
              "econ          2050\n",
              "nucl-ex       1788\n",
              "hep-lat       1132\n",
              "funct-an         1\n",
              "alg-geom         1\n",
              "Name: category, dtype: int64"
            ]
          },
          "metadata": {},
          "execution_count": 6
        }
      ]
    },
    {
      "cell_type": "code",
      "source": [
        "#dropping rows with just 1 sample\n",
        "df = train_data[~train_data['category'].isin(['funct-an', 'alg-geom'])]"
      ],
      "metadata": {
        "id": "MCHdKxpJGa2q"
      },
      "execution_count": null,
      "outputs": []
    },
    {
      "cell_type": "code",
      "source": [
        "#Cleaning text data\n",
        "REPLACE_BY_SPACE_RE = re.compile('[/(){}\\[\\]\\|@,;]')\n",
        "BAD_SYMBOLS_RE = re.compile('[^0-9a-z #+_]')\n",
        "STOPWORDS = set(stopwords.words('english'))\n",
        "\n",
        "def clean_text(text):\n",
        "    text = text.lower() # lowercase text\n",
        "    text = REPLACE_BY_SPACE_RE.sub(' ', text) # replace REPLACE_BY_SPACE_RE symbols by space in text\n",
        "    text = BAD_SYMBOLS_RE.sub(' ', text) # delete symbols which are in BAD_SYMBOLS_RE from text\n",
        "    text = ' '.join(word for word in text.split() if word not in STOPWORDS) # delete stopwors from text\n",
        "    return text\n",
        "\n",
        "df['abstract'] = df['abstract'].apply(clean_text)\n",
        "df['title'] = df['title'].apply(clean_text)"
      ],
      "metadata": {
        "id": "nbUDUTIBGdlp",
        "colab": {
          "base_uri": "https://localhost:8080/"
        },
        "outputId": "4d121b47-95e8-4231-e28f-3a01e55e7266"
      },
      "execution_count": null,
      "outputs": [
        {
          "output_type": "stream",
          "name": "stderr",
          "text": [
            "<ipython-input-8-5cd7b47524b9>:13: SettingWithCopyWarning: \n",
            "A value is trying to be set on a copy of a slice from a DataFrame.\n",
            "Try using .loc[row_indexer,col_indexer] = value instead\n",
            "\n",
            "See the caveats in the documentation: https://pandas.pydata.org/pandas-docs/stable/user_guide/indexing.html#returning-a-view-versus-a-copy\n",
            "  df['abstract'] = df['abstract'].apply(clean_text)\n",
            "<ipython-input-8-5cd7b47524b9>:14: SettingWithCopyWarning: \n",
            "A value is trying to be set on a copy of a slice from a DataFrame.\n",
            "Try using .loc[row_indexer,col_indexer] = value instead\n",
            "\n",
            "See the caveats in the documentation: https://pandas.pydata.org/pandas-docs/stable/user_guide/indexing.html#returning-a-view-versus-a-copy\n",
            "  df['title'] = df['title'].apply(clean_text)\n"
          ]
        }
      ]
    },
    {
      "cell_type": "code",
      "source": [
        "#Visualize\n",
        "df['category'].value_counts()"
      ],
      "metadata": {
        "id": "eJYb5lsZGf0r",
        "colab": {
          "base_uri": "https://localhost:8080/"
        },
        "outputId": "64627fc2-e718-43ab-e640-ca19235a9a0f"
      },
      "execution_count": null,
      "outputs": [
        {
          "output_type": "execute_result",
          "data": {
            "text/plain": [
              "cs          139225\n",
              "math        105146\n",
              "cond-mat     42786\n",
              "physics      38243\n",
              "astro-ph     38039\n",
              "stat         22745\n",
              "quant-ph     16020\n",
              "eess         15843\n",
              "hep-ph       11400\n",
              "hep-th       10690\n",
              "gr-qc         8662\n",
              "q-bio         5665\n",
              "hep-ex        3950\n",
              "math-ph       3822\n",
              "nucl-th       3517\n",
              "q-fin         3053\n",
              "nlin          2894\n",
              "econ          2050\n",
              "nucl-ex       1788\n",
              "hep-lat       1132\n",
              "Name: category, dtype: int64"
            ]
          },
          "metadata": {},
          "execution_count": 9
        }
      ]
    },
    {
      "cell_type": "code",
      "source": [
        "len(df)"
      ],
      "metadata": {
        "colab": {
          "base_uri": "https://localhost:8080/"
        },
        "id": "tP5uKuPehE1A",
        "outputId": "d3de4f5a-02aa-449e-9b3b-507ab6735840"
      },
      "execution_count": null,
      "outputs": [
        {
          "output_type": "execute_result",
          "data": {
            "text/plain": [
              "476670"
            ]
          },
          "metadata": {},
          "execution_count": 10
        }
      ]
    },
    {
      "cell_type": "markdown",
      "source": [
        "Since some classes have very few data, let's try to generate more data through augmentation so that the model will have enough data to be trained later."
      ],
      "metadata": {
        "id": "txlfv8nk0rXP"
      }
    },
    {
      "cell_type": "code",
      "source": [
        "#Function for text augmentation\n",
        "#thorai data vako class ma apply gareko xa, to generate more data\n",
        "def augment(sentences):\n",
        "\n",
        "  augmented_sentences = []\n",
        "\n",
        "  for sentence in sentences:\n",
        "    tokens = word_tokenize(sentence)\n",
        "    new_tokens = []\n",
        "    for token in tokens:\n",
        "        synonyms = wordnet.synsets(token)\n",
        "        if synonyms:\n",
        "            new_token = random.choice(synonyms).lemmas()[0].name()\n",
        "            new_tokens.append(new_token)\n",
        "        else:\n",
        "            new_tokens.append(token)\n",
        "    augmented_sentence = \" \".join(new_tokens)\n",
        "    augmented_sentences.append(augmented_sentence)\n",
        "\n",
        "  return(augmented_sentences)"
      ],
      "metadata": {
        "id": "V-HIUh-AGiBe"
      },
      "execution_count": null,
      "outputs": []
    },
    {
      "cell_type": "code",
      "source": [
        "#Creating a copy\n",
        "df_copy = df.copy()"
      ],
      "metadata": {
        "id": "l0hmltQrqxRn"
      },
      "execution_count": null,
      "outputs": []
    },
    {
      "cell_type": "code",
      "source": [
        "df_copy['category'].value_counts()"
      ],
      "metadata": {
        "id": "18rHmwl-Glj4",
        "colab": {
          "base_uri": "https://localhost:8080/"
        },
        "outputId": "9b8cdc1f-8780-4bd9-9dab-854fbddceccc"
      },
      "execution_count": null,
      "outputs": [
        {
          "output_type": "execute_result",
          "data": {
            "text/plain": [
              "cs          139225\n",
              "math        105146\n",
              "cond-mat     42786\n",
              "physics      38243\n",
              "astro-ph     38039\n",
              "stat         22745\n",
              "quant-ph     16020\n",
              "eess         15843\n",
              "hep-ph       11400\n",
              "hep-th       10690\n",
              "gr-qc         8662\n",
              "q-bio         5665\n",
              "hep-ex        3950\n",
              "math-ph       3822\n",
              "nucl-th       3517\n",
              "q-fin         3053\n",
              "nlin          2894\n",
              "econ          2050\n",
              "nucl-ex       1788\n",
              "hep-lat       1132\n",
              "Name: category, dtype: int64"
            ]
          },
          "metadata": {},
          "execution_count": 13
        }
      ]
    },
    {
      "cell_type": "code",
      "source": [
        "#Listing classes which have low number of data\n",
        "less = ['gr-qc', 'q-bio', 'hep-ex', 'math-ph', 'nucl-th', 'q-fin', 'nlin', 'econ', 'nucl-ex', 'hep-lat']"
      ],
      "metadata": {
        "id": "EeiBB-6iGnz-"
      },
      "execution_count": null,
      "outputs": []
    },
    {
      "cell_type": "code",
      "source": [
        "#classes with extremely high number of training data\n",
        "#excess data vako class bata chai data remove garinxa (after sometime)\n",
        "more = ['cs', 'math']\n",
        "import numpy as np"
      ],
      "metadata": {
        "id": "bzXJB9qSWXKQ"
      },
      "execution_count": null,
      "outputs": []
    },
    {
      "cell_type": "code",
      "source": [
        "#some ugly code\n",
        "#ke trick le ramro banauna sakxau vane give it a try\n",
        "A = df.loc[df['category'] == 'gr-qc']\n",
        "B = df.loc[df['category'] == 'q-bio']\n",
        "C = df.loc[df['category'] == 'hep-ex']\n",
        "D = df.loc[df['category'] == 'math-ph']\n",
        "E = df.loc[df['category'] == 'nucl-th']\n",
        "F = df.loc[df['category'] == 'q-fin']\n",
        "G = df.loc[df['category'] == 'nlin']\n",
        "H = df.loc[df['category'] == 'econ']\n",
        "I = df.loc[df['category'] == 'nucl-ex']\n",
        "J = df.loc[df['category'] == 'hep-lat']"
      ],
      "metadata": {
        "id": "Qs1ihePfGqSF"
      },
      "execution_count": null,
      "outputs": []
    },
    {
      "cell_type": "code",
      "source": [
        "#some more ugly code XD\n",
        "A1 = A['title'].values\n",
        "A2 = A['abstract'].values\n",
        "B1 = B['title'].values\n",
        "B2 = B['abstract'].values\n",
        "C1 = C['title'].values\n",
        "C2 = C['abstract'].values\n",
        "D1 = D['title'].values\n",
        "D2 = D['abstract'].values\n",
        "E1 = E['title'].values\n",
        "E2 = E['abstract'].values\n",
        "F1 = F['title'].values\n",
        "F2 = F['abstract'].values\n",
        "G1 = G['title'].values\n",
        "G2 = G['abstract'].values\n",
        "H1 = H['title'].values\n",
        "H2 = H['abstract'].values\n",
        "I1 = I['title'].values\n",
        "I2 = I['abstract'].values\n",
        "J1 = J['title'].values\n",
        "J2 = J['abstract'].values"
      ],
      "metadata": {
        "id": "LN8LQojhGtKt"
      },
      "execution_count": null,
      "outputs": []
    },
    {
      "cell_type": "code",
      "source": [
        "A11 = augment(A1)\n",
        "A21 = augment(A2)\n",
        "B11 = augment(B1)\n",
        "B21 = augment(B2)\n",
        "C11 = augment(C1)\n",
        "C21 = augment(C2)\n",
        "D11 = augment(D1)\n",
        "D21 = augment(D2)\n",
        "E11 = augment(E1)\n",
        "E21 = augment(E2)\n",
        "F11 = augment(F1)\n",
        "F21 = augment(F2)\n",
        "G11 = augment(G1)\n",
        "G21 = augment(G2)\n",
        "H11 = augment(H1)\n",
        "H21 = augment(H2)\n",
        "I11 = augment(I1)\n",
        "I21 = augment(I2)\n",
        "J11 = augment(J1)\n",
        "J21 = augment(J2)"
      ],
      "metadata": {
        "id": "kzHJCOdZG0J2"
      },
      "execution_count": null,
      "outputs": []
    },
    {
      "cell_type": "code",
      "source": [
        "# Create a DataFrame from the lists\n",
        "#less = ['gr-qc', 'q-bio', 'hep-ex', 'math-ph', 'nucl-th', 'q-fin', 'nlin', 'econ', 'nucl-ex', 'hep-lat']\n",
        "dfA = pd.DataFrame({'title': A11, 'abstract': A21, 'category':'gr-qc'})\n",
        "dfB = pd.DataFrame({'title': B11, 'abstract': B21, 'category':'q-bio'})\n",
        "dfC = pd.DataFrame({'title': C11, 'abstract': C21, 'category':'hep-ex'})\n",
        "dfD = pd.DataFrame({'title': D11, 'abstract': D21, 'category':'math-ph'})\n",
        "dfE = pd.DataFrame({'title': E11, 'abstract': E21, 'category':'nucl-th'})\n",
        "dfF = pd.DataFrame({'title': F11, 'abstract': F21, 'category':'q-fin'})\n",
        "dfG = pd.DataFrame({'title': G11, 'abstract': G21, 'category':'nlin'})\n",
        "dfH = pd.DataFrame({'title': H11, 'abstract': H21, 'category':'econ'})\n",
        "dfI = pd.DataFrame({'title': I11, 'abstract': I21, 'category':'nucl-ex'})\n",
        "dfJ = pd.DataFrame({'title': J11, 'abstract': J21, 'category':'hep-lat'})"
      ],
      "metadata": {
        "id": "rhxlG81WKJAY"
      },
      "execution_count": null,
      "outputs": []
    },
    {
      "cell_type": "markdown",
      "source": [
        "Yo result_df ma hamile regenerate gareko data xa (10 ota class ko data)"
      ],
      "metadata": {
        "id": "Cjkr6NJ01-eB"
      }
    },
    {
      "cell_type": "markdown",
      "source": [
        "result_df contains data generated from text augmentation"
      ],
      "metadata": {
        "id": "g0OaZRsc2NxV"
      }
    },
    {
      "cell_type": "code",
      "source": [
        "result_df = pd.concat([dfA, dfB, dfC, dfD, dfE, dfF, dfG, dfH, dfI, dfJ], ignore_index=True)"
      ],
      "metadata": {
        "id": "wUtrtNIQgL1R"
      },
      "execution_count": null,
      "outputs": []
    },
    {
      "cell_type": "code",
      "source": [
        "#Let's visualize\n",
        "result_df.tail()"
      ],
      "metadata": {
        "colab": {
          "base_uri": "https://localhost:8080/",
          "height": 206
        },
        "id": "I2pYtCQ3gV0s",
        "outputId": "064bb1f7-fbc9-4c31-d47c-cd5ccb5a8e8c"
      },
      "execution_count": null,
      "outputs": [
        {
          "output_type": "execute_result",
          "data": {
            "text/plain": [
              "                                                   title  \\\n",
              "36528  meson spectrum su nitrogen estimate theory qua...   \n",
              "36529           actual time evolution heavy quark glasma   \n",
              "36530  color electric correlation function gradient flow   \n",
              "36531  analyze pion pion scattering combination propa...   \n",
              "36532               wicket barn phase agent radius v_ cb   \n",
              "\n",
              "                                                abstract category  \n",
              "36528  gauge theory gauge group su N quark belong arb...  hep-lat  \n",
              "36529  inaugurate fresh real fourth_dimension concept...  hep-lat  \n",
              "36530  report_card advance study color electric corre...  hep-lat  \n",
              "36531  paper reputation Holocene development hal quan...  hep-lat  \n",
              "36532  discus Holocene progress lattice calculation b...  hep-lat  "
            ],
            "text/html": [
              "\n",
              "  <div id=\"df-d615c03d-add9-4443-8a9f-98b11177bdf8\">\n",
              "    <div class=\"colab-df-container\">\n",
              "      <div>\n",
              "<style scoped>\n",
              "    .dataframe tbody tr th:only-of-type {\n",
              "        vertical-align: middle;\n",
              "    }\n",
              "\n",
              "    .dataframe tbody tr th {\n",
              "        vertical-align: top;\n",
              "    }\n",
              "\n",
              "    .dataframe thead th {\n",
              "        text-align: right;\n",
              "    }\n",
              "</style>\n",
              "<table border=\"1\" class=\"dataframe\">\n",
              "  <thead>\n",
              "    <tr style=\"text-align: right;\">\n",
              "      <th></th>\n",
              "      <th>title</th>\n",
              "      <th>abstract</th>\n",
              "      <th>category</th>\n",
              "    </tr>\n",
              "  </thead>\n",
              "  <tbody>\n",
              "    <tr>\n",
              "      <th>36528</th>\n",
              "      <td>meson spectrum su nitrogen estimate theory qua...</td>\n",
              "      <td>gauge theory gauge group su N quark belong arb...</td>\n",
              "      <td>hep-lat</td>\n",
              "    </tr>\n",
              "    <tr>\n",
              "      <th>36529</th>\n",
              "      <td>actual time evolution heavy quark glasma</td>\n",
              "      <td>inaugurate fresh real fourth_dimension concept...</td>\n",
              "      <td>hep-lat</td>\n",
              "    </tr>\n",
              "    <tr>\n",
              "      <th>36530</th>\n",
              "      <td>color electric correlation function gradient flow</td>\n",
              "      <td>report_card advance study color electric corre...</td>\n",
              "      <td>hep-lat</td>\n",
              "    </tr>\n",
              "    <tr>\n",
              "      <th>36531</th>\n",
              "      <td>analyze pion pion scattering combination propa...</td>\n",
              "      <td>paper reputation Holocene development hal quan...</td>\n",
              "      <td>hep-lat</td>\n",
              "    </tr>\n",
              "    <tr>\n",
              "      <th>36532</th>\n",
              "      <td>wicket barn phase agent radius v_ cb</td>\n",
              "      <td>discus Holocene progress lattice calculation b...</td>\n",
              "      <td>hep-lat</td>\n",
              "    </tr>\n",
              "  </tbody>\n",
              "</table>\n",
              "</div>\n",
              "      <button class=\"colab-df-convert\" onclick=\"convertToInteractive('df-d615c03d-add9-4443-8a9f-98b11177bdf8')\"\n",
              "              title=\"Convert this dataframe to an interactive table.\"\n",
              "              style=\"display:none;\">\n",
              "        \n",
              "  <svg xmlns=\"http://www.w3.org/2000/svg\" height=\"24px\"viewBox=\"0 0 24 24\"\n",
              "       width=\"24px\">\n",
              "    <path d=\"M0 0h24v24H0V0z\" fill=\"none\"/>\n",
              "    <path d=\"M18.56 5.44l.94 2.06.94-2.06 2.06-.94-2.06-.94-.94-2.06-.94 2.06-2.06.94zm-11 1L8.5 8.5l.94-2.06 2.06-.94-2.06-.94L8.5 2.5l-.94 2.06-2.06.94zm10 10l.94 2.06.94-2.06 2.06-.94-2.06-.94-.94-2.06-.94 2.06-2.06.94z\"/><path d=\"M17.41 7.96l-1.37-1.37c-.4-.4-.92-.59-1.43-.59-.52 0-1.04.2-1.43.59L10.3 9.45l-7.72 7.72c-.78.78-.78 2.05 0 2.83L4 21.41c.39.39.9.59 1.41.59.51 0 1.02-.2 1.41-.59l7.78-7.78 2.81-2.81c.8-.78.8-2.07 0-2.86zM5.41 20L4 18.59l7.72-7.72 1.47 1.35L5.41 20z\"/>\n",
              "  </svg>\n",
              "      </button>\n",
              "      \n",
              "  <style>\n",
              "    .colab-df-container {\n",
              "      display:flex;\n",
              "      flex-wrap:wrap;\n",
              "      gap: 12px;\n",
              "    }\n",
              "\n",
              "    .colab-df-convert {\n",
              "      background-color: #E8F0FE;\n",
              "      border: none;\n",
              "      border-radius: 50%;\n",
              "      cursor: pointer;\n",
              "      display: none;\n",
              "      fill: #1967D2;\n",
              "      height: 32px;\n",
              "      padding: 0 0 0 0;\n",
              "      width: 32px;\n",
              "    }\n",
              "\n",
              "    .colab-df-convert:hover {\n",
              "      background-color: #E2EBFA;\n",
              "      box-shadow: 0px 1px 2px rgba(60, 64, 67, 0.3), 0px 1px 3px 1px rgba(60, 64, 67, 0.15);\n",
              "      fill: #174EA6;\n",
              "    }\n",
              "\n",
              "    [theme=dark] .colab-df-convert {\n",
              "      background-color: #3B4455;\n",
              "      fill: #D2E3FC;\n",
              "    }\n",
              "\n",
              "    [theme=dark] .colab-df-convert:hover {\n",
              "      background-color: #434B5C;\n",
              "      box-shadow: 0px 1px 3px 1px rgba(0, 0, 0, 0.15);\n",
              "      filter: drop-shadow(0px 1px 2px rgba(0, 0, 0, 0.3));\n",
              "      fill: #FFFFFF;\n",
              "    }\n",
              "  </style>\n",
              "\n",
              "      <script>\n",
              "        const buttonEl =\n",
              "          document.querySelector('#df-d615c03d-add9-4443-8a9f-98b11177bdf8 button.colab-df-convert');\n",
              "        buttonEl.style.display =\n",
              "          google.colab.kernel.accessAllowed ? 'block' : 'none';\n",
              "\n",
              "        async function convertToInteractive(key) {\n",
              "          const element = document.querySelector('#df-d615c03d-add9-4443-8a9f-98b11177bdf8');\n",
              "          const dataTable =\n",
              "            await google.colab.kernel.invokeFunction('convertToInteractive',\n",
              "                                                     [key], {});\n",
              "          if (!dataTable) return;\n",
              "\n",
              "          const docLinkHtml = 'Like what you see? Visit the ' +\n",
              "            '<a target=\"_blank\" href=https://colab.research.google.com/notebooks/data_table.ipynb>data table notebook</a>'\n",
              "            + ' to learn more about interactive tables.';\n",
              "          element.innerHTML = '';\n",
              "          dataTable['output_type'] = 'display_data';\n",
              "          await google.colab.output.renderOutput(dataTable, element);\n",
              "          const docLink = document.createElement('div');\n",
              "          docLink.innerHTML = docLinkHtml;\n",
              "          element.appendChild(docLink);\n",
              "        }\n",
              "      </script>\n",
              "    </div>\n",
              "  </div>\n",
              "  "
            ]
          },
          "metadata": {},
          "execution_count": 21
        }
      ]
    },
    {
      "cell_type": "code",
      "source": [
        "#comparision with the original\n",
        "df.tail()"
      ],
      "metadata": {
        "colab": {
          "base_uri": "https://localhost:8080/",
          "height": 206
        },
        "id": "ZmTAIZbegkOs",
        "outputId": "9b445c3c-c4cc-45e9-e33c-10d59dd378e0"
      },
      "execution_count": null,
      "outputs": [
        {
          "output_type": "execute_result",
          "data": {
            "text/plain": [
              "                id                                              title  \\\n",
              "861212  2102.00941  fast greedy subset selection large candidate s...   \n",
              "861221  2106.06956                billiard tables rotational symmetry   \n",
              "861222  1909.02882  implications increased lambda separation energ...   \n",
              "861226  1902.05287  risk management machine learning based algorithms   \n",
              "861233  1904.00375  lightchain dht based blockchain resource const...   \n",
              "\n",
              "                                                 abstract category  \n",
              "861212  subset selection interesting important topic f...       cs  \n",
              "861221  generalize following simple geometric fact cen...     math  \n",
              "861222  stimulated recent indications binding energy h...  nucl-th  \n",
              "861226  propose machine learning based algorithms solv...    q-fin  \n",
              "861233  append distributed database blockchain utilize...       cs  "
            ],
            "text/html": [
              "\n",
              "  <div id=\"df-dd6b4ab1-4d9f-4346-ab31-35abd53e67d8\">\n",
              "    <div class=\"colab-df-container\">\n",
              "      <div>\n",
              "<style scoped>\n",
              "    .dataframe tbody tr th:only-of-type {\n",
              "        vertical-align: middle;\n",
              "    }\n",
              "\n",
              "    .dataframe tbody tr th {\n",
              "        vertical-align: top;\n",
              "    }\n",
              "\n",
              "    .dataframe thead th {\n",
              "        text-align: right;\n",
              "    }\n",
              "</style>\n",
              "<table border=\"1\" class=\"dataframe\">\n",
              "  <thead>\n",
              "    <tr style=\"text-align: right;\">\n",
              "      <th></th>\n",
              "      <th>id</th>\n",
              "      <th>title</th>\n",
              "      <th>abstract</th>\n",
              "      <th>category</th>\n",
              "    </tr>\n",
              "  </thead>\n",
              "  <tbody>\n",
              "    <tr>\n",
              "      <th>861212</th>\n",
              "      <td>2102.00941</td>\n",
              "      <td>fast greedy subset selection large candidate s...</td>\n",
              "      <td>subset selection interesting important topic f...</td>\n",
              "      <td>cs</td>\n",
              "    </tr>\n",
              "    <tr>\n",
              "      <th>861221</th>\n",
              "      <td>2106.06956</td>\n",
              "      <td>billiard tables rotational symmetry</td>\n",
              "      <td>generalize following simple geometric fact cen...</td>\n",
              "      <td>math</td>\n",
              "    </tr>\n",
              "    <tr>\n",
              "      <th>861222</th>\n",
              "      <td>1909.02882</td>\n",
              "      <td>implications increased lambda separation energ...</td>\n",
              "      <td>stimulated recent indications binding energy h...</td>\n",
              "      <td>nucl-th</td>\n",
              "    </tr>\n",
              "    <tr>\n",
              "      <th>861226</th>\n",
              "      <td>1902.05287</td>\n",
              "      <td>risk management machine learning based algorithms</td>\n",
              "      <td>propose machine learning based algorithms solv...</td>\n",
              "      <td>q-fin</td>\n",
              "    </tr>\n",
              "    <tr>\n",
              "      <th>861233</th>\n",
              "      <td>1904.00375</td>\n",
              "      <td>lightchain dht based blockchain resource const...</td>\n",
              "      <td>append distributed database blockchain utilize...</td>\n",
              "      <td>cs</td>\n",
              "    </tr>\n",
              "  </tbody>\n",
              "</table>\n",
              "</div>\n",
              "      <button class=\"colab-df-convert\" onclick=\"convertToInteractive('df-dd6b4ab1-4d9f-4346-ab31-35abd53e67d8')\"\n",
              "              title=\"Convert this dataframe to an interactive table.\"\n",
              "              style=\"display:none;\">\n",
              "        \n",
              "  <svg xmlns=\"http://www.w3.org/2000/svg\" height=\"24px\"viewBox=\"0 0 24 24\"\n",
              "       width=\"24px\">\n",
              "    <path d=\"M0 0h24v24H0V0z\" fill=\"none\"/>\n",
              "    <path d=\"M18.56 5.44l.94 2.06.94-2.06 2.06-.94-2.06-.94-.94-2.06-.94 2.06-2.06.94zm-11 1L8.5 8.5l.94-2.06 2.06-.94-2.06-.94L8.5 2.5l-.94 2.06-2.06.94zm10 10l.94 2.06.94-2.06 2.06-.94-2.06-.94-.94-2.06-.94 2.06-2.06.94z\"/><path d=\"M17.41 7.96l-1.37-1.37c-.4-.4-.92-.59-1.43-.59-.52 0-1.04.2-1.43.59L10.3 9.45l-7.72 7.72c-.78.78-.78 2.05 0 2.83L4 21.41c.39.39.9.59 1.41.59.51 0 1.02-.2 1.41-.59l7.78-7.78 2.81-2.81c.8-.78.8-2.07 0-2.86zM5.41 20L4 18.59l7.72-7.72 1.47 1.35L5.41 20z\"/>\n",
              "  </svg>\n",
              "      </button>\n",
              "      \n",
              "  <style>\n",
              "    .colab-df-container {\n",
              "      display:flex;\n",
              "      flex-wrap:wrap;\n",
              "      gap: 12px;\n",
              "    }\n",
              "\n",
              "    .colab-df-convert {\n",
              "      background-color: #E8F0FE;\n",
              "      border: none;\n",
              "      border-radius: 50%;\n",
              "      cursor: pointer;\n",
              "      display: none;\n",
              "      fill: #1967D2;\n",
              "      height: 32px;\n",
              "      padding: 0 0 0 0;\n",
              "      width: 32px;\n",
              "    }\n",
              "\n",
              "    .colab-df-convert:hover {\n",
              "      background-color: #E2EBFA;\n",
              "      box-shadow: 0px 1px 2px rgba(60, 64, 67, 0.3), 0px 1px 3px 1px rgba(60, 64, 67, 0.15);\n",
              "      fill: #174EA6;\n",
              "    }\n",
              "\n",
              "    [theme=dark] .colab-df-convert {\n",
              "      background-color: #3B4455;\n",
              "      fill: #D2E3FC;\n",
              "    }\n",
              "\n",
              "    [theme=dark] .colab-df-convert:hover {\n",
              "      background-color: #434B5C;\n",
              "      box-shadow: 0px 1px 3px 1px rgba(0, 0, 0, 0.15);\n",
              "      filter: drop-shadow(0px 1px 2px rgba(0, 0, 0, 0.3));\n",
              "      fill: #FFFFFF;\n",
              "    }\n",
              "  </style>\n",
              "\n",
              "      <script>\n",
              "        const buttonEl =\n",
              "          document.querySelector('#df-dd6b4ab1-4d9f-4346-ab31-35abd53e67d8 button.colab-df-convert');\n",
              "        buttonEl.style.display =\n",
              "          google.colab.kernel.accessAllowed ? 'block' : 'none';\n",
              "\n",
              "        async function convertToInteractive(key) {\n",
              "          const element = document.querySelector('#df-dd6b4ab1-4d9f-4346-ab31-35abd53e67d8');\n",
              "          const dataTable =\n",
              "            await google.colab.kernel.invokeFunction('convertToInteractive',\n",
              "                                                     [key], {});\n",
              "          if (!dataTable) return;\n",
              "\n",
              "          const docLinkHtml = 'Like what you see? Visit the ' +\n",
              "            '<a target=\"_blank\" href=https://colab.research.google.com/notebooks/data_table.ipynb>data table notebook</a>'\n",
              "            + ' to learn more about interactive tables.';\n",
              "          element.innerHTML = '';\n",
              "          dataTable['output_type'] = 'display_data';\n",
              "          await google.colab.output.renderOutput(dataTable, element);\n",
              "          const docLink = document.createElement('div');\n",
              "          docLink.innerHTML = docLinkHtml;\n",
              "          element.appendChild(docLink);\n",
              "        }\n",
              "      </script>\n",
              "    </div>\n",
              "  </div>\n",
              "  "
            ]
          },
          "metadata": {},
          "execution_count": 22
        }
      ]
    },
    {
      "cell_type": "code",
      "source": [
        "#final_df = pd.concat([df, result_df], ignore_index=True)"
      ],
      "metadata": {
        "id": "R62JgRR-H8gC"
      },
      "execution_count": null,
      "outputs": []
    },
    {
      "cell_type": "code",
      "source": [
        "#final_df.tail()"
      ],
      "metadata": {
        "id": "MUTjUFG8JvLe"
      },
      "execution_count": null,
      "outputs": []
    },
    {
      "cell_type": "code",
      "source": [
        "# Shuffling a Pandas dataframe with .shuffle()\n",
        "#Shuffle gareko because category wise serially xa data haru\n",
        "shuffled = result_df.sample(frac=1)"
      ],
      "metadata": {
        "id": "Pb7uKv6Il-ta"
      },
      "execution_count": null,
      "outputs": []
    },
    {
      "cell_type": "code",
      "source": [
        "shuffled.head()"
      ],
      "metadata": {
        "colab": {
          "base_uri": "https://localhost:8080/",
          "height": 206
        },
        "id": "1BI1Bwlgn4bq",
        "outputId": "657d5a95-a511-45ed-ca6e-d8783e1b8982"
      },
      "execution_count": null,
      "outputs": [
        {
          "output_type": "execute_result",
          "data": {
            "text/plain": [
              "                                                   title  \\\n",
              "32264              ambiguous opinion dynamic consistency   \n",
              "29311        conformal geodesic gravitational instantons   \n",
              "23130  antiproton output heavy ion collision subthres...   \n",
              "22322      quarkonium phenomenology popularize Gauss law   \n",
              "11627  comparative study educate intensity neurofeedback   \n",
              "\n",
              "                                                abstract category  \n",
              "32264  opinion plot transmitter telephone_receiver am...     econ  \n",
              "29311  analyze integrability conformal geodesic flow ...     nlin  \n",
              "23130  inside framework Lanzhou quantum molecular dyn...  nucl-th  \n",
              "22322  salute better analytic parametrisation complex...  nucl-th  \n",
              "11627  neurofeedback prove utilitarian many exemplify...    q-bio  "
            ],
            "text/html": [
              "\n",
              "  <div id=\"df-15b1ba36-b4c0-4cf8-b415-2dc1fa83ad0e\">\n",
              "    <div class=\"colab-df-container\">\n",
              "      <div>\n",
              "<style scoped>\n",
              "    .dataframe tbody tr th:only-of-type {\n",
              "        vertical-align: middle;\n",
              "    }\n",
              "\n",
              "    .dataframe tbody tr th {\n",
              "        vertical-align: top;\n",
              "    }\n",
              "\n",
              "    .dataframe thead th {\n",
              "        text-align: right;\n",
              "    }\n",
              "</style>\n",
              "<table border=\"1\" class=\"dataframe\">\n",
              "  <thead>\n",
              "    <tr style=\"text-align: right;\">\n",
              "      <th></th>\n",
              "      <th>title</th>\n",
              "      <th>abstract</th>\n",
              "      <th>category</th>\n",
              "    </tr>\n",
              "  </thead>\n",
              "  <tbody>\n",
              "    <tr>\n",
              "      <th>32264</th>\n",
              "      <td>ambiguous opinion dynamic consistency</td>\n",
              "      <td>opinion plot transmitter telephone_receiver am...</td>\n",
              "      <td>econ</td>\n",
              "    </tr>\n",
              "    <tr>\n",
              "      <th>29311</th>\n",
              "      <td>conformal geodesic gravitational instantons</td>\n",
              "      <td>analyze integrability conformal geodesic flow ...</td>\n",
              "      <td>nlin</td>\n",
              "    </tr>\n",
              "    <tr>\n",
              "      <th>23130</th>\n",
              "      <td>antiproton output heavy ion collision subthres...</td>\n",
              "      <td>inside framework Lanzhou quantum molecular dyn...</td>\n",
              "      <td>nucl-th</td>\n",
              "    </tr>\n",
              "    <tr>\n",
              "      <th>22322</th>\n",
              "      <td>quarkonium phenomenology popularize Gauss law</td>\n",
              "      <td>salute better analytic parametrisation complex...</td>\n",
              "      <td>nucl-th</td>\n",
              "    </tr>\n",
              "    <tr>\n",
              "      <th>11627</th>\n",
              "      <td>comparative study educate intensity neurofeedback</td>\n",
              "      <td>neurofeedback prove utilitarian many exemplify...</td>\n",
              "      <td>q-bio</td>\n",
              "    </tr>\n",
              "  </tbody>\n",
              "</table>\n",
              "</div>\n",
              "      <button class=\"colab-df-convert\" onclick=\"convertToInteractive('df-15b1ba36-b4c0-4cf8-b415-2dc1fa83ad0e')\"\n",
              "              title=\"Convert this dataframe to an interactive table.\"\n",
              "              style=\"display:none;\">\n",
              "        \n",
              "  <svg xmlns=\"http://www.w3.org/2000/svg\" height=\"24px\"viewBox=\"0 0 24 24\"\n",
              "       width=\"24px\">\n",
              "    <path d=\"M0 0h24v24H0V0z\" fill=\"none\"/>\n",
              "    <path d=\"M18.56 5.44l.94 2.06.94-2.06 2.06-.94-2.06-.94-.94-2.06-.94 2.06-2.06.94zm-11 1L8.5 8.5l.94-2.06 2.06-.94-2.06-.94L8.5 2.5l-.94 2.06-2.06.94zm10 10l.94 2.06.94-2.06 2.06-.94-2.06-.94-.94-2.06-.94 2.06-2.06.94z\"/><path d=\"M17.41 7.96l-1.37-1.37c-.4-.4-.92-.59-1.43-.59-.52 0-1.04.2-1.43.59L10.3 9.45l-7.72 7.72c-.78.78-.78 2.05 0 2.83L4 21.41c.39.39.9.59 1.41.59.51 0 1.02-.2 1.41-.59l7.78-7.78 2.81-2.81c.8-.78.8-2.07 0-2.86zM5.41 20L4 18.59l7.72-7.72 1.47 1.35L5.41 20z\"/>\n",
              "  </svg>\n",
              "      </button>\n",
              "      \n",
              "  <style>\n",
              "    .colab-df-container {\n",
              "      display:flex;\n",
              "      flex-wrap:wrap;\n",
              "      gap: 12px;\n",
              "    }\n",
              "\n",
              "    .colab-df-convert {\n",
              "      background-color: #E8F0FE;\n",
              "      border: none;\n",
              "      border-radius: 50%;\n",
              "      cursor: pointer;\n",
              "      display: none;\n",
              "      fill: #1967D2;\n",
              "      height: 32px;\n",
              "      padding: 0 0 0 0;\n",
              "      width: 32px;\n",
              "    }\n",
              "\n",
              "    .colab-df-convert:hover {\n",
              "      background-color: #E2EBFA;\n",
              "      box-shadow: 0px 1px 2px rgba(60, 64, 67, 0.3), 0px 1px 3px 1px rgba(60, 64, 67, 0.15);\n",
              "      fill: #174EA6;\n",
              "    }\n",
              "\n",
              "    [theme=dark] .colab-df-convert {\n",
              "      background-color: #3B4455;\n",
              "      fill: #D2E3FC;\n",
              "    }\n",
              "\n",
              "    [theme=dark] .colab-df-convert:hover {\n",
              "      background-color: #434B5C;\n",
              "      box-shadow: 0px 1px 3px 1px rgba(0, 0, 0, 0.15);\n",
              "      filter: drop-shadow(0px 1px 2px rgba(0, 0, 0, 0.3));\n",
              "      fill: #FFFFFF;\n",
              "    }\n",
              "  </style>\n",
              "\n",
              "      <script>\n",
              "        const buttonEl =\n",
              "          document.querySelector('#df-15b1ba36-b4c0-4cf8-b415-2dc1fa83ad0e button.colab-df-convert');\n",
              "        buttonEl.style.display =\n",
              "          google.colab.kernel.accessAllowed ? 'block' : 'none';\n",
              "\n",
              "        async function convertToInteractive(key) {\n",
              "          const element = document.querySelector('#df-15b1ba36-b4c0-4cf8-b415-2dc1fa83ad0e');\n",
              "          const dataTable =\n",
              "            await google.colab.kernel.invokeFunction('convertToInteractive',\n",
              "                                                     [key], {});\n",
              "          if (!dataTable) return;\n",
              "\n",
              "          const docLinkHtml = 'Like what you see? Visit the ' +\n",
              "            '<a target=\"_blank\" href=https://colab.research.google.com/notebooks/data_table.ipynb>data table notebook</a>'\n",
              "            + ' to learn more about interactive tables.';\n",
              "          element.innerHTML = '';\n",
              "          dataTable['output_type'] = 'display_data';\n",
              "          await google.colab.output.renderOutput(dataTable, element);\n",
              "          const docLink = document.createElement('div');\n",
              "          docLink.innerHTML = docLinkHtml;\n",
              "          element.appendChild(docLink);\n",
              "        }\n",
              "      </script>\n",
              "    </div>\n",
              "  </div>\n",
              "  "
            ]
          },
          "metadata": {},
          "execution_count": 26
        }
      ]
    },
    {
      "cell_type": "code",
      "source": [
        "#Thorai vako class ma add garne kaam sakkiyo\n",
        "#So aba dherai vako class bata remove garna try garam"
      ],
      "metadata": {
        "id": "lPdZ5sPN2pkH"
      },
      "execution_count": null,
      "outputs": []
    },
    {
      "cell_type": "code",
      "source": [
        "#dherai data vako class haru\n",
        "cs=df.loc[df['category'] == 'cs']\n",
        "math = df.loc[df['category'] == 'math']\n",
        "cond_mat = df.loc[df['category'] == 'cond-mat']"
      ],
      "metadata": {
        "id": "dWIp3OKX2pmX"
      },
      "execution_count": null,
      "outputs": []
    },
    {
      "cell_type": "code",
      "source": [
        "#Let's make a dataframe containing these 3 categories\n",
        "major = pd.concat([cs, math, cond_mat], axis=0)"
      ],
      "metadata": {
        "id": "51SVeRaB2pod"
      },
      "execution_count": null,
      "outputs": []
    },
    {
      "cell_type": "code",
      "source": [
        "major.tail()"
      ],
      "metadata": {
        "colab": {
          "base_uri": "https://localhost:8080/",
          "height": 206
        },
        "id": "GSRmdWWx2pqd",
        "outputId": "a7be6a17-ba75-4b47-fde7-91a0ca141279"
      },
      "execution_count": null,
      "outputs": [
        {
          "output_type": "execute_result",
          "data": {
            "text/plain": [
              "                id                                              title  \\\n",
              "861114  2006.00349  ii vi organic inorganic hybrid nanostructures ...   \n",
              "861136  2106.05721  self oscillation synchronisation transitions e...   \n",
              "861171  2011.13215  oscillatory shear flows dense suspensions impo...   \n",
              "861192  2103.09143                         maximal diversity zipf law   \n",
              "861199  2005.09337  local thickness composition measurements scann...   \n",
              "\n",
              "                                                 abstract  category  \n",
              "861114  organic inorganic hybrids may offer material p...  cond-mat  \n",
              "861136  interplay activity elasticity often found acti...  cond-mat  \n",
              "861171  oscillatory shear widely used study rheologica...  cond-mat  \n",
              "861192  zipf law describes empirical size distribution...  cond-mat  \n",
              "861199  measured local composition thickness sio2 base...  cond-mat  "
            ],
            "text/html": [
              "\n",
              "  <div id=\"df-2ffabee5-fe4a-4fed-b57d-1ea16bbe870a\">\n",
              "    <div class=\"colab-df-container\">\n",
              "      <div>\n",
              "<style scoped>\n",
              "    .dataframe tbody tr th:only-of-type {\n",
              "        vertical-align: middle;\n",
              "    }\n",
              "\n",
              "    .dataframe tbody tr th {\n",
              "        vertical-align: top;\n",
              "    }\n",
              "\n",
              "    .dataframe thead th {\n",
              "        text-align: right;\n",
              "    }\n",
              "</style>\n",
              "<table border=\"1\" class=\"dataframe\">\n",
              "  <thead>\n",
              "    <tr style=\"text-align: right;\">\n",
              "      <th></th>\n",
              "      <th>id</th>\n",
              "      <th>title</th>\n",
              "      <th>abstract</th>\n",
              "      <th>category</th>\n",
              "    </tr>\n",
              "  </thead>\n",
              "  <tbody>\n",
              "    <tr>\n",
              "      <th>861114</th>\n",
              "      <td>2006.00349</td>\n",
              "      <td>ii vi organic inorganic hybrid nanostructures ...</td>\n",
              "      <td>organic inorganic hybrids may offer material p...</td>\n",
              "      <td>cond-mat</td>\n",
              "    </tr>\n",
              "    <tr>\n",
              "      <th>861136</th>\n",
              "      <td>2106.05721</td>\n",
              "      <td>self oscillation synchronisation transitions e...</td>\n",
              "      <td>interplay activity elasticity often found acti...</td>\n",
              "      <td>cond-mat</td>\n",
              "    </tr>\n",
              "    <tr>\n",
              "      <th>861171</th>\n",
              "      <td>2011.13215</td>\n",
              "      <td>oscillatory shear flows dense suspensions impo...</td>\n",
              "      <td>oscillatory shear widely used study rheologica...</td>\n",
              "      <td>cond-mat</td>\n",
              "    </tr>\n",
              "    <tr>\n",
              "      <th>861192</th>\n",
              "      <td>2103.09143</td>\n",
              "      <td>maximal diversity zipf law</td>\n",
              "      <td>zipf law describes empirical size distribution...</td>\n",
              "      <td>cond-mat</td>\n",
              "    </tr>\n",
              "    <tr>\n",
              "      <th>861199</th>\n",
              "      <td>2005.09337</td>\n",
              "      <td>local thickness composition measurements scann...</td>\n",
              "      <td>measured local composition thickness sio2 base...</td>\n",
              "      <td>cond-mat</td>\n",
              "    </tr>\n",
              "  </tbody>\n",
              "</table>\n",
              "</div>\n",
              "      <button class=\"colab-df-convert\" onclick=\"convertToInteractive('df-2ffabee5-fe4a-4fed-b57d-1ea16bbe870a')\"\n",
              "              title=\"Convert this dataframe to an interactive table.\"\n",
              "              style=\"display:none;\">\n",
              "        \n",
              "  <svg xmlns=\"http://www.w3.org/2000/svg\" height=\"24px\"viewBox=\"0 0 24 24\"\n",
              "       width=\"24px\">\n",
              "    <path d=\"M0 0h24v24H0V0z\" fill=\"none\"/>\n",
              "    <path d=\"M18.56 5.44l.94 2.06.94-2.06 2.06-.94-2.06-.94-.94-2.06-.94 2.06-2.06.94zm-11 1L8.5 8.5l.94-2.06 2.06-.94-2.06-.94L8.5 2.5l-.94 2.06-2.06.94zm10 10l.94 2.06.94-2.06 2.06-.94-2.06-.94-.94-2.06-.94 2.06-2.06.94z\"/><path d=\"M17.41 7.96l-1.37-1.37c-.4-.4-.92-.59-1.43-.59-.52 0-1.04.2-1.43.59L10.3 9.45l-7.72 7.72c-.78.78-.78 2.05 0 2.83L4 21.41c.39.39.9.59 1.41.59.51 0 1.02-.2 1.41-.59l7.78-7.78 2.81-2.81c.8-.78.8-2.07 0-2.86zM5.41 20L4 18.59l7.72-7.72 1.47 1.35L5.41 20z\"/>\n",
              "  </svg>\n",
              "      </button>\n",
              "      \n",
              "  <style>\n",
              "    .colab-df-container {\n",
              "      display:flex;\n",
              "      flex-wrap:wrap;\n",
              "      gap: 12px;\n",
              "    }\n",
              "\n",
              "    .colab-df-convert {\n",
              "      background-color: #E8F0FE;\n",
              "      border: none;\n",
              "      border-radius: 50%;\n",
              "      cursor: pointer;\n",
              "      display: none;\n",
              "      fill: #1967D2;\n",
              "      height: 32px;\n",
              "      padding: 0 0 0 0;\n",
              "      width: 32px;\n",
              "    }\n",
              "\n",
              "    .colab-df-convert:hover {\n",
              "      background-color: #E2EBFA;\n",
              "      box-shadow: 0px 1px 2px rgba(60, 64, 67, 0.3), 0px 1px 3px 1px rgba(60, 64, 67, 0.15);\n",
              "      fill: #174EA6;\n",
              "    }\n",
              "\n",
              "    [theme=dark] .colab-df-convert {\n",
              "      background-color: #3B4455;\n",
              "      fill: #D2E3FC;\n",
              "    }\n",
              "\n",
              "    [theme=dark] .colab-df-convert:hover {\n",
              "      background-color: #434B5C;\n",
              "      box-shadow: 0px 1px 3px 1px rgba(0, 0, 0, 0.15);\n",
              "      filter: drop-shadow(0px 1px 2px rgba(0, 0, 0, 0.3));\n",
              "      fill: #FFFFFF;\n",
              "    }\n",
              "  </style>\n",
              "\n",
              "      <script>\n",
              "        const buttonEl =\n",
              "          document.querySelector('#df-2ffabee5-fe4a-4fed-b57d-1ea16bbe870a button.colab-df-convert');\n",
              "        buttonEl.style.display =\n",
              "          google.colab.kernel.accessAllowed ? 'block' : 'none';\n",
              "\n",
              "        async function convertToInteractive(key) {\n",
              "          const element = document.querySelector('#df-2ffabee5-fe4a-4fed-b57d-1ea16bbe870a');\n",
              "          const dataTable =\n",
              "            await google.colab.kernel.invokeFunction('convertToInteractive',\n",
              "                                                     [key], {});\n",
              "          if (!dataTable) return;\n",
              "\n",
              "          const docLinkHtml = 'Like what you see? Visit the ' +\n",
              "            '<a target=\"_blank\" href=https://colab.research.google.com/notebooks/data_table.ipynb>data table notebook</a>'\n",
              "            + ' to learn more about interactive tables.';\n",
              "          element.innerHTML = '';\n",
              "          dataTable['output_type'] = 'display_data';\n",
              "          await google.colab.output.renderOutput(dataTable, element);\n",
              "          const docLink = document.createElement('div');\n",
              "          docLink.innerHTML = docLinkHtml;\n",
              "          element.appendChild(docLink);\n",
              "        }\n",
              "      </script>\n",
              "    </div>\n",
              "  </div>\n",
              "  "
            ]
          },
          "metadata": {},
          "execution_count": 30
        }
      ]
    },
    {
      "cell_type": "code",
      "source": [
        "# Separating the independent variables from dependent variables\n",
        "#major dataframe bata matra\n",
        "X = major.iloc[:,1:-1]\n",
        "y = major.iloc[:,-1]"
      ],
      "metadata": {
        "id": "CeeDTnpn2psl"
      },
      "execution_count": null,
      "outputs": []
    },
    {
      "cell_type": "code",
      "source": [
        "#Now, let's do undersampling\n",
        "from sklearn.datasets import make_classification\n",
        "from sklearn.model_selection import train_test_split\n",
        "from imblearn.under_sampling import RandomUnderSampler"
      ],
      "metadata": {
        "id": "xwUCj_E92puu"
      },
      "execution_count": null,
      "outputs": []
    },
    {
      "cell_type": "code",
      "source": [
        "# Apply the random under-sampling\n",
        "rus = RandomUnderSampler(random_state=0)\n",
        "X_resampled, y_resampled = rus.fit_resample(X, y)"
      ],
      "metadata": {
        "id": "oX7lSDtO3i94"
      },
      "execution_count": null,
      "outputs": []
    },
    {
      "cell_type": "code",
      "source": [
        "len(X_resampled), len(X)"
      ],
      "metadata": {
        "colab": {
          "base_uri": "https://localhost:8080/"
        },
        "id": "QQvfoB-m3jBf",
        "outputId": "cb7fa9e7-ba3e-459e-ae3b-b140440d298c"
      },
      "execution_count": null,
      "outputs": [
        {
          "output_type": "execute_result",
          "data": {
            "text/plain": [
              "(128358, 287157)"
            ]
          },
          "metadata": {},
          "execution_count": 34
        }
      ]
    },
    {
      "cell_type": "code",
      "source": [
        "#X_resampled, y_resampled vaneko 3ta class ko dherai data lai thorai banayepachi ko ho hai\n",
        "y_resampled.head()"
      ],
      "metadata": {
        "colab": {
          "base_uri": "https://localhost:8080/"
        },
        "id": "_ip_Zi073jMW",
        "outputId": "d2d8d921-6027-42b0-ca1b-6c0785947376"
      },
      "execution_count": null,
      "outputs": [
        {
          "output_type": "execute_result",
          "data": {
            "text/plain": [
              "0    cond-mat\n",
              "1    cond-mat\n",
              "2    cond-mat\n",
              "3    cond-mat\n",
              "4    cond-mat\n",
              "Name: category, dtype: object"
            ]
          },
          "metadata": {},
          "execution_count": 35
        }
      ]
    },
    {
      "cell_type": "code",
      "source": [
        "#Now let's combine X_resampled and y_resampled into a new dataframe --reduced\n",
        "reduced = pd.concat([X_resampled, y_resampled], axis = 1)"
      ],
      "metadata": {
        "id": "HjFj62p535jw"
      },
      "execution_count": null,
      "outputs": []
    },
    {
      "cell_type": "code",
      "source": [
        "#Visualize\n",
        "reduced.tail()"
      ],
      "metadata": {
        "colab": {
          "base_uri": "https://localhost:8080/",
          "height": 206
        },
        "id": "M9Nrawx435l0",
        "outputId": "8e7b4c94-fc88-41f6-fae4-c7a64d5dc0e8"
      },
      "execution_count": null,
      "outputs": [
        {
          "output_type": "execute_result",
          "data": {
            "text/plain": [
              "                                                    title  \\\n",
              "128353  crepant resolution holomorphic anomaly equatio...   \n",
              "128354  passive beamforming information transfer via l...   \n",
              "128355   codes hierarchical locality covering maps curves   \n",
              "128356  general affine invariants plane curves space c...   \n",
              "128357        period mappings ampleness hodge line bundle   \n",
              "\n",
              "                                                 abstract category  \n",
              "128353  study orbifold gromov witten theory quotient c...     math  \n",
              "128354  large intelligent surface lis emerged promisin...     math  \n",
              "128355  locally recoverable lrc codes provide ways rec...     math  \n",
              "128356  present fundamental theory curves affine plane...     math  \n",
              "128357  discuss progress towards conjectural hodge the...     math  "
            ],
            "text/html": [
              "\n",
              "  <div id=\"df-f793e979-fb4e-456c-a2a0-ac8d35a69789\">\n",
              "    <div class=\"colab-df-container\">\n",
              "      <div>\n",
              "<style scoped>\n",
              "    .dataframe tbody tr th:only-of-type {\n",
              "        vertical-align: middle;\n",
              "    }\n",
              "\n",
              "    .dataframe tbody tr th {\n",
              "        vertical-align: top;\n",
              "    }\n",
              "\n",
              "    .dataframe thead th {\n",
              "        text-align: right;\n",
              "    }\n",
              "</style>\n",
              "<table border=\"1\" class=\"dataframe\">\n",
              "  <thead>\n",
              "    <tr style=\"text-align: right;\">\n",
              "      <th></th>\n",
              "      <th>title</th>\n",
              "      <th>abstract</th>\n",
              "      <th>category</th>\n",
              "    </tr>\n",
              "  </thead>\n",
              "  <tbody>\n",
              "    <tr>\n",
              "      <th>128353</th>\n",
              "      <td>crepant resolution holomorphic anomaly equatio...</td>\n",
              "      <td>study orbifold gromov witten theory quotient c...</td>\n",
              "      <td>math</td>\n",
              "    </tr>\n",
              "    <tr>\n",
              "      <th>128354</th>\n",
              "      <td>passive beamforming information transfer via l...</td>\n",
              "      <td>large intelligent surface lis emerged promisin...</td>\n",
              "      <td>math</td>\n",
              "    </tr>\n",
              "    <tr>\n",
              "      <th>128355</th>\n",
              "      <td>codes hierarchical locality covering maps curves</td>\n",
              "      <td>locally recoverable lrc codes provide ways rec...</td>\n",
              "      <td>math</td>\n",
              "    </tr>\n",
              "    <tr>\n",
              "      <th>128356</th>\n",
              "      <td>general affine invariants plane curves space c...</td>\n",
              "      <td>present fundamental theory curves affine plane...</td>\n",
              "      <td>math</td>\n",
              "    </tr>\n",
              "    <tr>\n",
              "      <th>128357</th>\n",
              "      <td>period mappings ampleness hodge line bundle</td>\n",
              "      <td>discuss progress towards conjectural hodge the...</td>\n",
              "      <td>math</td>\n",
              "    </tr>\n",
              "  </tbody>\n",
              "</table>\n",
              "</div>\n",
              "      <button class=\"colab-df-convert\" onclick=\"convertToInteractive('df-f793e979-fb4e-456c-a2a0-ac8d35a69789')\"\n",
              "              title=\"Convert this dataframe to an interactive table.\"\n",
              "              style=\"display:none;\">\n",
              "        \n",
              "  <svg xmlns=\"http://www.w3.org/2000/svg\" height=\"24px\"viewBox=\"0 0 24 24\"\n",
              "       width=\"24px\">\n",
              "    <path d=\"M0 0h24v24H0V0z\" fill=\"none\"/>\n",
              "    <path d=\"M18.56 5.44l.94 2.06.94-2.06 2.06-.94-2.06-.94-.94-2.06-.94 2.06-2.06.94zm-11 1L8.5 8.5l.94-2.06 2.06-.94-2.06-.94L8.5 2.5l-.94 2.06-2.06.94zm10 10l.94 2.06.94-2.06 2.06-.94-2.06-.94-.94-2.06-.94 2.06-2.06.94z\"/><path d=\"M17.41 7.96l-1.37-1.37c-.4-.4-.92-.59-1.43-.59-.52 0-1.04.2-1.43.59L10.3 9.45l-7.72 7.72c-.78.78-.78 2.05 0 2.83L4 21.41c.39.39.9.59 1.41.59.51 0 1.02-.2 1.41-.59l7.78-7.78 2.81-2.81c.8-.78.8-2.07 0-2.86zM5.41 20L4 18.59l7.72-7.72 1.47 1.35L5.41 20z\"/>\n",
              "  </svg>\n",
              "      </button>\n",
              "      \n",
              "  <style>\n",
              "    .colab-df-container {\n",
              "      display:flex;\n",
              "      flex-wrap:wrap;\n",
              "      gap: 12px;\n",
              "    }\n",
              "\n",
              "    .colab-df-convert {\n",
              "      background-color: #E8F0FE;\n",
              "      border: none;\n",
              "      border-radius: 50%;\n",
              "      cursor: pointer;\n",
              "      display: none;\n",
              "      fill: #1967D2;\n",
              "      height: 32px;\n",
              "      padding: 0 0 0 0;\n",
              "      width: 32px;\n",
              "    }\n",
              "\n",
              "    .colab-df-convert:hover {\n",
              "      background-color: #E2EBFA;\n",
              "      box-shadow: 0px 1px 2px rgba(60, 64, 67, 0.3), 0px 1px 3px 1px rgba(60, 64, 67, 0.15);\n",
              "      fill: #174EA6;\n",
              "    }\n",
              "\n",
              "    [theme=dark] .colab-df-convert {\n",
              "      background-color: #3B4455;\n",
              "      fill: #D2E3FC;\n",
              "    }\n",
              "\n",
              "    [theme=dark] .colab-df-convert:hover {\n",
              "      background-color: #434B5C;\n",
              "      box-shadow: 0px 1px 3px 1px rgba(0, 0, 0, 0.15);\n",
              "      filter: drop-shadow(0px 1px 2px rgba(0, 0, 0, 0.3));\n",
              "      fill: #FFFFFF;\n",
              "    }\n",
              "  </style>\n",
              "\n",
              "      <script>\n",
              "        const buttonEl =\n",
              "          document.querySelector('#df-f793e979-fb4e-456c-a2a0-ac8d35a69789 button.colab-df-convert');\n",
              "        buttonEl.style.display =\n",
              "          google.colab.kernel.accessAllowed ? 'block' : 'none';\n",
              "\n",
              "        async function convertToInteractive(key) {\n",
              "          const element = document.querySelector('#df-f793e979-fb4e-456c-a2a0-ac8d35a69789');\n",
              "          const dataTable =\n",
              "            await google.colab.kernel.invokeFunction('convertToInteractive',\n",
              "                                                     [key], {});\n",
              "          if (!dataTable) return;\n",
              "\n",
              "          const docLinkHtml = 'Like what you see? Visit the ' +\n",
              "            '<a target=\"_blank\" href=https://colab.research.google.com/notebooks/data_table.ipynb>data table notebook</a>'\n",
              "            + ' to learn more about interactive tables.';\n",
              "          element.innerHTML = '';\n",
              "          dataTable['output_type'] = 'display_data';\n",
              "          await google.colab.output.renderOutput(dataTable, element);\n",
              "          const docLink = document.createElement('div');\n",
              "          docLink.innerHTML = docLinkHtml;\n",
              "          element.appendChild(docLink);\n",
              "        }\n",
              "      </script>\n",
              "    </div>\n",
              "  </div>\n",
              "  "
            ]
          },
          "metadata": {},
          "execution_count": 37
        }
      ]
    },
    {
      "cell_type": "code",
      "source": [
        "reduced['category'].value_counts()"
      ],
      "metadata": {
        "colab": {
          "base_uri": "https://localhost:8080/"
        },
        "id": "RfHsVM0e35px",
        "outputId": "861a95d5-0674-41cb-cf96-0c054cc92b0d"
      },
      "execution_count": null,
      "outputs": [
        {
          "output_type": "execute_result",
          "data": {
            "text/plain": [
              "cond-mat    42786\n",
              "cs          42786\n",
              "math        42786\n",
              "Name: category, dtype: int64"
            ]
          },
          "metadata": {},
          "execution_count": 38
        }
      ]
    },
    {
      "cell_type": "code",
      "source": [
        "# so among those three classes, math had the smallest number(42786)\n",
        "#That's why other two classes namely cond-mat and cs also are reduced to the size of math"
      ],
      "metadata": {
        "id": "RkbXqfUI2pxF"
      },
      "execution_count": null,
      "outputs": []
    },
    {
      "cell_type": "code",
      "source": [
        "#Mathi thorai vako data lai badhayera pani sakkiyo -- reduced\n",
        "#Ani tespachi dherai vako data lai ghatayera pani sakkiyo -- shuffled\n",
        "#Aba kunai kunai class ko data as it is xa - df\n",
        "#Aba sabailai appropriately combine garera final dataset banaune"
      ],
      "metadata": {
        "id": "wHwPBjyo4oxl"
      },
      "execution_count": null,
      "outputs": []
    },
    {
      "cell_type": "code",
      "source": [
        "#Now original dataframe bata major class haru remove garna paryo (3 ota class)\n",
        "rem_cs=df.loc[df['category'] != 'cs']\n",
        "rem_math = rem_cs.loc[rem_cs['category'] != 'math']\n",
        "major_removed = rem_math.loc[rem_math['category'] != 'cond-mat'] # 3ta class hatyo"
      ],
      "metadata": {
        "id": "Fc15ojHd5HJs"
      },
      "execution_count": null,
      "outputs": []
    },
    {
      "cell_type": "code",
      "source": [
        "#Let's see 3 ota class hatyo ki nai\n",
        "major_removed['category'].value_counts()"
      ],
      "metadata": {
        "colab": {
          "base_uri": "https://localhost:8080/"
        },
        "id": "VhdKyP1G5HL5",
        "outputId": "b3161104-6fef-4c9c-a5bc-63c23599adea"
      },
      "execution_count": null,
      "outputs": [
        {
          "output_type": "execute_result",
          "data": {
            "text/plain": [
              "physics     38243\n",
              "astro-ph    38039\n",
              "stat        22745\n",
              "quant-ph    16020\n",
              "eess        15843\n",
              "hep-ph      11400\n",
              "hep-th      10690\n",
              "gr-qc        8662\n",
              "q-bio        5665\n",
              "hep-ex       3950\n",
              "math-ph      3822\n",
              "nucl-th      3517\n",
              "q-fin        3053\n",
              "nlin         2894\n",
              "econ         2050\n",
              "nucl-ex      1788\n",
              "hep-lat      1132\n",
              "Name: category, dtype: int64"
            ]
          },
          "metadata": {},
          "execution_count": 42
        }
      ]
    },
    {
      "cell_type": "code",
      "source": [
        "#Visualize \n",
        "major_removed.head()"
      ],
      "metadata": {
        "colab": {
          "base_uri": "https://localhost:8080/",
          "height": 206
        },
        "id": "3f2I2R7A5HOI",
        "outputId": "6eb9f162-ee45-4179-dc62-dc990ab16ba4"
      },
      "execution_count": null,
      "outputs": [
        {
          "output_type": "execute_result",
          "data": {
            "text/plain": [
              "            id                                              title  \\\n",
              "5   2102.10644    surface tension destabiliser vortical interface   \n",
              "7   1902.08524  acoustically modulated optical emission hexago...   \n",
              "13  1912.02502  monte carlo studies spin chirality decoupling ...   \n",
              "14  1911.08413  igatelink gateway library linking iot edge fog...   \n",
              "18  2005.00921  epidemic model sipherd application prediction ...   \n",
              "\n",
              "                                             abstract category  \n",
              "5   study dynamics initially flat interface two im...  physics  \n",
              "7   investigate effect surface acoustic waves atom...  physics  \n",
              "13  extensive equilibrium monte carlo simulation p...  physics  \n",
              "14  recent years internet things iot growing popul...     eess  \n",
              "18  propose epidemic model sipherd three categorie...    q-bio  "
            ],
            "text/html": [
              "\n",
              "  <div id=\"df-7df883f7-6bae-448c-862b-b39fbcd16102\">\n",
              "    <div class=\"colab-df-container\">\n",
              "      <div>\n",
              "<style scoped>\n",
              "    .dataframe tbody tr th:only-of-type {\n",
              "        vertical-align: middle;\n",
              "    }\n",
              "\n",
              "    .dataframe tbody tr th {\n",
              "        vertical-align: top;\n",
              "    }\n",
              "\n",
              "    .dataframe thead th {\n",
              "        text-align: right;\n",
              "    }\n",
              "</style>\n",
              "<table border=\"1\" class=\"dataframe\">\n",
              "  <thead>\n",
              "    <tr style=\"text-align: right;\">\n",
              "      <th></th>\n",
              "      <th>id</th>\n",
              "      <th>title</th>\n",
              "      <th>abstract</th>\n",
              "      <th>category</th>\n",
              "    </tr>\n",
              "  </thead>\n",
              "  <tbody>\n",
              "    <tr>\n",
              "      <th>5</th>\n",
              "      <td>2102.10644</td>\n",
              "      <td>surface tension destabiliser vortical interface</td>\n",
              "      <td>study dynamics initially flat interface two im...</td>\n",
              "      <td>physics</td>\n",
              "    </tr>\n",
              "    <tr>\n",
              "      <th>7</th>\n",
              "      <td>1902.08524</td>\n",
              "      <td>acoustically modulated optical emission hexago...</td>\n",
              "      <td>investigate effect surface acoustic waves atom...</td>\n",
              "      <td>physics</td>\n",
              "    </tr>\n",
              "    <tr>\n",
              "      <th>13</th>\n",
              "      <td>1912.02502</td>\n",
              "      <td>monte carlo studies spin chirality decoupling ...</td>\n",
              "      <td>extensive equilibrium monte carlo simulation p...</td>\n",
              "      <td>physics</td>\n",
              "    </tr>\n",
              "    <tr>\n",
              "      <th>14</th>\n",
              "      <td>1911.08413</td>\n",
              "      <td>igatelink gateway library linking iot edge fog...</td>\n",
              "      <td>recent years internet things iot growing popul...</td>\n",
              "      <td>eess</td>\n",
              "    </tr>\n",
              "    <tr>\n",
              "      <th>18</th>\n",
              "      <td>2005.00921</td>\n",
              "      <td>epidemic model sipherd application prediction ...</td>\n",
              "      <td>propose epidemic model sipherd three categorie...</td>\n",
              "      <td>q-bio</td>\n",
              "    </tr>\n",
              "  </tbody>\n",
              "</table>\n",
              "</div>\n",
              "      <button class=\"colab-df-convert\" onclick=\"convertToInteractive('df-7df883f7-6bae-448c-862b-b39fbcd16102')\"\n",
              "              title=\"Convert this dataframe to an interactive table.\"\n",
              "              style=\"display:none;\">\n",
              "        \n",
              "  <svg xmlns=\"http://www.w3.org/2000/svg\" height=\"24px\"viewBox=\"0 0 24 24\"\n",
              "       width=\"24px\">\n",
              "    <path d=\"M0 0h24v24H0V0z\" fill=\"none\"/>\n",
              "    <path d=\"M18.56 5.44l.94 2.06.94-2.06 2.06-.94-2.06-.94-.94-2.06-.94 2.06-2.06.94zm-11 1L8.5 8.5l.94-2.06 2.06-.94-2.06-.94L8.5 2.5l-.94 2.06-2.06.94zm10 10l.94 2.06.94-2.06 2.06-.94-2.06-.94-.94-2.06-.94 2.06-2.06.94z\"/><path d=\"M17.41 7.96l-1.37-1.37c-.4-.4-.92-.59-1.43-.59-.52 0-1.04.2-1.43.59L10.3 9.45l-7.72 7.72c-.78.78-.78 2.05 0 2.83L4 21.41c.39.39.9.59 1.41.59.51 0 1.02-.2 1.41-.59l7.78-7.78 2.81-2.81c.8-.78.8-2.07 0-2.86zM5.41 20L4 18.59l7.72-7.72 1.47 1.35L5.41 20z\"/>\n",
              "  </svg>\n",
              "      </button>\n",
              "      \n",
              "  <style>\n",
              "    .colab-df-container {\n",
              "      display:flex;\n",
              "      flex-wrap:wrap;\n",
              "      gap: 12px;\n",
              "    }\n",
              "\n",
              "    .colab-df-convert {\n",
              "      background-color: #E8F0FE;\n",
              "      border: none;\n",
              "      border-radius: 50%;\n",
              "      cursor: pointer;\n",
              "      display: none;\n",
              "      fill: #1967D2;\n",
              "      height: 32px;\n",
              "      padding: 0 0 0 0;\n",
              "      width: 32px;\n",
              "    }\n",
              "\n",
              "    .colab-df-convert:hover {\n",
              "      background-color: #E2EBFA;\n",
              "      box-shadow: 0px 1px 2px rgba(60, 64, 67, 0.3), 0px 1px 3px 1px rgba(60, 64, 67, 0.15);\n",
              "      fill: #174EA6;\n",
              "    }\n",
              "\n",
              "    [theme=dark] .colab-df-convert {\n",
              "      background-color: #3B4455;\n",
              "      fill: #D2E3FC;\n",
              "    }\n",
              "\n",
              "    [theme=dark] .colab-df-convert:hover {\n",
              "      background-color: #434B5C;\n",
              "      box-shadow: 0px 1px 3px 1px rgba(0, 0, 0, 0.15);\n",
              "      filter: drop-shadow(0px 1px 2px rgba(0, 0, 0, 0.3));\n",
              "      fill: #FFFFFF;\n",
              "    }\n",
              "  </style>\n",
              "\n",
              "      <script>\n",
              "        const buttonEl =\n",
              "          document.querySelector('#df-7df883f7-6bae-448c-862b-b39fbcd16102 button.colab-df-convert');\n",
              "        buttonEl.style.display =\n",
              "          google.colab.kernel.accessAllowed ? 'block' : 'none';\n",
              "\n",
              "        async function convertToInteractive(key) {\n",
              "          const element = document.querySelector('#df-7df883f7-6bae-448c-862b-b39fbcd16102');\n",
              "          const dataTable =\n",
              "            await google.colab.kernel.invokeFunction('convertToInteractive',\n",
              "                                                     [key], {});\n",
              "          if (!dataTable) return;\n",
              "\n",
              "          const docLinkHtml = 'Like what you see? Visit the ' +\n",
              "            '<a target=\"_blank\" href=https://colab.research.google.com/notebooks/data_table.ipynb>data table notebook</a>'\n",
              "            + ' to learn more about interactive tables.';\n",
              "          element.innerHTML = '';\n",
              "          dataTable['output_type'] = 'display_data';\n",
              "          await google.colab.output.renderOutput(dataTable, element);\n",
              "          const docLink = document.createElement('div');\n",
              "          docLink.innerHTML = docLinkHtml;\n",
              "          element.appendChild(docLink);\n",
              "        }\n",
              "      </script>\n",
              "    </div>\n",
              "  </div>\n",
              "  "
            ]
          },
          "metadata": {},
          "execution_count": 43
        }
      ]
    },
    {
      "cell_type": "code",
      "source": [
        "#Now, lets combine our dataframes -- reduced, shuffled, major_removed\n",
        "final_df = pd.concat([reduced, shuffled, major_removed], ignore_index=True)"
      ],
      "metadata": {
        "id": "Hd4L-R_f5HRT"
      },
      "execution_count": null,
      "outputs": []
    },
    {
      "cell_type": "code",
      "source": [
        "\n",
        "len(reduced)+ len(shuffled)+ len(major_removed) == len(final_df)"
      ],
      "metadata": {
        "colab": {
          "base_uri": "https://localhost:8080/"
        },
        "id": "Q8BtR5dR4ozr",
        "outputId": "a7a43579-2695-4300-dc10-d973099f1265"
      },
      "execution_count": null,
      "outputs": [
        {
          "output_type": "execute_result",
          "data": {
            "text/plain": [
              "True"
            ]
          },
          "metadata": {},
          "execution_count": 45
        }
      ]
    },
    {
      "cell_type": "code",
      "source": [
        "#Visualize\n",
        "final_df.head()"
      ],
      "metadata": {
        "colab": {
          "base_uri": "https://localhost:8080/",
          "height": 206
        },
        "id": "IQj4pxP94o39",
        "outputId": "d2da3c74-eb4c-426d-a3d1-4bb747105567"
      },
      "execution_count": null,
      "outputs": [
        {
          "output_type": "execute_result",
          "data": {
            "text/plain": [
              "                                               title  \\\n",
              "0  noise noise ratios correlation length calculat...   \n",
              "1  exactly solvable model 4+1d beyond cohomology ...   \n",
              "2  n independent localized krylov bogoliubov de g...   \n",
              "3     molding 3d curved structures selective heating   \n",
              "4  piezoelectric properties substitutionally dope...   \n",
              "\n",
              "                                            abstract  category   id  \n",
              "0  finite random systems possible define two type...  cond-mat  NaN  \n",
              "1  construct exactly solvable commuting projector...  cond-mat  NaN  \n",
              "2  propose ultra fast numerical approach large sc...  cond-mat  NaN  \n",
              "3  interest fabricate curved surfaces three dimen...  cond-mat  NaN  \n",
              "4  modern semiconductor materials increasingly us...  cond-mat  NaN  "
            ],
            "text/html": [
              "\n",
              "  <div id=\"df-6e7ec183-7c04-4e7a-8293-f864525e9fe5\">\n",
              "    <div class=\"colab-df-container\">\n",
              "      <div>\n",
              "<style scoped>\n",
              "    .dataframe tbody tr th:only-of-type {\n",
              "        vertical-align: middle;\n",
              "    }\n",
              "\n",
              "    .dataframe tbody tr th {\n",
              "        vertical-align: top;\n",
              "    }\n",
              "\n",
              "    .dataframe thead th {\n",
              "        text-align: right;\n",
              "    }\n",
              "</style>\n",
              "<table border=\"1\" class=\"dataframe\">\n",
              "  <thead>\n",
              "    <tr style=\"text-align: right;\">\n",
              "      <th></th>\n",
              "      <th>title</th>\n",
              "      <th>abstract</th>\n",
              "      <th>category</th>\n",
              "      <th>id</th>\n",
              "    </tr>\n",
              "  </thead>\n",
              "  <tbody>\n",
              "    <tr>\n",
              "      <th>0</th>\n",
              "      <td>noise noise ratios correlation length calculat...</td>\n",
              "      <td>finite random systems possible define two type...</td>\n",
              "      <td>cond-mat</td>\n",
              "      <td>NaN</td>\n",
              "    </tr>\n",
              "    <tr>\n",
              "      <th>1</th>\n",
              "      <td>exactly solvable model 4+1d beyond cohomology ...</td>\n",
              "      <td>construct exactly solvable commuting projector...</td>\n",
              "      <td>cond-mat</td>\n",
              "      <td>NaN</td>\n",
              "    </tr>\n",
              "    <tr>\n",
              "      <th>2</th>\n",
              "      <td>n independent localized krylov bogoliubov de g...</td>\n",
              "      <td>propose ultra fast numerical approach large sc...</td>\n",
              "      <td>cond-mat</td>\n",
              "      <td>NaN</td>\n",
              "    </tr>\n",
              "    <tr>\n",
              "      <th>3</th>\n",
              "      <td>molding 3d curved structures selective heating</td>\n",
              "      <td>interest fabricate curved surfaces three dimen...</td>\n",
              "      <td>cond-mat</td>\n",
              "      <td>NaN</td>\n",
              "    </tr>\n",
              "    <tr>\n",
              "      <th>4</th>\n",
              "      <td>piezoelectric properties substitutionally dope...</td>\n",
              "      <td>modern semiconductor materials increasingly us...</td>\n",
              "      <td>cond-mat</td>\n",
              "      <td>NaN</td>\n",
              "    </tr>\n",
              "  </tbody>\n",
              "</table>\n",
              "</div>\n",
              "      <button class=\"colab-df-convert\" onclick=\"convertToInteractive('df-6e7ec183-7c04-4e7a-8293-f864525e9fe5')\"\n",
              "              title=\"Convert this dataframe to an interactive table.\"\n",
              "              style=\"display:none;\">\n",
              "        \n",
              "  <svg xmlns=\"http://www.w3.org/2000/svg\" height=\"24px\"viewBox=\"0 0 24 24\"\n",
              "       width=\"24px\">\n",
              "    <path d=\"M0 0h24v24H0V0z\" fill=\"none\"/>\n",
              "    <path d=\"M18.56 5.44l.94 2.06.94-2.06 2.06-.94-2.06-.94-.94-2.06-.94 2.06-2.06.94zm-11 1L8.5 8.5l.94-2.06 2.06-.94-2.06-.94L8.5 2.5l-.94 2.06-2.06.94zm10 10l.94 2.06.94-2.06 2.06-.94-2.06-.94-.94-2.06-.94 2.06-2.06.94z\"/><path d=\"M17.41 7.96l-1.37-1.37c-.4-.4-.92-.59-1.43-.59-.52 0-1.04.2-1.43.59L10.3 9.45l-7.72 7.72c-.78.78-.78 2.05 0 2.83L4 21.41c.39.39.9.59 1.41.59.51 0 1.02-.2 1.41-.59l7.78-7.78 2.81-2.81c.8-.78.8-2.07 0-2.86zM5.41 20L4 18.59l7.72-7.72 1.47 1.35L5.41 20z\"/>\n",
              "  </svg>\n",
              "      </button>\n",
              "      \n",
              "  <style>\n",
              "    .colab-df-container {\n",
              "      display:flex;\n",
              "      flex-wrap:wrap;\n",
              "      gap: 12px;\n",
              "    }\n",
              "\n",
              "    .colab-df-convert {\n",
              "      background-color: #E8F0FE;\n",
              "      border: none;\n",
              "      border-radius: 50%;\n",
              "      cursor: pointer;\n",
              "      display: none;\n",
              "      fill: #1967D2;\n",
              "      height: 32px;\n",
              "      padding: 0 0 0 0;\n",
              "      width: 32px;\n",
              "    }\n",
              "\n",
              "    .colab-df-convert:hover {\n",
              "      background-color: #E2EBFA;\n",
              "      box-shadow: 0px 1px 2px rgba(60, 64, 67, 0.3), 0px 1px 3px 1px rgba(60, 64, 67, 0.15);\n",
              "      fill: #174EA6;\n",
              "    }\n",
              "\n",
              "    [theme=dark] .colab-df-convert {\n",
              "      background-color: #3B4455;\n",
              "      fill: #D2E3FC;\n",
              "    }\n",
              "\n",
              "    [theme=dark] .colab-df-convert:hover {\n",
              "      background-color: #434B5C;\n",
              "      box-shadow: 0px 1px 3px 1px rgba(0, 0, 0, 0.15);\n",
              "      filter: drop-shadow(0px 1px 2px rgba(0, 0, 0, 0.3));\n",
              "      fill: #FFFFFF;\n",
              "    }\n",
              "  </style>\n",
              "\n",
              "      <script>\n",
              "        const buttonEl =\n",
              "          document.querySelector('#df-6e7ec183-7c04-4e7a-8293-f864525e9fe5 button.colab-df-convert');\n",
              "        buttonEl.style.display =\n",
              "          google.colab.kernel.accessAllowed ? 'block' : 'none';\n",
              "\n",
              "        async function convertToInteractive(key) {\n",
              "          const element = document.querySelector('#df-6e7ec183-7c04-4e7a-8293-f864525e9fe5');\n",
              "          const dataTable =\n",
              "            await google.colab.kernel.invokeFunction('convertToInteractive',\n",
              "                                                     [key], {});\n",
              "          if (!dataTable) return;\n",
              "\n",
              "          const docLinkHtml = 'Like what you see? Visit the ' +\n",
              "            '<a target=\"_blank\" href=https://colab.research.google.com/notebooks/data_table.ipynb>data table notebook</a>'\n",
              "            + ' to learn more about interactive tables.';\n",
              "          element.innerHTML = '';\n",
              "          dataTable['output_type'] = 'display_data';\n",
              "          await google.colab.output.renderOutput(dataTable, element);\n",
              "          const docLink = document.createElement('div');\n",
              "          docLink.innerHTML = docLinkHtml;\n",
              "          element.appendChild(docLink);\n",
              "        }\n",
              "      </script>\n",
              "    </div>\n",
              "  </div>\n",
              "  "
            ]
          },
          "metadata": {},
          "execution_count": 46
        }
      ]
    },
    {
      "cell_type": "code",
      "source": [
        "#Let's see how the data distribution has become\n",
        "final_df['category'].value_counts()"
      ],
      "metadata": {
        "colab": {
          "base_uri": "https://localhost:8080/"
        },
        "id": "8v7T_lMa8M3l",
        "outputId": "d65decaa-c82c-4d08-d47a-dfee7c3d5d9a"
      },
      "execution_count": null,
      "outputs": [
        {
          "output_type": "execute_result",
          "data": {
            "text/plain": [
              "cond-mat    42786\n",
              "math        42786\n",
              "cs          42786\n",
              "physics     38243\n",
              "astro-ph    38039\n",
              "stat        22745\n",
              "gr-qc       17324\n",
              "quant-ph    16020\n",
              "eess        15843\n",
              "hep-ph      11400\n",
              "q-bio       11330\n",
              "hep-th      10690\n",
              "hep-ex       7900\n",
              "math-ph      7644\n",
              "nucl-th      7034\n",
              "q-fin        6106\n",
              "nlin         5788\n",
              "econ         4100\n",
              "nucl-ex      3576\n",
              "hep-lat      2264\n",
              "Name: category, dtype: int64"
            ]
          },
          "metadata": {},
          "execution_count": 47
        }
      ]
    },
    {
      "cell_type": "code",
      "source": [
        "#Finally, our dataset looks much better \n",
        "#Dataset has become way more balaned than original one"
      ],
      "metadata": {
        "id": "G10W1s2i8M5t"
      },
      "execution_count": null,
      "outputs": []
    },
    {
      "cell_type": "markdown",
      "source": [
        "Now, let's preprocess our text data so that they can be used with RNN model"
      ],
      "metadata": {
        "id": "6Cqi88uV9YvB"
      }
    },
    {
      "cell_type": "code",
      "source": [
        "#Create features and labels\n",
        "X1 = final_df['title'].values\n",
        "X2 = final_df['abstract'].values\n",
        "labels = final_df['category'].values\n",
        "texts = X1+X2"
      ],
      "metadata": {
        "id": "bpIR13Vq8M7v"
      },
      "execution_count": null,
      "outputs": []
    },
    {
      "cell_type": "code",
      "source": [
        "texts[:3]"
      ],
      "metadata": {
        "colab": {
          "base_uri": "https://localhost:8080/"
        },
        "id": "nvS2YhGDir2c",
        "outputId": "f576ca53-fc62-48e6-ea58-c2ac47830d80"
      },
      "execution_count": null,
      "outputs": [
        {
          "output_type": "execute_result",
          "data": {
            "text/plain": [
              "array(['noise noise ratios correlation length calculations near criticalityfinite random systems possible define two types variances noises demonstrated ratio useful calculating correlation length infinite rather general random system function temperature numerical method obtaining variables relevant real space numerical renormalization simulation method matter correlation length obtained novel technique may used obtain directly critical correlation exponent nu rather indirectly using scaling relations often done method demonstrated applying random field ising model',\n",
              "       'exactly solvable model 4+1d beyond cohomology symmetry protected topological phaseconstruct exactly solvable commuting projector model 4+1 dimensional mathbb z _2 symmetry protected topological phase spt outside cohomology classification spts model described decorated domain wall construction three fermion walker wang phases domain walls describe anomalous nature phase several ways one interesting feature contrast cohomology phases effective mathbb z _2 symmetry 3+1 dimensional boundary cannot described quantum circuit instead nontrivial quantum cellular automaton qca related property codimension two defect example termination mathbb z _2 domain wall trivial boundary carry nontrivial chiral central charge 4 mod 8 also construct gapped symmetric topologically ordered boundary state model constitutes anomalous symmetry enriched topological phase outside classification arxiv 1602 00187 define corresponding anomaly indicator',\n",
              "       'n independent localized krylov bogoliubov de gennes method ultra fast numerical approach large scale inhomogeneous superconductorspropose ultra fast numerical approach large scale inhomogeneous superconductors call localized krylov bogoliubov de gennes method lk bdg lk bdg method computational complexity local green function used calculate local density states mean fields depend system size n calculation cost self consistent calculations cal n enables us open new avenue treating extremely large systems millions lattice sites show power lk bdg method demonstrate self consistent calculation 143806 site penrose quasicrystal lattice vortex calculation 1016064 site two dimensional nearest neighbor square lattice tight binding model many vortices also demonstrate takes less 30 seconds one cpu core calculate local density states whole energy range 100 millions site tight binding model'],\n",
              "      dtype=object)"
            ]
          },
          "metadata": {},
          "execution_count": 60
        }
      ]
    },
    {
      "cell_type": "code",
      "source": [
        "labels"
      ],
      "metadata": {
        "colab": {
          "base_uri": "https://localhost:8080/"
        },
        "id": "wm-xpejm8M9m",
        "outputId": "5dd396d3-c935-45f2-d37f-0503ecb1e602"
      },
      "execution_count": null,
      "outputs": [
        {
          "output_type": "execute_result",
          "data": {
            "text/plain": [
              "array(['cond-mat', 'cond-mat', 'cond-mat', ..., 'quant-ph', 'nucl-th',\n",
              "       'q-fin'], dtype=object)"
            ]
          },
          "metadata": {},
          "execution_count": 50
        }
      ]
    },
    {
      "cell_type": "code",
      "source": [
        "num_classes = len(set(labels))\n",
        "num_classes"
      ],
      "metadata": {
        "colab": {
          "base_uri": "https://localhost:8080/"
        },
        "id": "1gk6S7ijjDER",
        "outputId": "23fd4ef4-9c0b-4ade-8b4c-75a360bf249c"
      },
      "execution_count": null,
      "outputs": [
        {
          "output_type": "execute_result",
          "data": {
            "text/plain": [
              "20"
            ]
          },
          "metadata": {},
          "execution_count": 63
        }
      ]
    },
    {
      "cell_type": "code",
      "source": [
        "from keras.utils import to_categorical"
      ],
      "metadata": {
        "id": "uEnByB3SkpJy"
      },
      "execution_count": null,
      "outputs": []
    },
    {
      "cell_type": "code",
      "source": [
        "from sklearn.preprocessing import LabelEncoder\n",
        "le = LabelEncoder()\n",
        "label = le.fit_transform(labels)\n",
        "labels = to_categorical(label, num_classes=num_classes)"
      ],
      "metadata": {
        "id": "1IyraVLqkdbf"
      },
      "execution_count": null,
      "outputs": []
    },
    {
      "cell_type": "code",
      "source": [
        "# Split the dataset into train and validation sets\n",
        "from sklearn.model_selection import train_test_split\n",
        "x_train, x_test, y_train, y_test = train_test_split(texts, labels, test_size=0.2)"
      ],
      "metadata": {
        "id": "FeJ1yfQXj6z5"
      },
      "execution_count": null,
      "outputs": []
    },
    {
      "cell_type": "code",
      "source": [
        "#Let's use embedding (transfer learning)\n",
        "embedding = \"https://tfhub.dev/google/nnlm-en-dim50/2\""
      ],
      "metadata": {
        "id": "A84M3p9dh665"
      },
      "execution_count": null,
      "outputs": []
    },
    {
      "cell_type": "code",
      "source": [
        "import tensorflow as tf\n",
        "import tensorflow_hub as hub"
      ],
      "metadata": {
        "id": "ovGMvhcKiPms"
      },
      "execution_count": null,
      "outputs": []
    },
    {
      "cell_type": "code",
      "source": [
        "hub_layer = hub.KerasLayer(embedding, input_shape=[], \n",
        "                           dtype=tf.string, trainable=True)"
      ],
      "metadata": {
        "id": "IzwUpLnMh69F"
      },
      "execution_count": null,
      "outputs": []
    },
    {
      "cell_type": "code",
      "source": [
        "hub_layer(texts[:2])"
      ],
      "metadata": {
        "colab": {
          "base_uri": "https://localhost:8080/"
        },
        "id": "P1RAQIVsh6_g",
        "outputId": "b7733bd5-a313-4a03-834d-2b7dc20d5937"
      },
      "execution_count": null,
      "outputs": [
        {
          "output_type": "execute_result",
          "data": {
            "text/plain": [
              "<tf.Tensor: shape=(2, 50), dtype=float32, numpy=\n",
              "array([[ 0.2638609 , -0.64824814,  0.04562867, -0.1098823 , -0.9232943 ,\n",
              "         0.01212509, -0.07654639,  0.5181153 , -0.8579675 ,  0.22006272,\n",
              "         0.14659154,  0.1276213 ,  0.41004118, -0.64290124, -0.22879317,\n",
              "         0.03863401,  0.53961587, -0.6501783 ,  0.5105377 , -0.19373697,\n",
              "        -0.09167834,  0.6161593 ,  0.74786407, -0.546173  ,  0.14825577,\n",
              "        -0.34129947,  0.18156204,  0.12870675,  0.57867944, -0.24376369,\n",
              "         0.20244217,  0.2578369 , -0.05890707, -0.44663632, -0.02562064,\n",
              "        -0.5357646 ,  0.21947792, -0.82818544,  0.13461113, -0.17218429,\n",
              "         0.21569909,  0.7806    ,  0.5461602 ,  0.42031467, -0.02079178,\n",
              "        -0.4855936 , -0.44177014,  0.19496308,  1.2824658 ,  0.3102327 ],\n",
              "       [ 0.30610925, -1.1763316 ,  0.10156737, -0.02282765, -0.9733205 ,\n",
              "         0.00179539, -0.21293321,  0.57153076, -1.2882495 ,  0.3619177 ,\n",
              "        -0.2925936 ,  0.20599039,  0.30590293, -0.1680086 ,  0.0947945 ,\n",
              "         0.11566198,  1.0192586 , -0.34030774,  0.4818483 , -0.09655405,\n",
              "        -0.03428934,  0.42428878,  0.6264403 ,  0.2702228 , -0.02338077,\n",
              "        -0.34873646,  0.6567039 ,  0.01319087,  0.23756006, -0.21673389,\n",
              "         0.11742658,  0.2551484 , -0.38772157, -0.25383002,  0.2883105 ,\n",
              "        -0.9550039 , -0.04114775, -0.41321436, -0.04659872, -0.24617252,\n",
              "         0.03867815,  0.35506403, -0.00976251,  0.5746837 , -0.17774726,\n",
              "        -0.3887219 , -0.01908805,  0.2430285 ,  1.3741235 ,  0.02701069]],\n",
              "      dtype=float32)>"
            ]
          },
          "metadata": {},
          "execution_count": 75
        }
      ]
    },
    {
      "cell_type": "code",
      "source": [
        "#Now, let's build the model\n",
        "model = tf.keras.Sequential()\n",
        "model.add(hub_layer)\n",
        "model.add(tf.keras.layers.Dense(16, activation='relu'))\n",
        "model.add(tf.keras.layers.Dense(num_classes, activation='softmax'))\n",
        "\n",
        "model.summary()"
      ],
      "metadata": {
        "colab": {
          "base_uri": "https://localhost:8080/"
        },
        "id": "Ob4bJI8Sh7BI",
        "outputId": "22a13592-dc2c-44e2-c011-6dd8e46f1c21"
      },
      "execution_count": null,
      "outputs": [
        {
          "output_type": "stream",
          "name": "stdout",
          "text": [
            "Model: \"sequential_1\"\n",
            "_________________________________________________________________\n",
            " Layer (type)                Output Shape              Param #   \n",
            "=================================================================\n",
            " keras_layer_2 (KerasLayer)  (None, 50)                48190600  \n",
            "                                                                 \n",
            " dense_2 (Dense)             (None, 16)                816       \n",
            "                                                                 \n",
            " dense_3 (Dense)             (None, 20)                340       \n",
            "                                                                 \n",
            "=================================================================\n",
            "Total params: 48,191,756\n",
            "Trainable params: 48,191,756\n",
            "Non-trainable params: 0\n",
            "_________________________________________________________________\n"
          ]
        }
      ]
    },
    {
      "cell_type": "code",
      "source": [
        "#Compile the model\n",
        "model.compile(optimizer='adam',\n",
        "              loss=tf.keras.losses.BinaryCrossentropy(from_logits=True),\n",
        "              metrics=['accuracy'])"
      ],
      "metadata": {
        "id": "NuRGMa1uh7DS"
      },
      "execution_count": null,
      "outputs": []
    },
    {
      "cell_type": "code",
      "source": [
        "#Train the model\n",
        "history = model.fit(x_train, y_train, validation_data=(x_test, y_test), epochs = 10)"
      ],
      "metadata": {
        "id": "XvRL62UwlYVu"
      },
      "execution_count": null,
      "outputs": []
    },
    {
      "cell_type": "code",
      "source": [
        "from keras.models import load_model\n",
        "\n",
        "# Save the model\n",
        "model.save('model1.h5')\n"
      ],
      "metadata": {
        "id": "FOJzSZo0BQ3j"
      },
      "execution_count": null,
      "outputs": []
    },
    {
      "cell_type": "code",
      "source": [
        "# Download the model file\n",
        "from google.colab import files\n",
        "files.download('model1.h5')\n",
        "\n",
        "loaded_model = load_model('model1.h5')"
      ],
      "metadata": {
        "colab": {
          "base_uri": "https://localhost:8080/",
          "height": 34
        },
        "id": "3xViZ1A2UDT6",
        "outputId": "b16a778c-db0e-4b70-b4a4-369064113d95"
      },
      "execution_count": null,
      "outputs": [
        {
          "output_type": "display_data",
          "data": {
            "text/plain": [
              "<IPython.core.display.Javascript object>"
            ],
            "application/javascript": [
              "\n",
              "    async function download(id, filename, size) {\n",
              "      if (!google.colab.kernel.accessAllowed) {\n",
              "        return;\n",
              "      }\n",
              "      const div = document.createElement('div');\n",
              "      const label = document.createElement('label');\n",
              "      label.textContent = `Downloading \"${filename}\": `;\n",
              "      div.appendChild(label);\n",
              "      const progress = document.createElement('progress');\n",
              "      progress.max = size;\n",
              "      div.appendChild(progress);\n",
              "      document.body.appendChild(div);\n",
              "\n",
              "      const buffers = [];\n",
              "      let downloaded = 0;\n",
              "\n",
              "      const channel = await google.colab.kernel.comms.open(id);\n",
              "      // Send a message to notify the kernel that we're ready.\n",
              "      channel.send({})\n",
              "\n",
              "      for await (const message of channel.messages) {\n",
              "        // Send a message to notify the kernel that we're ready.\n",
              "        channel.send({})\n",
              "        if (message.buffers) {\n",
              "          for (const buffer of message.buffers) {\n",
              "            buffers.push(buffer);\n",
              "            downloaded += buffer.byteLength;\n",
              "            progress.value = downloaded;\n",
              "          }\n",
              "        }\n",
              "      }\n",
              "      const blob = new Blob(buffers, {type: 'application/binary'});\n",
              "      const a = document.createElement('a');\n",
              "      a.href = window.URL.createObjectURL(blob);\n",
              "      a.download = filename;\n",
              "      div.appendChild(a);\n",
              "      a.click();\n",
              "      div.remove();\n",
              "    }\n",
              "  "
            ]
          },
          "metadata": {}
        },
        {
          "output_type": "display_data",
          "data": {
            "text/plain": [
              "<IPython.core.display.Javascript object>"
            ],
            "application/javascript": [
              "download(\"download_7fcca099-2dc8-4776-af1a-e3cff5def3ee\", \"model1.h5\", 559817840)"
            ]
          },
          "metadata": {}
        }
      ]
    },
    {
      "cell_type": "code",
      "source": [],
      "metadata": {
        "id": "fBYBCGWQeonl"
      },
      "execution_count": null,
      "outputs": []
    }
  ]
}