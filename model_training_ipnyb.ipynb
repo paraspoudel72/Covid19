{
  "nbformat": 4,
  "nbformat_minor": 0,
  "metadata": {
    "colab": {
      "provenance": []
    },
    "kernelspec": {
      "name": "python3",
      "display_name": "Python 3"
    },
    "language_info": {
      "name": "python"
    },
    "accelerator": "GPU",
    "gpuClass": "standard"
  },
  "cells": [
    {
      "cell_type": "code",
      "execution_count": null,
      "metadata": {
        "colab": {
          "base_uri": "https://localhost:8080/"
        },
        "id": "aLONudmCGGYB",
        "outputId": "0ad67cac-17e5-427f-fe12-460bec9983d7"
      },
      "outputs": [
        {
          "output_type": "stream",
          "name": "stdout",
          "text": [
            "Mounted at /content/drive\n"
          ]
        }
      ],
      "source": [
        "from google.colab import drive\n",
        "drive.mount(\"/content/drive\")"
      ]
    },
    {
      "cell_type": "code",
      "source": [
        "#Importing necessary libraries\n",
        "import pandas as pd\n",
        "import nltk\n",
        "nltk.download('stopwords')\n",
        "import logging\n",
        "from numpy import random\n",
        "from nltk.corpus import stopwords\n",
        "import re\n",
        "from nltk.util import ngrams\n",
        "import random\n",
        "from nltk.corpus import wordnet\n",
        "nltk.download('punkt')\n",
        "nltk.download('wordnet')\n",
        "nltk.download('omw-1.4')\n",
        "from nltk.tokenize import word_tokenize"
      ],
      "metadata": {
        "id": "ic-sqF79GLP4",
        "colab": {
          "base_uri": "https://localhost:8080/"
        },
        "outputId": "c3365a42-739f-4c13-9dc8-b75044c9ac7c"
      },
      "execution_count": null,
      "outputs": [
        {
          "output_type": "stream",
          "name": "stderr",
          "text": [
            "[nltk_data] Downloading package stopwords to /root/nltk_data...\n",
            "[nltk_data]   Unzipping corpora/stopwords.zip.\n",
            "[nltk_data] Downloading package punkt to /root/nltk_data...\n",
            "[nltk_data]   Unzipping tokenizers/punkt.zip.\n",
            "[nltk_data] Downloading package wordnet to /root/nltk_data...\n",
            "[nltk_data] Downloading package omw-1.4 to /root/nltk_data...\n"
          ]
        }
      ]
    },
    {
      "cell_type": "code",
      "source": [
        "#Loading data from google drive\n",
        "train_data = pd.read_csv(\"/content/drive/MyDrive/Colab Notebooks/DataRush/train.csv\")"
      ],
      "metadata": {
        "id": "-PnJnphNGOG6"
      },
      "execution_count": null,
      "outputs": []
    },
    {
      "cell_type": "code",
      "source": [
        "train_data.head()"
      ],
      "metadata": {
        "id": "2sgFtksUGUwL",
        "colab": {
          "base_uri": "https://localhost:8080/",
          "height": 206
        },
        "outputId": "24908ba0-69b5-4221-bea7-098950ab0809"
      },
      "execution_count": null,
      "outputs": [
        {
          "output_type": "execute_result",
          "data": {
            "text/plain": [
              "           id                                              title  \\\n",
              "0   2009.0642  Completely Self-Supervised Crowd Counting via ...   \n",
              "1  2010.13821  Wavelet Flow: Fast Training of High Resolution...   \n",
              "2  1904.12782  Transversally Elliptic Complex and Cohomologic...   \n",
              "3  2105.00878  On the Malliavin-Rubel theorem on small entire...   \n",
              "4  1906.04024          On the Odd Cycle Game and Connected Rules   \n",
              "\n",
              "                                            abstract category  \n",
              "0    Dense crowd counting is a challenging task t...       cs  \n",
              "1    Normalizing flows are a class of probabilist...       cs  \n",
              "2    This work is a continuation of our previous ...     math  \n",
              "3    In the early 1960s, P. Malliavin and L. A. R...     math  \n",
              "4    We study the positional game where two playe...     math  "
            ],
            "text/html": [
              "\n",
              "  <div id=\"df-fb0fee12-05bb-491e-84c8-1382f539675b\">\n",
              "    <div class=\"colab-df-container\">\n",
              "      <div>\n",
              "<style scoped>\n",
              "    .dataframe tbody tr th:only-of-type {\n",
              "        vertical-align: middle;\n",
              "    }\n",
              "\n",
              "    .dataframe tbody tr th {\n",
              "        vertical-align: top;\n",
              "    }\n",
              "\n",
              "    .dataframe thead th {\n",
              "        text-align: right;\n",
              "    }\n",
              "</style>\n",
              "<table border=\"1\" class=\"dataframe\">\n",
              "  <thead>\n",
              "    <tr style=\"text-align: right;\">\n",
              "      <th></th>\n",
              "      <th>id</th>\n",
              "      <th>title</th>\n",
              "      <th>abstract</th>\n",
              "      <th>category</th>\n",
              "    </tr>\n",
              "  </thead>\n",
              "  <tbody>\n",
              "    <tr>\n",
              "      <th>0</th>\n",
              "      <td>2009.0642</td>\n",
              "      <td>Completely Self-Supervised Crowd Counting via ...</td>\n",
              "      <td>Dense crowd counting is a challenging task t...</td>\n",
              "      <td>cs</td>\n",
              "    </tr>\n",
              "    <tr>\n",
              "      <th>1</th>\n",
              "      <td>2010.13821</td>\n",
              "      <td>Wavelet Flow: Fast Training of High Resolution...</td>\n",
              "      <td>Normalizing flows are a class of probabilist...</td>\n",
              "      <td>cs</td>\n",
              "    </tr>\n",
              "    <tr>\n",
              "      <th>2</th>\n",
              "      <td>1904.12782</td>\n",
              "      <td>Transversally Elliptic Complex and Cohomologic...</td>\n",
              "      <td>This work is a continuation of our previous ...</td>\n",
              "      <td>math</td>\n",
              "    </tr>\n",
              "    <tr>\n",
              "      <th>3</th>\n",
              "      <td>2105.00878</td>\n",
              "      <td>On the Malliavin-Rubel theorem on small entire...</td>\n",
              "      <td>In the early 1960s, P. Malliavin and L. A. R...</td>\n",
              "      <td>math</td>\n",
              "    </tr>\n",
              "    <tr>\n",
              "      <th>4</th>\n",
              "      <td>1906.04024</td>\n",
              "      <td>On the Odd Cycle Game and Connected Rules</td>\n",
              "      <td>We study the positional game where two playe...</td>\n",
              "      <td>math</td>\n",
              "    </tr>\n",
              "  </tbody>\n",
              "</table>\n",
              "</div>\n",
              "      <button class=\"colab-df-convert\" onclick=\"convertToInteractive('df-fb0fee12-05bb-491e-84c8-1382f539675b')\"\n",
              "              title=\"Convert this dataframe to an interactive table.\"\n",
              "              style=\"display:none;\">\n",
              "        \n",
              "  <svg xmlns=\"http://www.w3.org/2000/svg\" height=\"24px\"viewBox=\"0 0 24 24\"\n",
              "       width=\"24px\">\n",
              "    <path d=\"M0 0h24v24H0V0z\" fill=\"none\"/>\n",
              "    <path d=\"M18.56 5.44l.94 2.06.94-2.06 2.06-.94-2.06-.94-.94-2.06-.94 2.06-2.06.94zm-11 1L8.5 8.5l.94-2.06 2.06-.94-2.06-.94L8.5 2.5l-.94 2.06-2.06.94zm10 10l.94 2.06.94-2.06 2.06-.94-2.06-.94-.94-2.06-.94 2.06-2.06.94z\"/><path d=\"M17.41 7.96l-1.37-1.37c-.4-.4-.92-.59-1.43-.59-.52 0-1.04.2-1.43.59L10.3 9.45l-7.72 7.72c-.78.78-.78 2.05 0 2.83L4 21.41c.39.39.9.59 1.41.59.51 0 1.02-.2 1.41-.59l7.78-7.78 2.81-2.81c.8-.78.8-2.07 0-2.86zM5.41 20L4 18.59l7.72-7.72 1.47 1.35L5.41 20z\"/>\n",
              "  </svg>\n",
              "      </button>\n",
              "      \n",
              "  <style>\n",
              "    .colab-df-container {\n",
              "      display:flex;\n",
              "      flex-wrap:wrap;\n",
              "      gap: 12px;\n",
              "    }\n",
              "\n",
              "    .colab-df-convert {\n",
              "      background-color: #E8F0FE;\n",
              "      border: none;\n",
              "      border-radius: 50%;\n",
              "      cursor: pointer;\n",
              "      display: none;\n",
              "      fill: #1967D2;\n",
              "      height: 32px;\n",
              "      padding: 0 0 0 0;\n",
              "      width: 32px;\n",
              "    }\n",
              "\n",
              "    .colab-df-convert:hover {\n",
              "      background-color: #E2EBFA;\n",
              "      box-shadow: 0px 1px 2px rgba(60, 64, 67, 0.3), 0px 1px 3px 1px rgba(60, 64, 67, 0.15);\n",
              "      fill: #174EA6;\n",
              "    }\n",
              "\n",
              "    [theme=dark] .colab-df-convert {\n",
              "      background-color: #3B4455;\n",
              "      fill: #D2E3FC;\n",
              "    }\n",
              "\n",
              "    [theme=dark] .colab-df-convert:hover {\n",
              "      background-color: #434B5C;\n",
              "      box-shadow: 0px 1px 3px 1px rgba(0, 0, 0, 0.15);\n",
              "      filter: drop-shadow(0px 1px 2px rgba(0, 0, 0, 0.3));\n",
              "      fill: #FFFFFF;\n",
              "    }\n",
              "  </style>\n",
              "\n",
              "      <script>\n",
              "        const buttonEl =\n",
              "          document.querySelector('#df-fb0fee12-05bb-491e-84c8-1382f539675b button.colab-df-convert');\n",
              "        buttonEl.style.display =\n",
              "          google.colab.kernel.accessAllowed ? 'block' : 'none';\n",
              "\n",
              "        async function convertToInteractive(key) {\n",
              "          const element = document.querySelector('#df-fb0fee12-05bb-491e-84c8-1382f539675b');\n",
              "          const dataTable =\n",
              "            await google.colab.kernel.invokeFunction('convertToInteractive',\n",
              "                                                     [key], {});\n",
              "          if (!dataTable) return;\n",
              "\n",
              "          const docLinkHtml = 'Like what you see? Visit the ' +\n",
              "            '<a target=\"_blank\" href=https://colab.research.google.com/notebooks/data_table.ipynb>data table notebook</a>'\n",
              "            + ' to learn more about interactive tables.';\n",
              "          element.innerHTML = '';\n",
              "          dataTable['output_type'] = 'display_data';\n",
              "          await google.colab.output.renderOutput(dataTable, element);\n",
              "          const docLink = document.createElement('div');\n",
              "          docLink.innerHTML = docLinkHtml;\n",
              "          element.appendChild(docLink);\n",
              "        }\n",
              "      </script>\n",
              "    </div>\n",
              "  </div>\n",
              "  "
            ]
          },
          "metadata": {},
          "execution_count": 5
        }
      ]
    },
    {
      "cell_type": "code",
      "source": [
        "#Let's visualize data distribution\n",
        "train_data['category'].value_counts()"
      ],
      "metadata": {
        "id": "G8IwC-6KGWn3",
        "colab": {
          "base_uri": "https://localhost:8080/"
        },
        "outputId": "850df3e5-68de-4a4f-cf54-2cbac30e6a75"
      },
      "execution_count": null,
      "outputs": [
        {
          "output_type": "execute_result",
          "data": {
            "text/plain": [
              "cs          262503\n",
              "math        177679\n",
              "cond-mat     71772\n",
              "physics      66282\n",
              "astro-ph     58737\n",
              "stat         51308\n",
              "eess         34330\n",
              "quant-ph     25171\n",
              "hep-th       19706\n",
              "hep-ph       19207\n",
              "gr-qc        15590\n",
              "math-ph      12238\n",
              "q-bio        10530\n",
              "hep-ex        7435\n",
              "nucl-th       6662\n",
              "nlin          6047\n",
              "q-fin         5942\n",
              "econ          3924\n",
              "nucl-ex       3627\n",
              "hep-lat       2538\n",
              "q-alg            2\n",
              "funct-an         1\n",
              "alg-geom         1\n",
              "Name: category, dtype: int64"
            ]
          },
          "metadata": {},
          "execution_count": 6
        }
      ]
    },
    {
      "cell_type": "code",
      "source": [
        "#Drop duplicate values\n",
        "train_data = train_data.drop_duplicates(subset='title')\n",
        "train_data['category'].value_counts()"
      ],
      "metadata": {
        "colab": {
          "base_uri": "https://localhost:8080/"
        },
        "id": "XomngL7hOGSE",
        "outputId": "809597ff-2765-4da0-904e-ec93f559a496"
      },
      "execution_count": null,
      "outputs": [
        {
          "output_type": "execute_result",
          "data": {
            "text/plain": [
              "cs          139225\n",
              "math        105146\n",
              "cond-mat     42786\n",
              "physics      38243\n",
              "astro-ph     38039\n",
              "stat         22745\n",
              "quant-ph     16020\n",
              "eess         15843\n",
              "hep-ph       11400\n",
              "hep-th       10690\n",
              "gr-qc         8662\n",
              "q-bio         5665\n",
              "hep-ex        3950\n",
              "math-ph       3822\n",
              "nucl-th       3517\n",
              "q-fin         3053\n",
              "nlin          2894\n",
              "econ          2050\n",
              "nucl-ex       1788\n",
              "hep-lat       1132\n",
              "funct-an         1\n",
              "alg-geom         1\n",
              "Name: category, dtype: int64"
            ]
          },
          "metadata": {},
          "execution_count": 7
        }
      ]
    },
    {
      "cell_type": "code",
      "source": [
        "#dropping rows with just 1 sample\n",
        "df = train_data[~train_data['category'].isin(['funct-an', 'alg-geom'])]"
      ],
      "metadata": {
        "id": "MCHdKxpJGa2q"
      },
      "execution_count": null,
      "outputs": []
    },
    {
      "cell_type": "code",
      "source": [
        "#Cleaning text data\n",
        "REPLACE_BY_SPACE_RE = re.compile('[/(){}\\[\\]\\|@,;]')\n",
        "BAD_SYMBOLS_RE = re.compile('[^0-9a-z #+_]')\n",
        "STOPWORDS = set(stopwords.words('english'))\n",
        "\n",
        "def clean_text(text):\n",
        "    text = text.lower() # lowercase text\n",
        "    text = REPLACE_BY_SPACE_RE.sub(' ', text) # replace REPLACE_BY_SPACE_RE symbols by space in text\n",
        "    text = BAD_SYMBOLS_RE.sub(' ', text) # delete symbols which are in BAD_SYMBOLS_RE from text\n",
        "    text = ' '.join(word for word in text.split() if word not in STOPWORDS) # delete stopwors from text\n",
        "    return text\n",
        "\n",
        "df['abstract'] = df['abstract'].apply(clean_text)\n",
        "df['title'] = df['title'].apply(clean_text)"
      ],
      "metadata": {
        "id": "nbUDUTIBGdlp",
        "colab": {
          "base_uri": "https://localhost:8080/"
        },
        "outputId": "15017594-295f-4b2d-a3a5-b8bfc3b94c5d"
      },
      "execution_count": null,
      "outputs": [
        {
          "output_type": "stream",
          "name": "stderr",
          "text": [
            "<ipython-input-9-5cd7b47524b9>:13: SettingWithCopyWarning: \n",
            "A value is trying to be set on a copy of a slice from a DataFrame.\n",
            "Try using .loc[row_indexer,col_indexer] = value instead\n",
            "\n",
            "See the caveats in the documentation: https://pandas.pydata.org/pandas-docs/stable/user_guide/indexing.html#returning-a-view-versus-a-copy\n",
            "  df['abstract'] = df['abstract'].apply(clean_text)\n",
            "<ipython-input-9-5cd7b47524b9>:14: SettingWithCopyWarning: \n",
            "A value is trying to be set on a copy of a slice from a DataFrame.\n",
            "Try using .loc[row_indexer,col_indexer] = value instead\n",
            "\n",
            "See the caveats in the documentation: https://pandas.pydata.org/pandas-docs/stable/user_guide/indexing.html#returning-a-view-versus-a-copy\n",
            "  df['title'] = df['title'].apply(clean_text)\n"
          ]
        }
      ]
    },
    {
      "cell_type": "code",
      "source": [
        "#Visualize\n",
        "df['category'].value_counts()"
      ],
      "metadata": {
        "id": "eJYb5lsZGf0r",
        "colab": {
          "base_uri": "https://localhost:8080/"
        },
        "outputId": "22cda4d4-9093-4038-9ad8-ed7399ae85cc"
      },
      "execution_count": null,
      "outputs": [
        {
          "output_type": "execute_result",
          "data": {
            "text/plain": [
              "cs          139225\n",
              "math        105146\n",
              "cond-mat     42786\n",
              "physics      38243\n",
              "astro-ph     38039\n",
              "stat         22745\n",
              "quant-ph     16020\n",
              "eess         15843\n",
              "hep-ph       11400\n",
              "hep-th       10690\n",
              "gr-qc         8662\n",
              "q-bio         5665\n",
              "hep-ex        3950\n",
              "math-ph       3822\n",
              "nucl-th       3517\n",
              "q-fin         3053\n",
              "nlin          2894\n",
              "econ          2050\n",
              "nucl-ex       1788\n",
              "hep-lat       1132\n",
              "Name: category, dtype: int64"
            ]
          },
          "metadata": {},
          "execution_count": 10
        }
      ]
    },
    {
      "cell_type": "code",
      "source": [
        "len(df)"
      ],
      "metadata": {
        "colab": {
          "base_uri": "https://localhost:8080/"
        },
        "id": "tP5uKuPehE1A",
        "outputId": "13d70eb9-4681-4d44-d0e3-330a96c453a5"
      },
      "execution_count": null,
      "outputs": [
        {
          "output_type": "execute_result",
          "data": {
            "text/plain": [
              "476670"
            ]
          },
          "metadata": {},
          "execution_count": 11
        }
      ]
    },
    {
      "cell_type": "markdown",
      "source": [
        "Since some classes have very few data, let's try to generate more data through augmentation so that the model will have enough data to be trained later."
      ],
      "metadata": {
        "id": "txlfv8nk0rXP"
      }
    },
    {
      "cell_type": "code",
      "source": [
        "#Function for text augmentation\n",
        "#thorai data vako class ma apply gareko xa, to generate more data\n",
        "def augment(sentences):\n",
        "\n",
        "  augmented_sentences = []\n",
        "\n",
        "  for sentence in sentences:\n",
        "    tokens = word_tokenize(sentence)\n",
        "    new_tokens = []\n",
        "    for token in tokens:\n",
        "        synonyms = wordnet.synsets(token)\n",
        "        if synonyms:\n",
        "            new_token = random.choice(synonyms).lemmas()[0].name()\n",
        "            new_tokens.append(new_token)\n",
        "        else:\n",
        "            new_tokens.append(token)\n",
        "    augmented_sentence = \" \".join(new_tokens)\n",
        "    augmented_sentences.append(augmented_sentence)\n",
        "\n",
        "  return(augmented_sentences)"
      ],
      "metadata": {
        "id": "V-HIUh-AGiBe"
      },
      "execution_count": null,
      "outputs": []
    },
    {
      "cell_type": "code",
      "source": [
        "#Creating a copy\n",
        "df_copy = df.copy()"
      ],
      "metadata": {
        "id": "l0hmltQrqxRn"
      },
      "execution_count": null,
      "outputs": []
    },
    {
      "cell_type": "code",
      "source": [
        "df_copy['category'].value_counts()"
      ],
      "metadata": {
        "id": "18rHmwl-Glj4",
        "colab": {
          "base_uri": "https://localhost:8080/"
        },
        "outputId": "8d25cb24-5680-4477-82a8-695d2960ab86"
      },
      "execution_count": null,
      "outputs": [
        {
          "output_type": "execute_result",
          "data": {
            "text/plain": [
              "cs          139225\n",
              "math        105146\n",
              "cond-mat     42786\n",
              "physics      38243\n",
              "astro-ph     38039\n",
              "stat         22745\n",
              "quant-ph     16020\n",
              "eess         15843\n",
              "hep-ph       11400\n",
              "hep-th       10690\n",
              "gr-qc         8662\n",
              "q-bio         5665\n",
              "hep-ex        3950\n",
              "math-ph       3822\n",
              "nucl-th       3517\n",
              "q-fin         3053\n",
              "nlin          2894\n",
              "econ          2050\n",
              "nucl-ex       1788\n",
              "hep-lat       1132\n",
              "Name: category, dtype: int64"
            ]
          },
          "metadata": {},
          "execution_count": 14
        }
      ]
    },
    {
      "cell_type": "code",
      "source": [
        "#Listing classes which have low number of data\n",
        "less = ['gr-qc', 'q-bio', 'hep-ex', 'math-ph', 'nucl-th', 'q-fin', 'nlin', 'econ', 'nucl-ex', 'hep-lat']"
      ],
      "metadata": {
        "id": "EeiBB-6iGnz-"
      },
      "execution_count": null,
      "outputs": []
    },
    {
      "cell_type": "code",
      "source": [
        "#classes with extremely high number of training data\n",
        "#excess data vako class bata chai data remove garinxa (after sometime)\n",
        "more = ['cs', 'math']\n",
        "import numpy as np"
      ],
      "metadata": {
        "id": "bzXJB9qSWXKQ"
      },
      "execution_count": null,
      "outputs": []
    },
    {
      "cell_type": "code",
      "source": [
        "#some ugly code\n",
        "#ke trick le ramro banauna sakxau vane give it a try\n",
        "A = df.loc[df['category'] == 'gr-qc']\n",
        "B = df.loc[df['category'] == 'q-bio']\n",
        "C = df.loc[df['category'] == 'hep-ex']\n",
        "D = df.loc[df['category'] == 'math-ph']\n",
        "E = df.loc[df['category'] == 'nucl-th']\n",
        "F = df.loc[df['category'] == 'q-fin']\n",
        "G = df.loc[df['category'] == 'nlin']\n",
        "H = df.loc[df['category'] == 'econ']\n",
        "I = df.loc[df['category'] == 'nucl-ex']\n",
        "J = df.loc[df['category'] == 'hep-lat']"
      ],
      "metadata": {
        "id": "Qs1ihePfGqSF"
      },
      "execution_count": null,
      "outputs": []
    },
    {
      "cell_type": "code",
      "source": [
        "#some more ugly code XD\n",
        "A1 = A['title'].values\n",
        "A2 = A['abstract'].values\n",
        "B1 = B['title'].values\n",
        "B2 = B['abstract'].values\n",
        "C1 = C['title'].values\n",
        "C2 = C['abstract'].values\n",
        "D1 = D['title'].values\n",
        "D2 = D['abstract'].values\n",
        "E1 = E['title'].values\n",
        "E2 = E['abstract'].values\n",
        "F1 = F['title'].values\n",
        "F2 = F['abstract'].values\n",
        "G1 = G['title'].values\n",
        "G2 = G['abstract'].values\n",
        "H1 = H['title'].values\n",
        "H2 = H['abstract'].values\n",
        "I1 = I['title'].values\n",
        "I2 = I['abstract'].values\n",
        "J1 = J['title'].values\n",
        "J2 = J['abstract'].values"
      ],
      "metadata": {
        "id": "LN8LQojhGtKt"
      },
      "execution_count": null,
      "outputs": []
    },
    {
      "cell_type": "code",
      "source": [
        "A11 = augment(A1)\n",
        "A21 = augment(A2)\n",
        "B11 = augment(B1)\n",
        "B21 = augment(B2)\n",
        "C11 = augment(C1)\n",
        "C21 = augment(C2)\n",
        "D11 = augment(D1)\n",
        "D21 = augment(D2)\n",
        "E11 = augment(E1)\n",
        "E21 = augment(E2)\n",
        "F11 = augment(F1)\n",
        "F21 = augment(F2)\n",
        "G11 = augment(G1)\n",
        "G21 = augment(G2)\n",
        "H11 = augment(H1)\n",
        "H21 = augment(H2)\n",
        "I11 = augment(I1)\n",
        "I21 = augment(I2)\n",
        "J11 = augment(J1)\n",
        "J21 = augment(J2)"
      ],
      "metadata": {
        "id": "kzHJCOdZG0J2"
      },
      "execution_count": null,
      "outputs": []
    },
    {
      "cell_type": "code",
      "source": [
        "# Create a DataFrame from the lists\n",
        "#less = ['gr-qc', 'q-bio', 'hep-ex', 'math-ph', 'nucl-th', 'q-fin', 'nlin', 'econ', 'nucl-ex', 'hep-lat']\n",
        "dfA = pd.DataFrame({'title': A11, 'abstract': A21, 'category':'gr-qc'})\n",
        "dfB = pd.DataFrame({'title': B11, 'abstract': B21, 'category':'q-bio'})\n",
        "dfC = pd.DataFrame({'title': C11, 'abstract': C21, 'category':'hep-ex'})\n",
        "dfD = pd.DataFrame({'title': D11, 'abstract': D21, 'category':'math-ph'})\n",
        "dfE = pd.DataFrame({'title': E11, 'abstract': E21, 'category':'nucl-th'})\n",
        "dfF = pd.DataFrame({'title': F11, 'abstract': F21, 'category':'q-fin'})\n",
        "dfG = pd.DataFrame({'title': G11, 'abstract': G21, 'category':'nlin'})\n",
        "dfH = pd.DataFrame({'title': H11, 'abstract': H21, 'category':'econ'})\n",
        "dfI = pd.DataFrame({'title': I11, 'abstract': I21, 'category':'nucl-ex'})\n",
        "dfJ = pd.DataFrame({'title': J11, 'abstract': J21, 'category':'hep-lat'})"
      ],
      "metadata": {
        "id": "rhxlG81WKJAY"
      },
      "execution_count": null,
      "outputs": []
    },
    {
      "cell_type": "markdown",
      "source": [
        "Yo result_df ma hamile regenerate gareko data xa (10 ota class ko data)"
      ],
      "metadata": {
        "id": "Cjkr6NJ01-eB"
      }
    },
    {
      "cell_type": "markdown",
      "source": [
        "result_df contains data generated from text augmentation"
      ],
      "metadata": {
        "id": "g0OaZRsc2NxV"
      }
    },
    {
      "cell_type": "code",
      "source": [
        "result_df = pd.concat([dfA, dfB, dfC, dfD, dfE, dfF, dfG, dfH, dfI, dfJ], ignore_index=True)"
      ],
      "metadata": {
        "id": "wUtrtNIQgL1R"
      },
      "execution_count": null,
      "outputs": []
    },
    {
      "cell_type": "code",
      "source": [
        "#Let's visualize\n",
        "result_df.tail()"
      ],
      "metadata": {
        "colab": {
          "base_uri": "https://localhost:8080/",
          "height": 206
        },
        "id": "I2pYtCQ3gV0s",
        "outputId": "f1698027-fa0a-49d8-af93-9fe3ceec14d5"
      },
      "execution_count": null,
      "outputs": [
        {
          "output_type": "execute_result",
          "data": {
            "text/plain": [
              "                                                   title  \\\n",
              "36528  meson spectrum su newton gauge hypothesis quar...   \n",
              "36529    real prison_term development heavy quark glasma   \n",
              "36530    color electric correlation affair gradient flow   \n",
              "36531  survey pion pion scattering combination propag...   \n",
              "36532  wicket B-complex_vitamin shape factor radius v...   \n",
              "\n",
              "                                                abstract category  \n",
              "36528  gauge theory gauge group su north quark_cheese...  hep-lat  \n",
              "36529  introduce novel real time formulation lattice ...  hep-lat  \n",
              "36530  composition advance study color electric corre...  hep-lat  \n",
              "36531  newspaper report recent development hal quantu...  hep-lat  \n",
              "36532  discus Holocene progress wicket calculation B ...  hep-lat  "
            ],
            "text/html": [
              "\n",
              "  <div id=\"df-ff29002d-db21-4315-9eee-60cbe383e3ce\">\n",
              "    <div class=\"colab-df-container\">\n",
              "      <div>\n",
              "<style scoped>\n",
              "    .dataframe tbody tr th:only-of-type {\n",
              "        vertical-align: middle;\n",
              "    }\n",
              "\n",
              "    .dataframe tbody tr th {\n",
              "        vertical-align: top;\n",
              "    }\n",
              "\n",
              "    .dataframe thead th {\n",
              "        text-align: right;\n",
              "    }\n",
              "</style>\n",
              "<table border=\"1\" class=\"dataframe\">\n",
              "  <thead>\n",
              "    <tr style=\"text-align: right;\">\n",
              "      <th></th>\n",
              "      <th>title</th>\n",
              "      <th>abstract</th>\n",
              "      <th>category</th>\n",
              "    </tr>\n",
              "  </thead>\n",
              "  <tbody>\n",
              "    <tr>\n",
              "      <th>36528</th>\n",
              "      <td>meson spectrum su newton gauge hypothesis quar...</td>\n",
              "      <td>gauge theory gauge group su north quark_cheese...</td>\n",
              "      <td>hep-lat</td>\n",
              "    </tr>\n",
              "    <tr>\n",
              "      <th>36529</th>\n",
              "      <td>real prison_term development heavy quark glasma</td>\n",
              "      <td>introduce novel real time formulation lattice ...</td>\n",
              "      <td>hep-lat</td>\n",
              "    </tr>\n",
              "    <tr>\n",
              "      <th>36530</th>\n",
              "      <td>color electric correlation affair gradient flow</td>\n",
              "      <td>composition advance study color electric corre...</td>\n",
              "      <td>hep-lat</td>\n",
              "    </tr>\n",
              "    <tr>\n",
              "      <th>36531</th>\n",
              "      <td>survey pion pion scattering combination propag...</td>\n",
              "      <td>newspaper report recent development hal quantu...</td>\n",
              "      <td>hep-lat</td>\n",
              "    </tr>\n",
              "    <tr>\n",
              "      <th>36532</th>\n",
              "      <td>wicket B-complex_vitamin shape factor radius v...</td>\n",
              "      <td>discus Holocene progress wicket calculation B ...</td>\n",
              "      <td>hep-lat</td>\n",
              "    </tr>\n",
              "  </tbody>\n",
              "</table>\n",
              "</div>\n",
              "      <button class=\"colab-df-convert\" onclick=\"convertToInteractive('df-ff29002d-db21-4315-9eee-60cbe383e3ce')\"\n",
              "              title=\"Convert this dataframe to an interactive table.\"\n",
              "              style=\"display:none;\">\n",
              "        \n",
              "  <svg xmlns=\"http://www.w3.org/2000/svg\" height=\"24px\"viewBox=\"0 0 24 24\"\n",
              "       width=\"24px\">\n",
              "    <path d=\"M0 0h24v24H0V0z\" fill=\"none\"/>\n",
              "    <path d=\"M18.56 5.44l.94 2.06.94-2.06 2.06-.94-2.06-.94-.94-2.06-.94 2.06-2.06.94zm-11 1L8.5 8.5l.94-2.06 2.06-.94-2.06-.94L8.5 2.5l-.94 2.06-2.06.94zm10 10l.94 2.06.94-2.06 2.06-.94-2.06-.94-.94-2.06-.94 2.06-2.06.94z\"/><path d=\"M17.41 7.96l-1.37-1.37c-.4-.4-.92-.59-1.43-.59-.52 0-1.04.2-1.43.59L10.3 9.45l-7.72 7.72c-.78.78-.78 2.05 0 2.83L4 21.41c.39.39.9.59 1.41.59.51 0 1.02-.2 1.41-.59l7.78-7.78 2.81-2.81c.8-.78.8-2.07 0-2.86zM5.41 20L4 18.59l7.72-7.72 1.47 1.35L5.41 20z\"/>\n",
              "  </svg>\n",
              "      </button>\n",
              "      \n",
              "  <style>\n",
              "    .colab-df-container {\n",
              "      display:flex;\n",
              "      flex-wrap:wrap;\n",
              "      gap: 12px;\n",
              "    }\n",
              "\n",
              "    .colab-df-convert {\n",
              "      background-color: #E8F0FE;\n",
              "      border: none;\n",
              "      border-radius: 50%;\n",
              "      cursor: pointer;\n",
              "      display: none;\n",
              "      fill: #1967D2;\n",
              "      height: 32px;\n",
              "      padding: 0 0 0 0;\n",
              "      width: 32px;\n",
              "    }\n",
              "\n",
              "    .colab-df-convert:hover {\n",
              "      background-color: #E2EBFA;\n",
              "      box-shadow: 0px 1px 2px rgba(60, 64, 67, 0.3), 0px 1px 3px 1px rgba(60, 64, 67, 0.15);\n",
              "      fill: #174EA6;\n",
              "    }\n",
              "\n",
              "    [theme=dark] .colab-df-convert {\n",
              "      background-color: #3B4455;\n",
              "      fill: #D2E3FC;\n",
              "    }\n",
              "\n",
              "    [theme=dark] .colab-df-convert:hover {\n",
              "      background-color: #434B5C;\n",
              "      box-shadow: 0px 1px 3px 1px rgba(0, 0, 0, 0.15);\n",
              "      filter: drop-shadow(0px 1px 2px rgba(0, 0, 0, 0.3));\n",
              "      fill: #FFFFFF;\n",
              "    }\n",
              "  </style>\n",
              "\n",
              "      <script>\n",
              "        const buttonEl =\n",
              "          document.querySelector('#df-ff29002d-db21-4315-9eee-60cbe383e3ce button.colab-df-convert');\n",
              "        buttonEl.style.display =\n",
              "          google.colab.kernel.accessAllowed ? 'block' : 'none';\n",
              "\n",
              "        async function convertToInteractive(key) {\n",
              "          const element = document.querySelector('#df-ff29002d-db21-4315-9eee-60cbe383e3ce');\n",
              "          const dataTable =\n",
              "            await google.colab.kernel.invokeFunction('convertToInteractive',\n",
              "                                                     [key], {});\n",
              "          if (!dataTable) return;\n",
              "\n",
              "          const docLinkHtml = 'Like what you see? Visit the ' +\n",
              "            '<a target=\"_blank\" href=https://colab.research.google.com/notebooks/data_table.ipynb>data table notebook</a>'\n",
              "            + ' to learn more about interactive tables.';\n",
              "          element.innerHTML = '';\n",
              "          dataTable['output_type'] = 'display_data';\n",
              "          await google.colab.output.renderOutput(dataTable, element);\n",
              "          const docLink = document.createElement('div');\n",
              "          docLink.innerHTML = docLinkHtml;\n",
              "          element.appendChild(docLink);\n",
              "        }\n",
              "      </script>\n",
              "    </div>\n",
              "  </div>\n",
              "  "
            ]
          },
          "metadata": {},
          "execution_count": 22
        }
      ]
    },
    {
      "cell_type": "code",
      "source": [
        "#comparision with the original\n",
        "df.tail()"
      ],
      "metadata": {
        "colab": {
          "base_uri": "https://localhost:8080/",
          "height": 206
        },
        "id": "ZmTAIZbegkOs",
        "outputId": "b17e87f1-01cd-47b6-e301-13ce5962be32"
      },
      "execution_count": null,
      "outputs": [
        {
          "output_type": "execute_result",
          "data": {
            "text/plain": [
              "                id                                              title  \\\n",
              "861212  2102.00941  fast greedy subset selection large candidate s...   \n",
              "861221  2106.06956                billiard tables rotational symmetry   \n",
              "861222  1909.02882  implications increased lambda separation energ...   \n",
              "861226  1902.05287  risk management machine learning based algorithms   \n",
              "861233  1904.00375  lightchain dht based blockchain resource const...   \n",
              "\n",
              "                                                 abstract category  \n",
              "861212  subset selection interesting important topic f...       cs  \n",
              "861221  generalize following simple geometric fact cen...     math  \n",
              "861222  stimulated recent indications binding energy h...  nucl-th  \n",
              "861226  propose machine learning based algorithms solv...    q-fin  \n",
              "861233  append distributed database blockchain utilize...       cs  "
            ],
            "text/html": [
              "\n",
              "  <div id=\"df-6a9530be-ee52-4eff-baab-616ea66d5718\">\n",
              "    <div class=\"colab-df-container\">\n",
              "      <div>\n",
              "<style scoped>\n",
              "    .dataframe tbody tr th:only-of-type {\n",
              "        vertical-align: middle;\n",
              "    }\n",
              "\n",
              "    .dataframe tbody tr th {\n",
              "        vertical-align: top;\n",
              "    }\n",
              "\n",
              "    .dataframe thead th {\n",
              "        text-align: right;\n",
              "    }\n",
              "</style>\n",
              "<table border=\"1\" class=\"dataframe\">\n",
              "  <thead>\n",
              "    <tr style=\"text-align: right;\">\n",
              "      <th></th>\n",
              "      <th>id</th>\n",
              "      <th>title</th>\n",
              "      <th>abstract</th>\n",
              "      <th>category</th>\n",
              "    </tr>\n",
              "  </thead>\n",
              "  <tbody>\n",
              "    <tr>\n",
              "      <th>861212</th>\n",
              "      <td>2102.00941</td>\n",
              "      <td>fast greedy subset selection large candidate s...</td>\n",
              "      <td>subset selection interesting important topic f...</td>\n",
              "      <td>cs</td>\n",
              "    </tr>\n",
              "    <tr>\n",
              "      <th>861221</th>\n",
              "      <td>2106.06956</td>\n",
              "      <td>billiard tables rotational symmetry</td>\n",
              "      <td>generalize following simple geometric fact cen...</td>\n",
              "      <td>math</td>\n",
              "    </tr>\n",
              "    <tr>\n",
              "      <th>861222</th>\n",
              "      <td>1909.02882</td>\n",
              "      <td>implications increased lambda separation energ...</td>\n",
              "      <td>stimulated recent indications binding energy h...</td>\n",
              "      <td>nucl-th</td>\n",
              "    </tr>\n",
              "    <tr>\n",
              "      <th>861226</th>\n",
              "      <td>1902.05287</td>\n",
              "      <td>risk management machine learning based algorithms</td>\n",
              "      <td>propose machine learning based algorithms solv...</td>\n",
              "      <td>q-fin</td>\n",
              "    </tr>\n",
              "    <tr>\n",
              "      <th>861233</th>\n",
              "      <td>1904.00375</td>\n",
              "      <td>lightchain dht based blockchain resource const...</td>\n",
              "      <td>append distributed database blockchain utilize...</td>\n",
              "      <td>cs</td>\n",
              "    </tr>\n",
              "  </tbody>\n",
              "</table>\n",
              "</div>\n",
              "      <button class=\"colab-df-convert\" onclick=\"convertToInteractive('df-6a9530be-ee52-4eff-baab-616ea66d5718')\"\n",
              "              title=\"Convert this dataframe to an interactive table.\"\n",
              "              style=\"display:none;\">\n",
              "        \n",
              "  <svg xmlns=\"http://www.w3.org/2000/svg\" height=\"24px\"viewBox=\"0 0 24 24\"\n",
              "       width=\"24px\">\n",
              "    <path d=\"M0 0h24v24H0V0z\" fill=\"none\"/>\n",
              "    <path d=\"M18.56 5.44l.94 2.06.94-2.06 2.06-.94-2.06-.94-.94-2.06-.94 2.06-2.06.94zm-11 1L8.5 8.5l.94-2.06 2.06-.94-2.06-.94L8.5 2.5l-.94 2.06-2.06.94zm10 10l.94 2.06.94-2.06 2.06-.94-2.06-.94-.94-2.06-.94 2.06-2.06.94z\"/><path d=\"M17.41 7.96l-1.37-1.37c-.4-.4-.92-.59-1.43-.59-.52 0-1.04.2-1.43.59L10.3 9.45l-7.72 7.72c-.78.78-.78 2.05 0 2.83L4 21.41c.39.39.9.59 1.41.59.51 0 1.02-.2 1.41-.59l7.78-7.78 2.81-2.81c.8-.78.8-2.07 0-2.86zM5.41 20L4 18.59l7.72-7.72 1.47 1.35L5.41 20z\"/>\n",
              "  </svg>\n",
              "      </button>\n",
              "      \n",
              "  <style>\n",
              "    .colab-df-container {\n",
              "      display:flex;\n",
              "      flex-wrap:wrap;\n",
              "      gap: 12px;\n",
              "    }\n",
              "\n",
              "    .colab-df-convert {\n",
              "      background-color: #E8F0FE;\n",
              "      border: none;\n",
              "      border-radius: 50%;\n",
              "      cursor: pointer;\n",
              "      display: none;\n",
              "      fill: #1967D2;\n",
              "      height: 32px;\n",
              "      padding: 0 0 0 0;\n",
              "      width: 32px;\n",
              "    }\n",
              "\n",
              "    .colab-df-convert:hover {\n",
              "      background-color: #E2EBFA;\n",
              "      box-shadow: 0px 1px 2px rgba(60, 64, 67, 0.3), 0px 1px 3px 1px rgba(60, 64, 67, 0.15);\n",
              "      fill: #174EA6;\n",
              "    }\n",
              "\n",
              "    [theme=dark] .colab-df-convert {\n",
              "      background-color: #3B4455;\n",
              "      fill: #D2E3FC;\n",
              "    }\n",
              "\n",
              "    [theme=dark] .colab-df-convert:hover {\n",
              "      background-color: #434B5C;\n",
              "      box-shadow: 0px 1px 3px 1px rgba(0, 0, 0, 0.15);\n",
              "      filter: drop-shadow(0px 1px 2px rgba(0, 0, 0, 0.3));\n",
              "      fill: #FFFFFF;\n",
              "    }\n",
              "  </style>\n",
              "\n",
              "      <script>\n",
              "        const buttonEl =\n",
              "          document.querySelector('#df-6a9530be-ee52-4eff-baab-616ea66d5718 button.colab-df-convert');\n",
              "        buttonEl.style.display =\n",
              "          google.colab.kernel.accessAllowed ? 'block' : 'none';\n",
              "\n",
              "        async function convertToInteractive(key) {\n",
              "          const element = document.querySelector('#df-6a9530be-ee52-4eff-baab-616ea66d5718');\n",
              "          const dataTable =\n",
              "            await google.colab.kernel.invokeFunction('convertToInteractive',\n",
              "                                                     [key], {});\n",
              "          if (!dataTable) return;\n",
              "\n",
              "          const docLinkHtml = 'Like what you see? Visit the ' +\n",
              "            '<a target=\"_blank\" href=https://colab.research.google.com/notebooks/data_table.ipynb>data table notebook</a>'\n",
              "            + ' to learn more about interactive tables.';\n",
              "          element.innerHTML = '';\n",
              "          dataTable['output_type'] = 'display_data';\n",
              "          await google.colab.output.renderOutput(dataTable, element);\n",
              "          const docLink = document.createElement('div');\n",
              "          docLink.innerHTML = docLinkHtml;\n",
              "          element.appendChild(docLink);\n",
              "        }\n",
              "      </script>\n",
              "    </div>\n",
              "  </div>\n",
              "  "
            ]
          },
          "metadata": {},
          "execution_count": 23
        }
      ]
    },
    {
      "cell_type": "code",
      "source": [
        "#final_df = pd.concat([df, result_df], ignore_index=True)"
      ],
      "metadata": {
        "id": "R62JgRR-H8gC"
      },
      "execution_count": null,
      "outputs": []
    },
    {
      "cell_type": "code",
      "source": [
        "#final_df.tail()"
      ],
      "metadata": {
        "id": "MUTjUFG8JvLe"
      },
      "execution_count": null,
      "outputs": []
    },
    {
      "cell_type": "code",
      "source": [
        "# Shuffling a Pandas dataframe with .shuffle()\n",
        "#Shuffle gareko because category wise serially xa data haru\n",
        "shuffled = result_df.sample(frac=1)"
      ],
      "metadata": {
        "id": "Pb7uKv6Il-ta"
      },
      "execution_count": null,
      "outputs": []
    },
    {
      "cell_type": "code",
      "source": [
        "shuffled.head()"
      ],
      "metadata": {
        "colab": {
          "base_uri": "https://localhost:8080/",
          "height": 206
        },
        "id": "1BI1Bwlgn4bq",
        "outputId": "43ebad79-a7c0-4b93-a5f3-48af9a046205"
      },
      "execution_count": null,
      "outputs": [
        {
          "output_type": "execute_result",
          "data": {
            "text/plain": [
              "                                                   title  \\\n",
              "22894  concentration dependence quark condensation is...   \n",
              "29411  interplay periodic moral_force noise insight s...   \n",
              "26640                     model joint life inside family   \n",
              "30303                       gloss bits_per_second system   \n",
              "23279  likely model nuclear astrophysical fusion chem...   \n",
              "\n",
              "                                                abstract category  \n",
              "22894  calculate concentration dependence quark conde...  nucl-th  \n",
              "29411  analyze dynamics simple adaptive arrangement p...     nlin  \n",
              "26640  family history normally examine meaning factor...    q-fin  \n",
              "30303  look bits_per_second system involve two intera...     nlin  \n",
              "23279  likely model nuclear astrophysical reaction wa...  nucl-th  "
            ],
            "text/html": [
              "\n",
              "  <div id=\"df-e799623f-06f8-45b6-b8fc-101c4cd385e6\">\n",
              "    <div class=\"colab-df-container\">\n",
              "      <div>\n",
              "<style scoped>\n",
              "    .dataframe tbody tr th:only-of-type {\n",
              "        vertical-align: middle;\n",
              "    }\n",
              "\n",
              "    .dataframe tbody tr th {\n",
              "        vertical-align: top;\n",
              "    }\n",
              "\n",
              "    .dataframe thead th {\n",
              "        text-align: right;\n",
              "    }\n",
              "</style>\n",
              "<table border=\"1\" class=\"dataframe\">\n",
              "  <thead>\n",
              "    <tr style=\"text-align: right;\">\n",
              "      <th></th>\n",
              "      <th>title</th>\n",
              "      <th>abstract</th>\n",
              "      <th>category</th>\n",
              "    </tr>\n",
              "  </thead>\n",
              "  <tbody>\n",
              "    <tr>\n",
              "      <th>22894</th>\n",
              "      <td>concentration dependence quark condensation is...</td>\n",
              "      <td>calculate concentration dependence quark conde...</td>\n",
              "      <td>nucl-th</td>\n",
              "    </tr>\n",
              "    <tr>\n",
              "      <th>29411</th>\n",
              "      <td>interplay periodic moral_force noise insight s...</td>\n",
              "      <td>analyze dynamics simple adaptive arrangement p...</td>\n",
              "      <td>nlin</td>\n",
              "    </tr>\n",
              "    <tr>\n",
              "      <th>26640</th>\n",
              "      <td>model joint life inside family</td>\n",
              "      <td>family history normally examine meaning factor...</td>\n",
              "      <td>q-fin</td>\n",
              "    </tr>\n",
              "    <tr>\n",
              "      <th>30303</th>\n",
              "      <td>gloss bits_per_second system</td>\n",
              "      <td>look bits_per_second system involve two intera...</td>\n",
              "      <td>nlin</td>\n",
              "    </tr>\n",
              "    <tr>\n",
              "      <th>23279</th>\n",
              "      <td>likely model nuclear astrophysical fusion chem...</td>\n",
              "      <td>likely model nuclear astrophysical reaction wa...</td>\n",
              "      <td>nucl-th</td>\n",
              "    </tr>\n",
              "  </tbody>\n",
              "</table>\n",
              "</div>\n",
              "      <button class=\"colab-df-convert\" onclick=\"convertToInteractive('df-e799623f-06f8-45b6-b8fc-101c4cd385e6')\"\n",
              "              title=\"Convert this dataframe to an interactive table.\"\n",
              "              style=\"display:none;\">\n",
              "        \n",
              "  <svg xmlns=\"http://www.w3.org/2000/svg\" height=\"24px\"viewBox=\"0 0 24 24\"\n",
              "       width=\"24px\">\n",
              "    <path d=\"M0 0h24v24H0V0z\" fill=\"none\"/>\n",
              "    <path d=\"M18.56 5.44l.94 2.06.94-2.06 2.06-.94-2.06-.94-.94-2.06-.94 2.06-2.06.94zm-11 1L8.5 8.5l.94-2.06 2.06-.94-2.06-.94L8.5 2.5l-.94 2.06-2.06.94zm10 10l.94 2.06.94-2.06 2.06-.94-2.06-.94-.94-2.06-.94 2.06-2.06.94z\"/><path d=\"M17.41 7.96l-1.37-1.37c-.4-.4-.92-.59-1.43-.59-.52 0-1.04.2-1.43.59L10.3 9.45l-7.72 7.72c-.78.78-.78 2.05 0 2.83L4 21.41c.39.39.9.59 1.41.59.51 0 1.02-.2 1.41-.59l7.78-7.78 2.81-2.81c.8-.78.8-2.07 0-2.86zM5.41 20L4 18.59l7.72-7.72 1.47 1.35L5.41 20z\"/>\n",
              "  </svg>\n",
              "      </button>\n",
              "      \n",
              "  <style>\n",
              "    .colab-df-container {\n",
              "      display:flex;\n",
              "      flex-wrap:wrap;\n",
              "      gap: 12px;\n",
              "    }\n",
              "\n",
              "    .colab-df-convert {\n",
              "      background-color: #E8F0FE;\n",
              "      border: none;\n",
              "      border-radius: 50%;\n",
              "      cursor: pointer;\n",
              "      display: none;\n",
              "      fill: #1967D2;\n",
              "      height: 32px;\n",
              "      padding: 0 0 0 0;\n",
              "      width: 32px;\n",
              "    }\n",
              "\n",
              "    .colab-df-convert:hover {\n",
              "      background-color: #E2EBFA;\n",
              "      box-shadow: 0px 1px 2px rgba(60, 64, 67, 0.3), 0px 1px 3px 1px rgba(60, 64, 67, 0.15);\n",
              "      fill: #174EA6;\n",
              "    }\n",
              "\n",
              "    [theme=dark] .colab-df-convert {\n",
              "      background-color: #3B4455;\n",
              "      fill: #D2E3FC;\n",
              "    }\n",
              "\n",
              "    [theme=dark] .colab-df-convert:hover {\n",
              "      background-color: #434B5C;\n",
              "      box-shadow: 0px 1px 3px 1px rgba(0, 0, 0, 0.15);\n",
              "      filter: drop-shadow(0px 1px 2px rgba(0, 0, 0, 0.3));\n",
              "      fill: #FFFFFF;\n",
              "    }\n",
              "  </style>\n",
              "\n",
              "      <script>\n",
              "        const buttonEl =\n",
              "          document.querySelector('#df-e799623f-06f8-45b6-b8fc-101c4cd385e6 button.colab-df-convert');\n",
              "        buttonEl.style.display =\n",
              "          google.colab.kernel.accessAllowed ? 'block' : 'none';\n",
              "\n",
              "        async function convertToInteractive(key) {\n",
              "          const element = document.querySelector('#df-e799623f-06f8-45b6-b8fc-101c4cd385e6');\n",
              "          const dataTable =\n",
              "            await google.colab.kernel.invokeFunction('convertToInteractive',\n",
              "                                                     [key], {});\n",
              "          if (!dataTable) return;\n",
              "\n",
              "          const docLinkHtml = 'Like what you see? Visit the ' +\n",
              "            '<a target=\"_blank\" href=https://colab.research.google.com/notebooks/data_table.ipynb>data table notebook</a>'\n",
              "            + ' to learn more about interactive tables.';\n",
              "          element.innerHTML = '';\n",
              "          dataTable['output_type'] = 'display_data';\n",
              "          await google.colab.output.renderOutput(dataTable, element);\n",
              "          const docLink = document.createElement('div');\n",
              "          docLink.innerHTML = docLinkHtml;\n",
              "          element.appendChild(docLink);\n",
              "        }\n",
              "      </script>\n",
              "    </div>\n",
              "  </div>\n",
              "  "
            ]
          },
          "metadata": {},
          "execution_count": 27
        }
      ]
    },
    {
      "cell_type": "code",
      "source": [
        "#Thorai vako class ma add garne kaam sakkiyo\n",
        "#So aba dherai vako class bata remove garna try garam"
      ],
      "metadata": {
        "id": "lPdZ5sPN2pkH"
      },
      "execution_count": null,
      "outputs": []
    },
    {
      "cell_type": "code",
      "source": [
        "#dherai data vako class haru\n",
        "cs=df.loc[df['category'] == 'cs']\n",
        "math = df.loc[df['category'] == 'math']\n",
        "cond_mat = df.loc[df['category'] == 'cond-mat']"
      ],
      "metadata": {
        "id": "dWIp3OKX2pmX"
      },
      "execution_count": null,
      "outputs": []
    },
    {
      "cell_type": "code",
      "source": [
        "#Let's make a dataframe containing these 3 categories\n",
        "major = pd.concat([cs, math, cond_mat], axis=0)"
      ],
      "metadata": {
        "id": "51SVeRaB2pod"
      },
      "execution_count": null,
      "outputs": []
    },
    {
      "cell_type": "code",
      "source": [
        "major.tail()"
      ],
      "metadata": {
        "colab": {
          "base_uri": "https://localhost:8080/",
          "height": 206
        },
        "id": "GSRmdWWx2pqd",
        "outputId": "cc456c87-acca-4e99-8c5a-1a4f43f6a626"
      },
      "execution_count": null,
      "outputs": [
        {
          "output_type": "execute_result",
          "data": {
            "text/plain": [
              "                id                                              title  \\\n",
              "861114  2006.00349  ii vi organic inorganic hybrid nanostructures ...   \n",
              "861136  2106.05721  self oscillation synchronisation transitions e...   \n",
              "861171  2011.13215  oscillatory shear flows dense suspensions impo...   \n",
              "861192  2103.09143                         maximal diversity zipf law   \n",
              "861199  2005.09337  local thickness composition measurements scann...   \n",
              "\n",
              "                                                 abstract  category  \n",
              "861114  organic inorganic hybrids may offer material p...  cond-mat  \n",
              "861136  interplay activity elasticity often found acti...  cond-mat  \n",
              "861171  oscillatory shear widely used study rheologica...  cond-mat  \n",
              "861192  zipf law describes empirical size distribution...  cond-mat  \n",
              "861199  measured local composition thickness sio2 base...  cond-mat  "
            ],
            "text/html": [
              "\n",
              "  <div id=\"df-56b5b8ec-1a7e-4d3c-829b-f94bd87b8d0e\">\n",
              "    <div class=\"colab-df-container\">\n",
              "      <div>\n",
              "<style scoped>\n",
              "    .dataframe tbody tr th:only-of-type {\n",
              "        vertical-align: middle;\n",
              "    }\n",
              "\n",
              "    .dataframe tbody tr th {\n",
              "        vertical-align: top;\n",
              "    }\n",
              "\n",
              "    .dataframe thead th {\n",
              "        text-align: right;\n",
              "    }\n",
              "</style>\n",
              "<table border=\"1\" class=\"dataframe\">\n",
              "  <thead>\n",
              "    <tr style=\"text-align: right;\">\n",
              "      <th></th>\n",
              "      <th>id</th>\n",
              "      <th>title</th>\n",
              "      <th>abstract</th>\n",
              "      <th>category</th>\n",
              "    </tr>\n",
              "  </thead>\n",
              "  <tbody>\n",
              "    <tr>\n",
              "      <th>861114</th>\n",
              "      <td>2006.00349</td>\n",
              "      <td>ii vi organic inorganic hybrid nanostructures ...</td>\n",
              "      <td>organic inorganic hybrids may offer material p...</td>\n",
              "      <td>cond-mat</td>\n",
              "    </tr>\n",
              "    <tr>\n",
              "      <th>861136</th>\n",
              "      <td>2106.05721</td>\n",
              "      <td>self oscillation synchronisation transitions e...</td>\n",
              "      <td>interplay activity elasticity often found acti...</td>\n",
              "      <td>cond-mat</td>\n",
              "    </tr>\n",
              "    <tr>\n",
              "      <th>861171</th>\n",
              "      <td>2011.13215</td>\n",
              "      <td>oscillatory shear flows dense suspensions impo...</td>\n",
              "      <td>oscillatory shear widely used study rheologica...</td>\n",
              "      <td>cond-mat</td>\n",
              "    </tr>\n",
              "    <tr>\n",
              "      <th>861192</th>\n",
              "      <td>2103.09143</td>\n",
              "      <td>maximal diversity zipf law</td>\n",
              "      <td>zipf law describes empirical size distribution...</td>\n",
              "      <td>cond-mat</td>\n",
              "    </tr>\n",
              "    <tr>\n",
              "      <th>861199</th>\n",
              "      <td>2005.09337</td>\n",
              "      <td>local thickness composition measurements scann...</td>\n",
              "      <td>measured local composition thickness sio2 base...</td>\n",
              "      <td>cond-mat</td>\n",
              "    </tr>\n",
              "  </tbody>\n",
              "</table>\n",
              "</div>\n",
              "      <button class=\"colab-df-convert\" onclick=\"convertToInteractive('df-56b5b8ec-1a7e-4d3c-829b-f94bd87b8d0e')\"\n",
              "              title=\"Convert this dataframe to an interactive table.\"\n",
              "              style=\"display:none;\">\n",
              "        \n",
              "  <svg xmlns=\"http://www.w3.org/2000/svg\" height=\"24px\"viewBox=\"0 0 24 24\"\n",
              "       width=\"24px\">\n",
              "    <path d=\"M0 0h24v24H0V0z\" fill=\"none\"/>\n",
              "    <path d=\"M18.56 5.44l.94 2.06.94-2.06 2.06-.94-2.06-.94-.94-2.06-.94 2.06-2.06.94zm-11 1L8.5 8.5l.94-2.06 2.06-.94-2.06-.94L8.5 2.5l-.94 2.06-2.06.94zm10 10l.94 2.06.94-2.06 2.06-.94-2.06-.94-.94-2.06-.94 2.06-2.06.94z\"/><path d=\"M17.41 7.96l-1.37-1.37c-.4-.4-.92-.59-1.43-.59-.52 0-1.04.2-1.43.59L10.3 9.45l-7.72 7.72c-.78.78-.78 2.05 0 2.83L4 21.41c.39.39.9.59 1.41.59.51 0 1.02-.2 1.41-.59l7.78-7.78 2.81-2.81c.8-.78.8-2.07 0-2.86zM5.41 20L4 18.59l7.72-7.72 1.47 1.35L5.41 20z\"/>\n",
              "  </svg>\n",
              "      </button>\n",
              "      \n",
              "  <style>\n",
              "    .colab-df-container {\n",
              "      display:flex;\n",
              "      flex-wrap:wrap;\n",
              "      gap: 12px;\n",
              "    }\n",
              "\n",
              "    .colab-df-convert {\n",
              "      background-color: #E8F0FE;\n",
              "      border: none;\n",
              "      border-radius: 50%;\n",
              "      cursor: pointer;\n",
              "      display: none;\n",
              "      fill: #1967D2;\n",
              "      height: 32px;\n",
              "      padding: 0 0 0 0;\n",
              "      width: 32px;\n",
              "    }\n",
              "\n",
              "    .colab-df-convert:hover {\n",
              "      background-color: #E2EBFA;\n",
              "      box-shadow: 0px 1px 2px rgba(60, 64, 67, 0.3), 0px 1px 3px 1px rgba(60, 64, 67, 0.15);\n",
              "      fill: #174EA6;\n",
              "    }\n",
              "\n",
              "    [theme=dark] .colab-df-convert {\n",
              "      background-color: #3B4455;\n",
              "      fill: #D2E3FC;\n",
              "    }\n",
              "\n",
              "    [theme=dark] .colab-df-convert:hover {\n",
              "      background-color: #434B5C;\n",
              "      box-shadow: 0px 1px 3px 1px rgba(0, 0, 0, 0.15);\n",
              "      filter: drop-shadow(0px 1px 2px rgba(0, 0, 0, 0.3));\n",
              "      fill: #FFFFFF;\n",
              "    }\n",
              "  </style>\n",
              "\n",
              "      <script>\n",
              "        const buttonEl =\n",
              "          document.querySelector('#df-56b5b8ec-1a7e-4d3c-829b-f94bd87b8d0e button.colab-df-convert');\n",
              "        buttonEl.style.display =\n",
              "          google.colab.kernel.accessAllowed ? 'block' : 'none';\n",
              "\n",
              "        async function convertToInteractive(key) {\n",
              "          const element = document.querySelector('#df-56b5b8ec-1a7e-4d3c-829b-f94bd87b8d0e');\n",
              "          const dataTable =\n",
              "            await google.colab.kernel.invokeFunction('convertToInteractive',\n",
              "                                                     [key], {});\n",
              "          if (!dataTable) return;\n",
              "\n",
              "          const docLinkHtml = 'Like what you see? Visit the ' +\n",
              "            '<a target=\"_blank\" href=https://colab.research.google.com/notebooks/data_table.ipynb>data table notebook</a>'\n",
              "            + ' to learn more about interactive tables.';\n",
              "          element.innerHTML = '';\n",
              "          dataTable['output_type'] = 'display_data';\n",
              "          await google.colab.output.renderOutput(dataTable, element);\n",
              "          const docLink = document.createElement('div');\n",
              "          docLink.innerHTML = docLinkHtml;\n",
              "          element.appendChild(docLink);\n",
              "        }\n",
              "      </script>\n",
              "    </div>\n",
              "  </div>\n",
              "  "
            ]
          },
          "metadata": {},
          "execution_count": 31
        }
      ]
    },
    {
      "cell_type": "code",
      "source": [
        "# Separating the independent variables from dependent variables\n",
        "#major dataframe bata matra\n",
        "X = major.iloc[:,1:-1]\n",
        "y = major.iloc[:,-1]"
      ],
      "metadata": {
        "id": "CeeDTnpn2psl"
      },
      "execution_count": null,
      "outputs": []
    },
    {
      "cell_type": "code",
      "source": [
        "#Now, let's do undersampling\n",
        "from sklearn.datasets import make_classification\n",
        "from sklearn.model_selection import train_test_split\n",
        "from imblearn.under_sampling import RandomUnderSampler"
      ],
      "metadata": {
        "id": "xwUCj_E92puu"
      },
      "execution_count": null,
      "outputs": []
    },
    {
      "cell_type": "code",
      "source": [
        "# Apply the random under-sampling\n",
        "rus = RandomUnderSampler(random_state=0)\n",
        "X_resampled, y_resampled = rus.fit_resample(X, y)"
      ],
      "metadata": {
        "id": "oX7lSDtO3i94"
      },
      "execution_count": null,
      "outputs": []
    },
    {
      "cell_type": "code",
      "source": [
        "len(X_resampled), len(X)"
      ],
      "metadata": {
        "colab": {
          "base_uri": "https://localhost:8080/"
        },
        "id": "QQvfoB-m3jBf",
        "outputId": "5a130edc-9f80-4bdc-8441-7b9713a1864f"
      },
      "execution_count": null,
      "outputs": [
        {
          "output_type": "execute_result",
          "data": {
            "text/plain": [
              "(128358, 287157)"
            ]
          },
          "metadata": {},
          "execution_count": 35
        }
      ]
    },
    {
      "cell_type": "code",
      "source": [
        "#X_resampled, y_resampled vaneko 3ta class ko dherai data lai thorai banayepachi ko ho hai\n",
        "y_resampled.head()"
      ],
      "metadata": {
        "colab": {
          "base_uri": "https://localhost:8080/"
        },
        "id": "_ip_Zi073jMW",
        "outputId": "3e542801-0539-4da6-e370-9cba9e8e8650"
      },
      "execution_count": null,
      "outputs": [
        {
          "output_type": "execute_result",
          "data": {
            "text/plain": [
              "0    cond-mat\n",
              "1    cond-mat\n",
              "2    cond-mat\n",
              "3    cond-mat\n",
              "4    cond-mat\n",
              "Name: category, dtype: object"
            ]
          },
          "metadata": {},
          "execution_count": 36
        }
      ]
    },
    {
      "cell_type": "code",
      "source": [
        "#Now let's combine X_resampled and y_resampled into a new dataframe --reduced\n",
        "reduced = pd.concat([X_resampled, y_resampled], axis = 1)"
      ],
      "metadata": {
        "id": "HjFj62p535jw"
      },
      "execution_count": null,
      "outputs": []
    },
    {
      "cell_type": "code",
      "source": [
        "#Visualize\n",
        "reduced.tail()"
      ],
      "metadata": {
        "colab": {
          "base_uri": "https://localhost:8080/",
          "height": 206
        },
        "id": "M9Nrawx435l0",
        "outputId": "8ea7e110-4ede-4594-85be-b20a51bf2687"
      },
      "execution_count": null,
      "outputs": [
        {
          "output_type": "execute_result",
          "data": {
            "text/plain": [
              "                                                    title  \\\n",
              "128353  crepant resolution holomorphic anomaly equatio...   \n",
              "128354  passive beamforming information transfer via l...   \n",
              "128355   codes hierarchical locality covering maps curves   \n",
              "128356  general affine invariants plane curves space c...   \n",
              "128357        period mappings ampleness hodge line bundle   \n",
              "\n",
              "                                                 abstract category  \n",
              "128353  study orbifold gromov witten theory quotient c...     math  \n",
              "128354  large intelligent surface lis emerged promisin...     math  \n",
              "128355  locally recoverable lrc codes provide ways rec...     math  \n",
              "128356  present fundamental theory curves affine plane...     math  \n",
              "128357  discuss progress towards conjectural hodge the...     math  "
            ],
            "text/html": [
              "\n",
              "  <div id=\"df-4aedcd76-a3d8-483e-b956-8b7fb178dcca\">\n",
              "    <div class=\"colab-df-container\">\n",
              "      <div>\n",
              "<style scoped>\n",
              "    .dataframe tbody tr th:only-of-type {\n",
              "        vertical-align: middle;\n",
              "    }\n",
              "\n",
              "    .dataframe tbody tr th {\n",
              "        vertical-align: top;\n",
              "    }\n",
              "\n",
              "    .dataframe thead th {\n",
              "        text-align: right;\n",
              "    }\n",
              "</style>\n",
              "<table border=\"1\" class=\"dataframe\">\n",
              "  <thead>\n",
              "    <tr style=\"text-align: right;\">\n",
              "      <th></th>\n",
              "      <th>title</th>\n",
              "      <th>abstract</th>\n",
              "      <th>category</th>\n",
              "    </tr>\n",
              "  </thead>\n",
              "  <tbody>\n",
              "    <tr>\n",
              "      <th>128353</th>\n",
              "      <td>crepant resolution holomorphic anomaly equatio...</td>\n",
              "      <td>study orbifold gromov witten theory quotient c...</td>\n",
              "      <td>math</td>\n",
              "    </tr>\n",
              "    <tr>\n",
              "      <th>128354</th>\n",
              "      <td>passive beamforming information transfer via l...</td>\n",
              "      <td>large intelligent surface lis emerged promisin...</td>\n",
              "      <td>math</td>\n",
              "    </tr>\n",
              "    <tr>\n",
              "      <th>128355</th>\n",
              "      <td>codes hierarchical locality covering maps curves</td>\n",
              "      <td>locally recoverable lrc codes provide ways rec...</td>\n",
              "      <td>math</td>\n",
              "    </tr>\n",
              "    <tr>\n",
              "      <th>128356</th>\n",
              "      <td>general affine invariants plane curves space c...</td>\n",
              "      <td>present fundamental theory curves affine plane...</td>\n",
              "      <td>math</td>\n",
              "    </tr>\n",
              "    <tr>\n",
              "      <th>128357</th>\n",
              "      <td>period mappings ampleness hodge line bundle</td>\n",
              "      <td>discuss progress towards conjectural hodge the...</td>\n",
              "      <td>math</td>\n",
              "    </tr>\n",
              "  </tbody>\n",
              "</table>\n",
              "</div>\n",
              "      <button class=\"colab-df-convert\" onclick=\"convertToInteractive('df-4aedcd76-a3d8-483e-b956-8b7fb178dcca')\"\n",
              "              title=\"Convert this dataframe to an interactive table.\"\n",
              "              style=\"display:none;\">\n",
              "        \n",
              "  <svg xmlns=\"http://www.w3.org/2000/svg\" height=\"24px\"viewBox=\"0 0 24 24\"\n",
              "       width=\"24px\">\n",
              "    <path d=\"M0 0h24v24H0V0z\" fill=\"none\"/>\n",
              "    <path d=\"M18.56 5.44l.94 2.06.94-2.06 2.06-.94-2.06-.94-.94-2.06-.94 2.06-2.06.94zm-11 1L8.5 8.5l.94-2.06 2.06-.94-2.06-.94L8.5 2.5l-.94 2.06-2.06.94zm10 10l.94 2.06.94-2.06 2.06-.94-2.06-.94-.94-2.06-.94 2.06-2.06.94z\"/><path d=\"M17.41 7.96l-1.37-1.37c-.4-.4-.92-.59-1.43-.59-.52 0-1.04.2-1.43.59L10.3 9.45l-7.72 7.72c-.78.78-.78 2.05 0 2.83L4 21.41c.39.39.9.59 1.41.59.51 0 1.02-.2 1.41-.59l7.78-7.78 2.81-2.81c.8-.78.8-2.07 0-2.86zM5.41 20L4 18.59l7.72-7.72 1.47 1.35L5.41 20z\"/>\n",
              "  </svg>\n",
              "      </button>\n",
              "      \n",
              "  <style>\n",
              "    .colab-df-container {\n",
              "      display:flex;\n",
              "      flex-wrap:wrap;\n",
              "      gap: 12px;\n",
              "    }\n",
              "\n",
              "    .colab-df-convert {\n",
              "      background-color: #E8F0FE;\n",
              "      border: none;\n",
              "      border-radius: 50%;\n",
              "      cursor: pointer;\n",
              "      display: none;\n",
              "      fill: #1967D2;\n",
              "      height: 32px;\n",
              "      padding: 0 0 0 0;\n",
              "      width: 32px;\n",
              "    }\n",
              "\n",
              "    .colab-df-convert:hover {\n",
              "      background-color: #E2EBFA;\n",
              "      box-shadow: 0px 1px 2px rgba(60, 64, 67, 0.3), 0px 1px 3px 1px rgba(60, 64, 67, 0.15);\n",
              "      fill: #174EA6;\n",
              "    }\n",
              "\n",
              "    [theme=dark] .colab-df-convert {\n",
              "      background-color: #3B4455;\n",
              "      fill: #D2E3FC;\n",
              "    }\n",
              "\n",
              "    [theme=dark] .colab-df-convert:hover {\n",
              "      background-color: #434B5C;\n",
              "      box-shadow: 0px 1px 3px 1px rgba(0, 0, 0, 0.15);\n",
              "      filter: drop-shadow(0px 1px 2px rgba(0, 0, 0, 0.3));\n",
              "      fill: #FFFFFF;\n",
              "    }\n",
              "  </style>\n",
              "\n",
              "      <script>\n",
              "        const buttonEl =\n",
              "          document.querySelector('#df-4aedcd76-a3d8-483e-b956-8b7fb178dcca button.colab-df-convert');\n",
              "        buttonEl.style.display =\n",
              "          google.colab.kernel.accessAllowed ? 'block' : 'none';\n",
              "\n",
              "        async function convertToInteractive(key) {\n",
              "          const element = document.querySelector('#df-4aedcd76-a3d8-483e-b956-8b7fb178dcca');\n",
              "          const dataTable =\n",
              "            await google.colab.kernel.invokeFunction('convertToInteractive',\n",
              "                                                     [key], {});\n",
              "          if (!dataTable) return;\n",
              "\n",
              "          const docLinkHtml = 'Like what you see? Visit the ' +\n",
              "            '<a target=\"_blank\" href=https://colab.research.google.com/notebooks/data_table.ipynb>data table notebook</a>'\n",
              "            + ' to learn more about interactive tables.';\n",
              "          element.innerHTML = '';\n",
              "          dataTable['output_type'] = 'display_data';\n",
              "          await google.colab.output.renderOutput(dataTable, element);\n",
              "          const docLink = document.createElement('div');\n",
              "          docLink.innerHTML = docLinkHtml;\n",
              "          element.appendChild(docLink);\n",
              "        }\n",
              "      </script>\n",
              "    </div>\n",
              "  </div>\n",
              "  "
            ]
          },
          "metadata": {},
          "execution_count": 38
        }
      ]
    },
    {
      "cell_type": "code",
      "source": [
        "reduced['category'].value_counts()"
      ],
      "metadata": {
        "colab": {
          "base_uri": "https://localhost:8080/"
        },
        "id": "RfHsVM0e35px",
        "outputId": "1a04e271-1cf2-4652-8bce-d4cdade3a0a6"
      },
      "execution_count": null,
      "outputs": [
        {
          "output_type": "execute_result",
          "data": {
            "text/plain": [
              "cond-mat    42786\n",
              "cs          42786\n",
              "math        42786\n",
              "Name: category, dtype: int64"
            ]
          },
          "metadata": {},
          "execution_count": 39
        }
      ]
    },
    {
      "cell_type": "code",
      "source": [
        "# so among those three classes, math had the smallest number(42786)\n",
        "#That's why other two classes namely cond-mat and cs also are reduced to the size of math"
      ],
      "metadata": {
        "id": "RkbXqfUI2pxF"
      },
      "execution_count": null,
      "outputs": []
    },
    {
      "cell_type": "code",
      "source": [
        "#Mathi thorai vako data lai badhayera pani sakkiyo -- reduced\n",
        "#Ani tespachi dherai vako data lai ghatayera pani sakkiyo -- shuffled\n",
        "#Aba kunai kunai class ko data as it is xa - df\n",
        "#Aba sabailai appropriately combine garera final dataset banaune"
      ],
      "metadata": {
        "id": "wHwPBjyo4oxl"
      },
      "execution_count": null,
      "outputs": []
    },
    {
      "cell_type": "code",
      "source": [
        "#Now original dataframe bata major class haru remove garna paryo (3 ota class)\n",
        "rem_cs=df.loc[df['category'] != 'cs']\n",
        "rem_math = rem_cs.loc[rem_cs['category'] != 'math']\n",
        "major_removed = rem_math.loc[rem_math['category'] != 'cond-mat'] # 3ta class hatyo"
      ],
      "metadata": {
        "id": "Fc15ojHd5HJs"
      },
      "execution_count": null,
      "outputs": []
    },
    {
      "cell_type": "code",
      "source": [
        "#Let's see 3 ota class hatyo ki nai\n",
        "major_removed['category'].value_counts()"
      ],
      "metadata": {
        "colab": {
          "base_uri": "https://localhost:8080/"
        },
        "id": "VhdKyP1G5HL5",
        "outputId": "52a15d9e-2ebf-470b-ac5b-adcbc4bc1ad4"
      },
      "execution_count": null,
      "outputs": [
        {
          "output_type": "execute_result",
          "data": {
            "text/plain": [
              "physics     38243\n",
              "astro-ph    38039\n",
              "stat        22745\n",
              "quant-ph    16020\n",
              "eess        15843\n",
              "hep-ph      11400\n",
              "hep-th      10690\n",
              "gr-qc        8662\n",
              "q-bio        5665\n",
              "hep-ex       3950\n",
              "math-ph      3822\n",
              "nucl-th      3517\n",
              "q-fin        3053\n",
              "nlin         2894\n",
              "econ         2050\n",
              "nucl-ex      1788\n",
              "hep-lat      1132\n",
              "Name: category, dtype: int64"
            ]
          },
          "metadata": {},
          "execution_count": 43
        }
      ]
    },
    {
      "cell_type": "code",
      "source": [
        "#Visualize \n",
        "major_removed.head()"
      ],
      "metadata": {
        "colab": {
          "base_uri": "https://localhost:8080/",
          "height": 206
        },
        "id": "3f2I2R7A5HOI",
        "outputId": "3a276b4d-39bc-4627-9a2c-2962bf585892"
      },
      "execution_count": null,
      "outputs": [
        {
          "output_type": "execute_result",
          "data": {
            "text/plain": [
              "            id                                              title  \\\n",
              "5   2102.10644    surface tension destabiliser vortical interface   \n",
              "7   1902.08524  acoustically modulated optical emission hexago...   \n",
              "13  1912.02502  monte carlo studies spin chirality decoupling ...   \n",
              "14  1911.08413  igatelink gateway library linking iot edge fog...   \n",
              "18  2005.00921  epidemic model sipherd application prediction ...   \n",
              "\n",
              "                                             abstract category  \n",
              "5   study dynamics initially flat interface two im...  physics  \n",
              "7   investigate effect surface acoustic waves atom...  physics  \n",
              "13  extensive equilibrium monte carlo simulation p...  physics  \n",
              "14  recent years internet things iot growing popul...     eess  \n",
              "18  propose epidemic model sipherd three categorie...    q-bio  "
            ],
            "text/html": [
              "\n",
              "  <div id=\"df-00d13c92-3ef3-4bde-b2b4-fccf5ae0197d\">\n",
              "    <div class=\"colab-df-container\">\n",
              "      <div>\n",
              "<style scoped>\n",
              "    .dataframe tbody tr th:only-of-type {\n",
              "        vertical-align: middle;\n",
              "    }\n",
              "\n",
              "    .dataframe tbody tr th {\n",
              "        vertical-align: top;\n",
              "    }\n",
              "\n",
              "    .dataframe thead th {\n",
              "        text-align: right;\n",
              "    }\n",
              "</style>\n",
              "<table border=\"1\" class=\"dataframe\">\n",
              "  <thead>\n",
              "    <tr style=\"text-align: right;\">\n",
              "      <th></th>\n",
              "      <th>id</th>\n",
              "      <th>title</th>\n",
              "      <th>abstract</th>\n",
              "      <th>category</th>\n",
              "    </tr>\n",
              "  </thead>\n",
              "  <tbody>\n",
              "    <tr>\n",
              "      <th>5</th>\n",
              "      <td>2102.10644</td>\n",
              "      <td>surface tension destabiliser vortical interface</td>\n",
              "      <td>study dynamics initially flat interface two im...</td>\n",
              "      <td>physics</td>\n",
              "    </tr>\n",
              "    <tr>\n",
              "      <th>7</th>\n",
              "      <td>1902.08524</td>\n",
              "      <td>acoustically modulated optical emission hexago...</td>\n",
              "      <td>investigate effect surface acoustic waves atom...</td>\n",
              "      <td>physics</td>\n",
              "    </tr>\n",
              "    <tr>\n",
              "      <th>13</th>\n",
              "      <td>1912.02502</td>\n",
              "      <td>monte carlo studies spin chirality decoupling ...</td>\n",
              "      <td>extensive equilibrium monte carlo simulation p...</td>\n",
              "      <td>physics</td>\n",
              "    </tr>\n",
              "    <tr>\n",
              "      <th>14</th>\n",
              "      <td>1911.08413</td>\n",
              "      <td>igatelink gateway library linking iot edge fog...</td>\n",
              "      <td>recent years internet things iot growing popul...</td>\n",
              "      <td>eess</td>\n",
              "    </tr>\n",
              "    <tr>\n",
              "      <th>18</th>\n",
              "      <td>2005.00921</td>\n",
              "      <td>epidemic model sipherd application prediction ...</td>\n",
              "      <td>propose epidemic model sipherd three categorie...</td>\n",
              "      <td>q-bio</td>\n",
              "    </tr>\n",
              "  </tbody>\n",
              "</table>\n",
              "</div>\n",
              "      <button class=\"colab-df-convert\" onclick=\"convertToInteractive('df-00d13c92-3ef3-4bde-b2b4-fccf5ae0197d')\"\n",
              "              title=\"Convert this dataframe to an interactive table.\"\n",
              "              style=\"display:none;\">\n",
              "        \n",
              "  <svg xmlns=\"http://www.w3.org/2000/svg\" height=\"24px\"viewBox=\"0 0 24 24\"\n",
              "       width=\"24px\">\n",
              "    <path d=\"M0 0h24v24H0V0z\" fill=\"none\"/>\n",
              "    <path d=\"M18.56 5.44l.94 2.06.94-2.06 2.06-.94-2.06-.94-.94-2.06-.94 2.06-2.06.94zm-11 1L8.5 8.5l.94-2.06 2.06-.94-2.06-.94L8.5 2.5l-.94 2.06-2.06.94zm10 10l.94 2.06.94-2.06 2.06-.94-2.06-.94-.94-2.06-.94 2.06-2.06.94z\"/><path d=\"M17.41 7.96l-1.37-1.37c-.4-.4-.92-.59-1.43-.59-.52 0-1.04.2-1.43.59L10.3 9.45l-7.72 7.72c-.78.78-.78 2.05 0 2.83L4 21.41c.39.39.9.59 1.41.59.51 0 1.02-.2 1.41-.59l7.78-7.78 2.81-2.81c.8-.78.8-2.07 0-2.86zM5.41 20L4 18.59l7.72-7.72 1.47 1.35L5.41 20z\"/>\n",
              "  </svg>\n",
              "      </button>\n",
              "      \n",
              "  <style>\n",
              "    .colab-df-container {\n",
              "      display:flex;\n",
              "      flex-wrap:wrap;\n",
              "      gap: 12px;\n",
              "    }\n",
              "\n",
              "    .colab-df-convert {\n",
              "      background-color: #E8F0FE;\n",
              "      border: none;\n",
              "      border-radius: 50%;\n",
              "      cursor: pointer;\n",
              "      display: none;\n",
              "      fill: #1967D2;\n",
              "      height: 32px;\n",
              "      padding: 0 0 0 0;\n",
              "      width: 32px;\n",
              "    }\n",
              "\n",
              "    .colab-df-convert:hover {\n",
              "      background-color: #E2EBFA;\n",
              "      box-shadow: 0px 1px 2px rgba(60, 64, 67, 0.3), 0px 1px 3px 1px rgba(60, 64, 67, 0.15);\n",
              "      fill: #174EA6;\n",
              "    }\n",
              "\n",
              "    [theme=dark] .colab-df-convert {\n",
              "      background-color: #3B4455;\n",
              "      fill: #D2E3FC;\n",
              "    }\n",
              "\n",
              "    [theme=dark] .colab-df-convert:hover {\n",
              "      background-color: #434B5C;\n",
              "      box-shadow: 0px 1px 3px 1px rgba(0, 0, 0, 0.15);\n",
              "      filter: drop-shadow(0px 1px 2px rgba(0, 0, 0, 0.3));\n",
              "      fill: #FFFFFF;\n",
              "    }\n",
              "  </style>\n",
              "\n",
              "      <script>\n",
              "        const buttonEl =\n",
              "          document.querySelector('#df-00d13c92-3ef3-4bde-b2b4-fccf5ae0197d button.colab-df-convert');\n",
              "        buttonEl.style.display =\n",
              "          google.colab.kernel.accessAllowed ? 'block' : 'none';\n",
              "\n",
              "        async function convertToInteractive(key) {\n",
              "          const element = document.querySelector('#df-00d13c92-3ef3-4bde-b2b4-fccf5ae0197d');\n",
              "          const dataTable =\n",
              "            await google.colab.kernel.invokeFunction('convertToInteractive',\n",
              "                                                     [key], {});\n",
              "          if (!dataTable) return;\n",
              "\n",
              "          const docLinkHtml = 'Like what you see? Visit the ' +\n",
              "            '<a target=\"_blank\" href=https://colab.research.google.com/notebooks/data_table.ipynb>data table notebook</a>'\n",
              "            + ' to learn more about interactive tables.';\n",
              "          element.innerHTML = '';\n",
              "          dataTable['output_type'] = 'display_data';\n",
              "          await google.colab.output.renderOutput(dataTable, element);\n",
              "          const docLink = document.createElement('div');\n",
              "          docLink.innerHTML = docLinkHtml;\n",
              "          element.appendChild(docLink);\n",
              "        }\n",
              "      </script>\n",
              "    </div>\n",
              "  </div>\n",
              "  "
            ]
          },
          "metadata": {},
          "execution_count": 44
        }
      ]
    },
    {
      "cell_type": "code",
      "source": [
        "#Now, lets combine our dataframes -- reduced, shuffled, major_removed\n",
        "final_df = pd.concat([reduced, shuffled, major_removed], ignore_index=True)"
      ],
      "metadata": {
        "id": "Hd4L-R_f5HRT"
      },
      "execution_count": null,
      "outputs": []
    },
    {
      "cell_type": "code",
      "source": [
        "\n",
        "len(reduced)+ len(shuffled)+ len(major_removed) == len(final_df)"
      ],
      "metadata": {
        "colab": {
          "base_uri": "https://localhost:8080/"
        },
        "id": "Q8BtR5dR4ozr",
        "outputId": "6e1d963b-edd6-4423-efc3-0c86a684529f"
      },
      "execution_count": null,
      "outputs": [
        {
          "output_type": "execute_result",
          "data": {
            "text/plain": [
              "True"
            ]
          },
          "metadata": {},
          "execution_count": 46
        }
      ]
    },
    {
      "cell_type": "code",
      "source": [
        "#Visualize\n",
        "final_df.head()"
      ],
      "metadata": {
        "colab": {
          "base_uri": "https://localhost:8080/",
          "height": 206
        },
        "id": "IQj4pxP94o39",
        "outputId": "311873df-fe7c-4b19-e15d-15aada4e177b"
      },
      "execution_count": null,
      "outputs": [
        {
          "output_type": "execute_result",
          "data": {
            "text/plain": [
              "                                               title  \\\n",
              "0  noise noise ratios correlation length calculat...   \n",
              "1  exactly solvable model 4+1d beyond cohomology ...   \n",
              "2  n independent localized krylov bogoliubov de g...   \n",
              "3     molding 3d curved structures selective heating   \n",
              "4  piezoelectric properties substitutionally dope...   \n",
              "\n",
              "                                            abstract  category   id  \n",
              "0  finite random systems possible define two type...  cond-mat  NaN  \n",
              "1  construct exactly solvable commuting projector...  cond-mat  NaN  \n",
              "2  propose ultra fast numerical approach large sc...  cond-mat  NaN  \n",
              "3  interest fabricate curved surfaces three dimen...  cond-mat  NaN  \n",
              "4  modern semiconductor materials increasingly us...  cond-mat  NaN  "
            ],
            "text/html": [
              "\n",
              "  <div id=\"df-22b3cb51-22be-4bcc-ae82-acedd8dc4cb7\">\n",
              "    <div class=\"colab-df-container\">\n",
              "      <div>\n",
              "<style scoped>\n",
              "    .dataframe tbody tr th:only-of-type {\n",
              "        vertical-align: middle;\n",
              "    }\n",
              "\n",
              "    .dataframe tbody tr th {\n",
              "        vertical-align: top;\n",
              "    }\n",
              "\n",
              "    .dataframe thead th {\n",
              "        text-align: right;\n",
              "    }\n",
              "</style>\n",
              "<table border=\"1\" class=\"dataframe\">\n",
              "  <thead>\n",
              "    <tr style=\"text-align: right;\">\n",
              "      <th></th>\n",
              "      <th>title</th>\n",
              "      <th>abstract</th>\n",
              "      <th>category</th>\n",
              "      <th>id</th>\n",
              "    </tr>\n",
              "  </thead>\n",
              "  <tbody>\n",
              "    <tr>\n",
              "      <th>0</th>\n",
              "      <td>noise noise ratios correlation length calculat...</td>\n",
              "      <td>finite random systems possible define two type...</td>\n",
              "      <td>cond-mat</td>\n",
              "      <td>NaN</td>\n",
              "    </tr>\n",
              "    <tr>\n",
              "      <th>1</th>\n",
              "      <td>exactly solvable model 4+1d beyond cohomology ...</td>\n",
              "      <td>construct exactly solvable commuting projector...</td>\n",
              "      <td>cond-mat</td>\n",
              "      <td>NaN</td>\n",
              "    </tr>\n",
              "    <tr>\n",
              "      <th>2</th>\n",
              "      <td>n independent localized krylov bogoliubov de g...</td>\n",
              "      <td>propose ultra fast numerical approach large sc...</td>\n",
              "      <td>cond-mat</td>\n",
              "      <td>NaN</td>\n",
              "    </tr>\n",
              "    <tr>\n",
              "      <th>3</th>\n",
              "      <td>molding 3d curved structures selective heating</td>\n",
              "      <td>interest fabricate curved surfaces three dimen...</td>\n",
              "      <td>cond-mat</td>\n",
              "      <td>NaN</td>\n",
              "    </tr>\n",
              "    <tr>\n",
              "      <th>4</th>\n",
              "      <td>piezoelectric properties substitutionally dope...</td>\n",
              "      <td>modern semiconductor materials increasingly us...</td>\n",
              "      <td>cond-mat</td>\n",
              "      <td>NaN</td>\n",
              "    </tr>\n",
              "  </tbody>\n",
              "</table>\n",
              "</div>\n",
              "      <button class=\"colab-df-convert\" onclick=\"convertToInteractive('df-22b3cb51-22be-4bcc-ae82-acedd8dc4cb7')\"\n",
              "              title=\"Convert this dataframe to an interactive table.\"\n",
              "              style=\"display:none;\">\n",
              "        \n",
              "  <svg xmlns=\"http://www.w3.org/2000/svg\" height=\"24px\"viewBox=\"0 0 24 24\"\n",
              "       width=\"24px\">\n",
              "    <path d=\"M0 0h24v24H0V0z\" fill=\"none\"/>\n",
              "    <path d=\"M18.56 5.44l.94 2.06.94-2.06 2.06-.94-2.06-.94-.94-2.06-.94 2.06-2.06.94zm-11 1L8.5 8.5l.94-2.06 2.06-.94-2.06-.94L8.5 2.5l-.94 2.06-2.06.94zm10 10l.94 2.06.94-2.06 2.06-.94-2.06-.94-.94-2.06-.94 2.06-2.06.94z\"/><path d=\"M17.41 7.96l-1.37-1.37c-.4-.4-.92-.59-1.43-.59-.52 0-1.04.2-1.43.59L10.3 9.45l-7.72 7.72c-.78.78-.78 2.05 0 2.83L4 21.41c.39.39.9.59 1.41.59.51 0 1.02-.2 1.41-.59l7.78-7.78 2.81-2.81c.8-.78.8-2.07 0-2.86zM5.41 20L4 18.59l7.72-7.72 1.47 1.35L5.41 20z\"/>\n",
              "  </svg>\n",
              "      </button>\n",
              "      \n",
              "  <style>\n",
              "    .colab-df-container {\n",
              "      display:flex;\n",
              "      flex-wrap:wrap;\n",
              "      gap: 12px;\n",
              "    }\n",
              "\n",
              "    .colab-df-convert {\n",
              "      background-color: #E8F0FE;\n",
              "      border: none;\n",
              "      border-radius: 50%;\n",
              "      cursor: pointer;\n",
              "      display: none;\n",
              "      fill: #1967D2;\n",
              "      height: 32px;\n",
              "      padding: 0 0 0 0;\n",
              "      width: 32px;\n",
              "    }\n",
              "\n",
              "    .colab-df-convert:hover {\n",
              "      background-color: #E2EBFA;\n",
              "      box-shadow: 0px 1px 2px rgba(60, 64, 67, 0.3), 0px 1px 3px 1px rgba(60, 64, 67, 0.15);\n",
              "      fill: #174EA6;\n",
              "    }\n",
              "\n",
              "    [theme=dark] .colab-df-convert {\n",
              "      background-color: #3B4455;\n",
              "      fill: #D2E3FC;\n",
              "    }\n",
              "\n",
              "    [theme=dark] .colab-df-convert:hover {\n",
              "      background-color: #434B5C;\n",
              "      box-shadow: 0px 1px 3px 1px rgba(0, 0, 0, 0.15);\n",
              "      filter: drop-shadow(0px 1px 2px rgba(0, 0, 0, 0.3));\n",
              "      fill: #FFFFFF;\n",
              "    }\n",
              "  </style>\n",
              "\n",
              "      <script>\n",
              "        const buttonEl =\n",
              "          document.querySelector('#df-22b3cb51-22be-4bcc-ae82-acedd8dc4cb7 button.colab-df-convert');\n",
              "        buttonEl.style.display =\n",
              "          google.colab.kernel.accessAllowed ? 'block' : 'none';\n",
              "\n",
              "        async function convertToInteractive(key) {\n",
              "          const element = document.querySelector('#df-22b3cb51-22be-4bcc-ae82-acedd8dc4cb7');\n",
              "          const dataTable =\n",
              "            await google.colab.kernel.invokeFunction('convertToInteractive',\n",
              "                                                     [key], {});\n",
              "          if (!dataTable) return;\n",
              "\n",
              "          const docLinkHtml = 'Like what you see? Visit the ' +\n",
              "            '<a target=\"_blank\" href=https://colab.research.google.com/notebooks/data_table.ipynb>data table notebook</a>'\n",
              "            + ' to learn more about interactive tables.';\n",
              "          element.innerHTML = '';\n",
              "          dataTable['output_type'] = 'display_data';\n",
              "          await google.colab.output.renderOutput(dataTable, element);\n",
              "          const docLink = document.createElement('div');\n",
              "          docLink.innerHTML = docLinkHtml;\n",
              "          element.appendChild(docLink);\n",
              "        }\n",
              "      </script>\n",
              "    </div>\n",
              "  </div>\n",
              "  "
            ]
          },
          "metadata": {},
          "execution_count": 47
        }
      ]
    },
    {
      "cell_type": "code",
      "source": [
        "#Let's see how the data distribution has become\n",
        "final_df['category'].value_counts()"
      ],
      "metadata": {
        "colab": {
          "base_uri": "https://localhost:8080/"
        },
        "id": "8v7T_lMa8M3l",
        "outputId": "47f98cad-676f-4588-b8f3-3d53f3a50e7d"
      },
      "execution_count": null,
      "outputs": [
        {
          "output_type": "execute_result",
          "data": {
            "text/plain": [
              "cond-mat    42786\n",
              "math        42786\n",
              "cs          42786\n",
              "physics     38243\n",
              "astro-ph    38039\n",
              "stat        22745\n",
              "gr-qc       17324\n",
              "quant-ph    16020\n",
              "eess        15843\n",
              "hep-ph      11400\n",
              "q-bio       11330\n",
              "hep-th      10690\n",
              "hep-ex       7900\n",
              "math-ph      7644\n",
              "nucl-th      7034\n",
              "q-fin        6106\n",
              "nlin         5788\n",
              "econ         4100\n",
              "nucl-ex      3576\n",
              "hep-lat      2264\n",
              "Name: category, dtype: int64"
            ]
          },
          "metadata": {},
          "execution_count": 48
        }
      ]
    },
    {
      "cell_type": "code",
      "source": [
        "#Finally, our dataset looks much better \n",
        "#Dataset has become way more balaned than original one"
      ],
      "metadata": {
        "id": "G10W1s2i8M5t"
      },
      "execution_count": null,
      "outputs": []
    },
    {
      "cell_type": "markdown",
      "source": [
        "Now, let's preprocess our text data so that they can be used with RNN model"
      ],
      "metadata": {
        "id": "6Cqi88uV9YvB"
      }
    },
    {
      "cell_type": "code",
      "source": [
        "#Create features and labels\n",
        "X1 = final_df['title'].values\n",
        "X2 = final_df['abstract'].values\n",
        "labels = final_df['category'].values\n",
        "texts = X1+X2"
      ],
      "metadata": {
        "id": "bpIR13Vq8M7v"
      },
      "execution_count": null,
      "outputs": []
    },
    {
      "cell_type": "code",
      "source": [
        "texts[:3]"
      ],
      "metadata": {
        "colab": {
          "base_uri": "https://localhost:8080/"
        },
        "id": "nvS2YhGDir2c",
        "outputId": "c60634f7-18f1-4792-cf26-63f36f5f1bda"
      },
      "execution_count": null,
      "outputs": [
        {
          "output_type": "execute_result",
          "data": {
            "text/plain": [
              "array(['noise noise ratios correlation length calculations near criticalityfinite random systems possible define two types variances noises demonstrated ratio useful calculating correlation length infinite rather general random system function temperature numerical method obtaining variables relevant real space numerical renormalization simulation method matter correlation length obtained novel technique may used obtain directly critical correlation exponent nu rather indirectly using scaling relations often done method demonstrated applying random field ising model',\n",
              "       'exactly solvable model 4+1d beyond cohomology symmetry protected topological phaseconstruct exactly solvable commuting projector model 4+1 dimensional mathbb z _2 symmetry protected topological phase spt outside cohomology classification spts model described decorated domain wall construction three fermion walker wang phases domain walls describe anomalous nature phase several ways one interesting feature contrast cohomology phases effective mathbb z _2 symmetry 3+1 dimensional boundary cannot described quantum circuit instead nontrivial quantum cellular automaton qca related property codimension two defect example termination mathbb z _2 domain wall trivial boundary carry nontrivial chiral central charge 4 mod 8 also construct gapped symmetric topologically ordered boundary state model constitutes anomalous symmetry enriched topological phase outside classification arxiv 1602 00187 define corresponding anomaly indicator',\n",
              "       'n independent localized krylov bogoliubov de gennes method ultra fast numerical approach large scale inhomogeneous superconductorspropose ultra fast numerical approach large scale inhomogeneous superconductors call localized krylov bogoliubov de gennes method lk bdg lk bdg method computational complexity local green function used calculate local density states mean fields depend system size n calculation cost self consistent calculations cal n enables us open new avenue treating extremely large systems millions lattice sites show power lk bdg method demonstrate self consistent calculation 143806 site penrose quasicrystal lattice vortex calculation 1016064 site two dimensional nearest neighbor square lattice tight binding model many vortices also demonstrate takes less 30 seconds one cpu core calculate local density states whole energy range 100 millions site tight binding model'],\n",
              "      dtype=object)"
            ]
          },
          "metadata": {},
          "execution_count": 51
        }
      ]
    },
    {
      "cell_type": "code",
      "source": [
        "labels"
      ],
      "metadata": {
        "colab": {
          "base_uri": "https://localhost:8080/"
        },
        "id": "wm-xpejm8M9m",
        "outputId": "9082684e-3443-4a22-89a2-b72c23945023"
      },
      "execution_count": null,
      "outputs": [
        {
          "output_type": "execute_result",
          "data": {
            "text/plain": [
              "array(['cond-mat', 'cond-mat', 'cond-mat', ..., 'quant-ph', 'nucl-th',\n",
              "       'q-fin'], dtype=object)"
            ]
          },
          "metadata": {},
          "execution_count": 52
        }
      ]
    },
    {
      "cell_type": "code",
      "source": [
        "num_classes = len(set(labels))\n",
        "num_classes"
      ],
      "metadata": {
        "colab": {
          "base_uri": "https://localhost:8080/"
        },
        "id": "1gk6S7ijjDER",
        "outputId": "ecbbe696-10cf-4c69-8e53-4a30fce6b799"
      },
      "execution_count": null,
      "outputs": [
        {
          "output_type": "execute_result",
          "data": {
            "text/plain": [
              "20"
            ]
          },
          "metadata": {},
          "execution_count": 53
        }
      ]
    },
    {
      "cell_type": "code",
      "source": [
        "from keras.utils import to_categorical"
      ],
      "metadata": {
        "id": "uEnByB3SkpJy"
      },
      "execution_count": null,
      "outputs": []
    },
    {
      "cell_type": "code",
      "source": [
        "from sklearn.preprocessing import LabelEncoder\n",
        "le = LabelEncoder()\n",
        "label = le.fit_transform(labels)\n",
        "labels = to_categorical(label, num_classes=num_classes)"
      ],
      "metadata": {
        "id": "1IyraVLqkdbf"
      },
      "execution_count": null,
      "outputs": []
    },
    {
      "cell_type": "code",
      "source": [
        "# Split the dataset into train and validation sets\n",
        "from sklearn.model_selection import train_test_split\n",
        "x_train, x_test, y_train, y_test = train_test_split(texts, labels, test_size=0.2)"
      ],
      "metadata": {
        "id": "FeJ1yfQXj6z5"
      },
      "execution_count": null,
      "outputs": []
    },
    {
      "cell_type": "code",
      "source": [
        "#Let's use embedding (transfer learning)\n",
        "embedding = \"https://tfhub.dev/google/nnlm-en-dim50/2\""
      ],
      "metadata": {
        "id": "A84M3p9dh665"
      },
      "execution_count": null,
      "outputs": []
    },
    {
      "cell_type": "code",
      "source": [
        "import tensorflow as tf\n",
        "import tensorflow_hub as hub"
      ],
      "metadata": {
        "id": "ovGMvhcKiPms"
      },
      "execution_count": null,
      "outputs": []
    },
    {
      "cell_type": "code",
      "source": [
        "hub_layer = hub.KerasLayer(embedding, input_shape=[], \n",
        "                           dtype=tf.string, trainable=True)"
      ],
      "metadata": {
        "id": "IzwUpLnMh69F"
      },
      "execution_count": null,
      "outputs": []
    },
    {
      "cell_type": "code",
      "source": [
        "hub_layer(texts[:2])"
      ],
      "metadata": {
        "colab": {
          "base_uri": "https://localhost:8080/"
        },
        "id": "P1RAQIVsh6_g",
        "outputId": "ac2f80e3-ae28-40d3-f3db-334fc108f8b5"
      },
      "execution_count": null,
      "outputs": [
        {
          "output_type": "execute_result",
          "data": {
            "text/plain": [
              "<tf.Tensor: shape=(2, 50), dtype=float32, numpy=\n",
              "array([[ 0.2638609 , -0.648248  ,  0.04562868, -0.1098823 , -0.92329437,\n",
              "         0.01212508, -0.07654637,  0.51811534, -0.85796744,  0.22006276,\n",
              "         0.1465915 ,  0.1276213 ,  0.41004127, -0.6429013 , -0.22879317,\n",
              "         0.03863403,  0.53961587, -0.65017843,  0.5105376 , -0.19373696,\n",
              "        -0.09167836,  0.6161594 ,  0.74786407, -0.5461729 ,  0.14825577,\n",
              "        -0.3412995 ,  0.18156204,  0.12870674,  0.57867944, -0.24376369,\n",
              "         0.20244218,  0.2578369 , -0.05890707, -0.44663632, -0.02562065,\n",
              "        -0.5357646 ,  0.21947797, -0.82818544,  0.13461113, -0.17218427,\n",
              "         0.21569908,  0.78059995,  0.5461602 ,  0.42031473, -0.02079179,\n",
              "        -0.4855936 , -0.4417702 ,  0.19496305,  1.2824659 ,  0.3102327 ],\n",
              "       [ 0.3061093 , -1.1763316 ,  0.10156738, -0.02282763, -0.97332066,\n",
              "         0.00179538, -0.21293318,  0.57153076, -1.2882497 ,  0.3619177 ,\n",
              "        -0.29259357,  0.20599037,  0.30590296, -0.1680086 ,  0.09479449,\n",
              "         0.11566195,  1.0192587 , -0.3403078 ,  0.48184836, -0.09655407,\n",
              "        -0.03428933,  0.42428878,  0.6264402 ,  0.27022278, -0.0233808 ,\n",
              "        -0.34873646,  0.65670395,  0.01319086,  0.23756003, -0.21673392,\n",
              "         0.11742662,  0.25514844, -0.38772157, -0.25383008,  0.28831053,\n",
              "        -0.955004  , -0.04114776, -0.41321445, -0.0465987 , -0.24617253,\n",
              "         0.03867817,  0.3550641 , -0.00976251,  0.5746837 , -0.1777473 ,\n",
              "        -0.38872197, -0.01908805,  0.24302848,  1.3741233 ,  0.02701069]],\n",
              "      dtype=float32)>"
            ]
          },
          "metadata": {},
          "execution_count": 60
        }
      ]
    },
    {
      "cell_type": "code",
      "source": [
        "#Now, let's build the model\n",
        "model = tf.keras.Sequential()\n",
        "model.add(hub_layer)\n",
        "model.add(tf.keras.layers.Dense(16, activation='relu'))\n",
        "model.add(tf.keras.layers.Dense(num_classes, activation='softmax'))\n",
        "\n",
        "model.summary()"
      ],
      "metadata": {
        "colab": {
          "base_uri": "https://localhost:8080/"
        },
        "id": "Ob4bJI8Sh7BI",
        "outputId": "ca96f449-d8ef-445d-bfbc-17d556f377c8"
      },
      "execution_count": null,
      "outputs": [
        {
          "output_type": "stream",
          "name": "stdout",
          "text": [
            "Model: \"sequential\"\n",
            "_________________________________________________________________\n",
            " Layer (type)                Output Shape              Param #   \n",
            "=================================================================\n",
            " keras_layer (KerasLayer)    (None, 50)                48190600  \n",
            "                                                                 \n",
            " dense (Dense)               (None, 16)                816       \n",
            "                                                                 \n",
            " dense_1 (Dense)             (None, 20)                340       \n",
            "                                                                 \n",
            "=================================================================\n",
            "Total params: 48,191,756\n",
            "Trainable params: 48,191,756\n",
            "Non-trainable params: 0\n",
            "_________________________________________________________________\n"
          ]
        }
      ]
    },
    {
      "cell_type": "code",
      "source": [
        "#Compile the model\n",
        "model.compile(optimizer='adam',\n",
        "              loss=tf.keras.losses.BinaryCrossentropy(from_logits=True),\n",
        "              metrics=['accuracy'])"
      ],
      "metadata": {
        "id": "NuRGMa1uh7DS"
      },
      "execution_count": null,
      "outputs": []
    },
    {
      "cell_type": "code",
      "source": [
        "#Train the model\n",
        "history = model.fit(x_train, y_train, validation_data=(x_test, y_test), epochs = 10)"
      ],
      "metadata": {
        "id": "XvRL62UwlYVu",
        "colab": {
          "base_uri": "https://localhost:8080/"
        },
        "outputId": "2cd98b8e-5f09-425f-c682-8fabd8099087"
      },
      "execution_count": null,
      "outputs": [
        {
          "output_type": "stream",
          "name": "stdout",
          "text": [
            "Epoch 1/10\n"
          ]
        },
        {
          "output_type": "stream",
          "name": "stderr",
          "text": [
            "/usr/local/lib/python3.8/dist-packages/tensorflow/python/util/dispatch.py:1082: UserWarning: \"`binary_crossentropy` received `from_logits=True`, but the `output` argument was produced by a sigmoid or softmax activation and thus does not represent logits. Was this intended?\"\n",
            "  return dispatch_target(*args, **kwargs)\n"
          ]
        },
        {
          "output_type": "stream",
          "name": "stdout",
          "text": [
            "8861/8861 [==============================] - 289s 32ms/step - loss: 0.0860 - accuracy: 0.6682 - val_loss: 0.0693 - val_accuracy: 0.7200\n",
            "Epoch 2/10\n",
            "8861/8861 [==============================] - 285s 32ms/step - loss: 0.0623 - accuracy: 0.7493 - val_loss: 0.0685 - val_accuracy: 0.7206\n",
            "Epoch 3/10\n",
            "8861/8861 [==============================] - 285s 32ms/step - loss: 0.0565 - accuracy: 0.7750 - val_loss: 0.0699 - val_accuracy: 0.7199\n",
            "Epoch 4/10\n",
            "8861/8861 [==============================] - 284s 32ms/step - loss: 0.0525 - accuracy: 0.7948 - val_loss: 0.0721 - val_accuracy: 0.7150\n",
            "Epoch 5/10\n",
            "8861/8861 [==============================] - 285s 32ms/step - loss: 0.0492 - accuracy: 0.8101 - val_loss: 0.0750 - val_accuracy: 0.7084\n",
            "Epoch 6/10\n",
            "8861/8861 [==============================] - 285s 32ms/step - loss: 0.0464 - accuracy: 0.8238 - val_loss: 0.0794 - val_accuracy: 0.7024\n",
            "Epoch 7/10\n",
            "8861/8861 [==============================] - 284s 32ms/step - loss: 0.0438 - accuracy: 0.8354 - val_loss: 0.0823 - val_accuracy: 0.7004\n",
            "Epoch 8/10\n",
            "8861/8861 [==============================] - 286s 32ms/step - loss: 0.0415 - accuracy: 0.8466 - val_loss: 0.0875 - val_accuracy: 0.6949\n",
            "Epoch 9/10\n",
            "8861/8861 [==============================] - 287s 32ms/step - loss: 0.0394 - accuracy: 0.8565 - val_loss: 0.0920 - val_accuracy: 0.6904\n",
            "Epoch 10/10\n",
            "8861/8861 [==============================] - 286s 32ms/step - loss: 0.0374 - accuracy: 0.8656 - val_loss: 0.0970 - val_accuracy: 0.6860\n"
          ]
        }
      ]
    },
    {
      "cell_type": "code",
      "source": [
        "from keras.models import load_model\n",
        "\n",
        "# Save the model\n",
        "model.save('model1.h5')\n"
      ],
      "metadata": {
        "id": "FOJzSZo0BQ3j"
      },
      "execution_count": null,
      "outputs": []
    },
    {
      "cell_type": "code",
      "source": [
        "# Download the model file\n",
        "# from google.colab import files\n",
        "# files.download('model1.h5')\n",
        "\n",
        "loaded_model = load_model(('/content/model1.h5'), custom_objects={'KerasLayer':hub.KerasLayer})"
      ],
      "metadata": {
        "id": "3xViZ1A2UDT6"
      },
      "execution_count": null,
      "outputs": []
    },
    {
      "cell_type": "code",
      "source": [
        "!cp model1.h5 drive/MyDrive/Colab\\ Notebooks/model1.h5"
      ],
      "metadata": {
        "id": "fBYBCGWQeonl"
      },
      "execution_count": null,
      "outputs": []
    },
    {
      "cell_type": "code",
      "source": [],
      "metadata": {
        "id": "DMkZBG_33dwm"
      },
      "execution_count": null,
      "outputs": []
    }
  ]
}